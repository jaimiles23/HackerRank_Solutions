{
 "cells": [
  {
   "cell_type": "markdown",
   "metadata": {},
   "source": [
    "Solution to: [Day 5: Normal Distribution II](https://www.hackerrank.com/challenges/s10-normal-distribution-2/problem)"
   ]
  },
  {
   "cell_type": "markdown",
   "metadata": {},
   "source": [
    "<h1 id=\"tocheading\">Table of Contents</h1>\n",
    "<div id=\"toc\"></div>\n",
    "\n",
    "- Table of Contents\n",
    "- Solution\n",
    "    - Imports\n",
    "    - Input\n",
    "    - Error Function\n",
    "    - Cumulative Probability\n",
    "    - Format\n",
    "    - Main"
   ]
  },
  {
   "cell_type": "code",
   "execution_count": 1,
   "metadata": {},
   "outputs": [
    {
     "data": {
      "application/javascript": [
       "$.getScript('https://kmahelona.github.io/ipython_notebook_goodies/ipython_notebook_toc.js')\n"
      ],
      "text/plain": [
       "<IPython.core.display.Javascript object>"
      ]
     },
     "metadata": {},
     "output_type": "display_data"
    }
   ],
   "source": [
    "%%javascript\n",
    "$.getScript('https://kmahelona.github.io/ipython_notebook_goodies/ipython_notebook_toc.js')"
   ]
  },
  {
   "cell_type": "markdown",
   "metadata": {},
   "source": [
    "# Solution"
   ]
  },
  {
   "cell_type": "markdown",
   "metadata": {},
   "source": [
    "## Imports"
   ]
  },
  {
   "cell_type": "code",
   "execution_count": 2,
   "metadata": {},
   "outputs": [],
   "source": [
    "import math\n",
    "from typing import Tuple"
   ]
  },
  {
   "cell_type": "markdown",
   "metadata": {},
   "source": [
    "## Input"
   ]
  },
  {
   "cell_type": "code",
   "execution_count": 3,
   "metadata": {},
   "outputs": [],
   "source": [
    "def get_input() -> Tuple[int, int, int, int]:\n",
    "\t\"\"\"Returns input for Normal Dist II.\n",
    "\n",
    "\tReturns:\n",
    "\t\tTuple[int, int, int, int]: mean, sd, high_score, pass_threshold, respectively.\n",
    "\t\"\"\"\n",
    "\treturn 70, 10, 80, 60\n",
    "\tmean, sd = [int(val) for val in input().split()]\n",
    "\thigh_grade = int(input())\n",
    "\tpass_threshold = int(input())\n",
    "\treturn mean, sd, high_grade, pass_threshold"
   ]
  },
  {
   "cell_type": "markdown",
   "metadata": {},
   "source": [
    "## Error Function"
   ]
  },
  {
   "cell_type": "code",
   "execution_count": 4,
   "metadata": {},
   "outputs": [],
   "source": [
    "def erf(x: int) -> float:\n",
    "\t\"\"\"Returns probability that random variable will be within range -x:x.\n",
    "\n",
    "\tArgs:\n",
    "\t\tx (int): Random number to calculate error function\n",
    "\n",
    "\tReturns:\n",
    "\t\tfloat: Represents probability that random variable will be in range of x\n",
    "\t\n",
    "\tNOTE:\n",
    "\t\t- Implementation taken from [here](https://www.johndcook.com/blog/python_erf/)\n",
    "\t\"\"\"\n",
    "\tconstants = (\n",
    "\t\t1.061405429,\n",
    "\t\t-1.453152027,\n",
    "\t\t1.421413741,\n",
    "\t\t-0.284496736,\n",
    "\t\t0.254829592,\n",
    "\t)\n",
    "\tp = 0.3275911\n",
    "\tsign = 1 if x >= 0 else -1\n",
    "\tx = abs(x)\n",
    "\tt = 1 / (1 + p * x)\n",
    "\ty = 0\n",
    "\n",
    "\tfor c in constants: y = (y + c) * t\n",
    "\ty = 1 - (y * math.e ** (-x * x))\n",
    "\treturn (y * sign)"
   ]
  },
  {
   "cell_type": "markdown",
   "metadata": {},
   "source": [
    "## Cumulative Probability"
   ]
  },
  {
   "cell_type": "code",
   "execution_count": 5,
   "metadata": {},
   "outputs": [],
   "source": [
    "def calc_norm_cum_prob(number: int, mean: int, sd: int) -> float:\n",
    "\t\"\"\"Returns cumulative probability of number from normal distribution\n",
    "\n",
    "\tArgs:\n",
    "\t\tnumber (int): Number to calc cum prob for\n",
    "\t\tmean (int): Mean of the sample\n",
    "\t\tsd (int): Standard deviation of the sample\n",
    "\n",
    "\tReturns:\n",
    "\t\tfloat: Cumulative probability\n",
    "\t\"\"\"\n",
    "\tz = (number - mean) / (sd * 2 ** (1/2))\n",
    "\tcum_prob = 1/2 * ( 1 + erf(z))\n",
    "\treturn cum_prob"
   ]
  },
  {
   "cell_type": "markdown",
   "metadata": {},
   "source": [
    "## Format"
   ]
  },
  {
   "cell_type": "code",
   "execution_count": 6,
   "metadata": {},
   "outputs": [],
   "source": [
    "def print_to_scale(num: float) -> float:\n",
    "\t\"\"\"Prints number to 3 decimal scale\n",
    "\n",
    "\tArgs:\n",
    "\t\tnum (float): Number to format\n",
    "\n",
    "\tReturns:\n",
    "\t\tfloat: Formatted number\n",
    "\t\"\"\"\n",
    "\tprint(f'{num:.2f}')"
   ]
  },
  {
   "cell_type": "markdown",
   "metadata": {},
   "source": [
    "## Main"
   ]
  },
  {
   "cell_type": "code",
   "execution_count": 7,
   "metadata": {
    "lines_to_next_cell": 2
   },
   "outputs": [],
   "source": [
    "def main():\n",
    "\tmean, sd, high_grade, pass_threshold = get_input()\n",
    "\n",
    "\t## % of students > high_grade\n",
    "\thigh_test_grade = 1 - calc_norm_cum_prob(high_grade, mean, sd)\n",
    "\n",
    "\t## % of students failed test\n",
    "\tfailed_test = calc_norm_cum_prob(pass_threshold, mean, sd)\n",
    "\n",
    "\t## % students passed test\n",
    "\tpassed_test = 1 - failed_test\n",
    "\toutput = [high_test_grade, passed_test, failed_test]\n",
    "\toutput = [val * 100 for val in output]\n",
    "\n",
    "\tfor o in output: print_to_scale(o)"
   ]
  },
  {
   "cell_type": "code",
   "execution_count": 8,
   "metadata": {},
   "outputs": [
    {
     "name": "stdout",
     "output_type": "stream",
     "text": [
      "15.87\n",
      "84.13\n",
      "15.87\n"
     ]
    }
   ],
   "source": [
    "if __name__ == \"__main__\":\n",
    "\tmain()"
   ]
  }
 ],
 "metadata": {
  "jupytext": {
   "cell_metadata_filter": "-all",
   "notebook_metadata_filter": "-all",
   "text_representation": {
    "extension": ".py",
    "format_name": "light"
   }
  },
  "kernelspec": {
   "display_name": "Python 3",
   "language": "python",
   "name": "python3"
  },
  "language_info": {
   "codemirror_mode": {
    "name": "ipython",
    "version": 3
   },
   "file_extension": ".py",
   "mimetype": "text/x-python",
   "name": "python",
   "nbconvert_exporter": "python",
   "pygments_lexer": "ipython3",
   "version": "3.8.3"
  }
 },
 "nbformat": 4,
 "nbformat_minor": 4
}
