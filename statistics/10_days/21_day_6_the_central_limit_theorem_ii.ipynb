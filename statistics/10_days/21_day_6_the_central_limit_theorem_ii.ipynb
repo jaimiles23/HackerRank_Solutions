{
 "cells": [
  {
   "cell_type": "markdown",
   "metadata": {},
   "source": [
    "Solution to: [Day 6: The Central Limit Theorem II](https://www.hackerrank.com/challenges/s10-the-central-limit-theorem-2/problem)"
   ]
  },
  {
   "cell_type": "markdown",
   "metadata": {},
   "source": [
    "<h1 id=\"tocheading\">Table of Contents</h1>\n",
    "<div id=\"toc\"></div>"
   ]
  },
  {
   "cell_type": "code",
   "execution_count": 1,
   "metadata": {},
   "outputs": [
    {
     "data": {
      "application/javascript": [
       "$.getScript('https://kmahelona.github.io/ipython_notebook_goodies/ipython_notebook_toc.js')\n"
      ],
      "text/plain": [
       "<IPython.core.display.Javascript object>"
      ]
     },
     "metadata": {},
     "output_type": "display_data"
    }
   ],
   "source": [
    "%%javascript\n",
    "$.getScript('https://kmahelona.github.io/ipython_notebook_goodies/ipython_notebook_toc.js')"
   ]
  },
  {
   "cell_type": "markdown",
   "metadata": {},
   "source": [
    "# Solution\n",
    "This solution uses a characteristic of a normal distribution that ANY summary statistic will follow a normal dist.\n",
    "\n",
    "Thus, this script uses a CDF (Cumulative Density Function) to calculate the cumulative probability of returning the sum of the total number of tickets to be $\\leq$ 250"
   ]
  },
  {
   "cell_type": "markdown",
   "metadata": {},
   "source": [
    "## Imports"
   ]
  },
  {
   "cell_type": "code",
   "execution_count": 2,
   "metadata": {},
   "outputs": [],
   "source": [
    "import math\n",
    "from typing import Tuple"
   ]
  },
  {
   "cell_type": "markdown",
   "metadata": {},
   "source": [
    "## Input"
   ]
  },
  {
   "cell_type": "code",
   "execution_count": 3,
   "metadata": {},
   "outputs": [],
   "source": [
    "def get_input() -> Tuple[int, int, int, int]:\n",
    "\t\"\"\"Returns input for Central Limit Theorem II\n",
    "\n",
    "\tReturns:\n",
    "\t\tTuple[int, int, int, int]: num_tickets, students, mean, sd, respectivel\n",
    "\t\"\"\"\n",
    "\treturn 250, 100, 2.4, 2"
   ]
  },
  {
   "cell_type": "markdown",
   "metadata": {},
   "source": [
    "## Cumulative Density Function"
   ]
  },
  {
   "cell_type": "code",
   "execution_count": 4,
   "metadata": {},
   "outputs": [],
   "source": [
    "def erf(x: int) -> float:\n",
    "\t\"\"\"Returns probability that random var in range defined by x\n",
    "\n",
    "\tArgs:\n",
    "\t\tx (int): number to calculate err\n",
    "\n",
    "\tReturns:\n",
    "\t\tfloat: probability that random var falls in range\n",
    "\t\"\"\"\n",
    "\tconstants = (\n",
    "\t\t1.061405429,\n",
    "\t\t-1.453152027,\n",
    "\t\t1.421413741,\n",
    "\t\t-0.284496736,\n",
    "\t\t0.254829592\n",
    "\t)\n",
    "\n",
    "\tp  =  0.3275911\n",
    "\tsign = 1 if x >= 0 else -1\n",
    "\tx = abs(x)\n",
    "\tt = 1 / (1 + p * x)\n",
    "\ty = 0\n",
    "\n",
    "\tfor c in constants: y = (y + c) * t\n",
    "\ty = 1 - (y * math.exp(-x*x))\n",
    "\n",
    "\treturn sign * y"
   ]
  },
  {
   "cell_type": "code",
   "execution_count": 5,
   "metadata": {},
   "outputs": [],
   "source": [
    "def calc_cum_prob_norm_dist(num: int, mean: int, sd: int) -> float:\n",
    "\t\"\"\"Returns cumulative probability `num` in a normal distribution\n",
    "\n",
    "\tArgs:\n",
    "\t\tnum (int): number to calculate cumulative probability to\n",
    "\t\tmean (int): sample mean\n",
    "\t\tsd (int): sample std\n",
    "\n",
    "\tReturns:\n",
    "\t\tfloat: cum probability up to num\n",
    "\t\"\"\"\n",
    "\tz = (num - mean) / (sd * 2 ** (1/2))\n",
    "\treturn 1/2 * (1 + erf(z))"
   ]
  },
  {
   "cell_type": "code",
   "execution_count": 6,
   "metadata": {},
   "outputs": [],
   "source": [
    "def print_to_scale(num: int) -> None:\n",
    "\t\"\"\"Prints number to 4 decimal places\n",
    "\n",
    "\tArgs:\n",
    "\t\tnum (int): Number to print\n",
    "\t\"\"\"\n",
    "\tprint(f\"{num :.4f}\")"
   ]
  },
  {
   "cell_type": "markdown",
   "metadata": {},
   "source": [
    "## Main"
   ]
  },
  {
   "cell_type": "code",
   "execution_count": 7,
   "metadata": {
    "lines_to_next_cell": 2
   },
   "outputs": [],
   "source": [
    "def main():\n",
    "\n",
    "\t## Input\n",
    "\ttickets, students, mean_tickets, sd_tickets = get_input()\n",
    "\n",
    "\t## Summary stats to calculate cum prob\n",
    "\tsum_norm_dist = students * mean_tickets\n",
    "\tsd_norm_dist = students ** (1/2) * sd_tickets\n",
    "\n",
    "\t## Find cumulative dist\n",
    "\tcum_prob = calc_cum_prob_norm_dist(tickets, sum_norm_dist, sd_norm_dist)\n",
    "\n",
    "\tprint_to_scale(cum_prob)"
   ]
  },
  {
   "cell_type": "code",
   "execution_count": 8,
   "metadata": {},
   "outputs": [
    {
     "name": "stdout",
     "output_type": "stream",
     "text": [
      "0.6915\n"
     ]
    }
   ],
   "source": [
    "if __name__ == \"__main__\":\n",
    "\tmain()"
   ]
  }
 ],
 "metadata": {
  "jupytext": {
   "cell_metadata_filter": "-all",
   "notebook_metadata_filter": "-all",
   "text_representation": {
    "extension": ".py",
    "format_name": "light"
   }
  },
  "kernelspec": {
   "display_name": "Python 3",
   "language": "python",
   "name": "python3"
  },
  "language_info": {
   "codemirror_mode": {
    "name": "ipython",
    "version": 3
   },
   "file_extension": ".py",
   "mimetype": "text/x-python",
   "name": "python",
   "nbconvert_exporter": "python",
   "pygments_lexer": "ipython3",
   "version": "3.8.3"
  }
 },
 "nbformat": 4,
 "nbformat_minor": 4
}
