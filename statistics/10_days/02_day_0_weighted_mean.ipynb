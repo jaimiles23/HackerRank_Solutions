{
 "cells": [
  {
   "cell_type": "markdown",
   "metadata": {},
   "source": [
    "Solution to: [Day 0: Weighted Mean](https://www.hackerrank.com/challenges/s10-weighted-mean)"
   ]
  },
  {
   "cell_type": "markdown",
   "metadata": {},
   "source": [
    "<h1 id=\"tocheading\">Table of Contents</h1>\n",
    "<div id=\"toc\"></div>"
   ]
  },
  {
   "cell_type": "code",
   "execution_count": 1,
   "metadata": {},
   "outputs": [
    {
     "data": {
      "application/javascript": [
       "$.getScript('https://kmahelona.github.io/ipython_notebook_goodies/ipython_notebook_toc.js')\n"
      ],
      "text/plain": [
       "<IPython.core.display.Javascript object>"
      ]
     },
     "metadata": {},
     "output_type": "display_data"
    }
   ],
   "source": [
    "%%javascript\n",
    "$.getScript('https://kmahelona.github.io/ipython_notebook_goodies/ipython_notebook_toc.js')"
   ]
  },
  {
   "cell_type": "markdown",
   "metadata": {},
   "source": [
    "\n",
    "## Wiki definition\n",
    "The weighted arithmetic mean is similar to an ordinary arithmetic mean (the most common type of average), \n",
    "except that instead of each of the data points contributing equally to the final average, some data points contribute more than others. \n",
    "\n",
    "The notion of weighted mean plays a role in descriptive statistics and also occurs in a more general form in several other areas of mathematics.\n",
    "\n",
    "If all the weights are equal, then the weighted mean is the same as the arithmetic mean. \n"
   ]
  },
  {
   "cell_type": "markdown",
   "metadata": {},
   "source": [
    "## Equation\n",
    "\n",
    "\\begin{equation}\n",
    "\\huge\n",
    "\\mu_{w} = \\frac\n",
    "{\\sum_{i=1}^{n}(x_{i} * w_{i})}\n",
    "{\\sum_{i=1}^{n}w_{i}}\n",
    "\\end{equation}\n"
   ]
  },
  {
   "cell_type": "markdown",
   "metadata": {},
   "source": [
    "# Solution"
   ]
  },
  {
   "cell_type": "markdown",
   "metadata": {},
   "source": [
    "## Imports"
   ]
  },
  {
   "cell_type": "code",
   "execution_count": 2,
   "metadata": {},
   "outputs": [],
   "source": [
    "from typing import List, Tuple, Union"
   ]
  },
  {
   "cell_type": "markdown",
   "metadata": {},
   "source": [
    "## Constants"
   ]
  },
  {
   "cell_type": "code",
   "execution_count": 3,
   "metadata": {},
   "outputs": [],
   "source": [
    "SCALE = 1\t# number of decimals"
   ]
  },
  {
   "cell_type": "markdown",
   "metadata": {},
   "source": [
    "## Input"
   ]
  },
  {
   "cell_type": "code",
   "execution_count": 4,
   "metadata": {},
   "outputs": [],
   "source": [
    "def get_input() -> Tuple[int, list, list]:\n",
    "\t\"\"\"Returns 3 variabless:\n",
    "\t\tn: int, length of list\n",
    "\t\tnums: list, numbers to calculate\n",
    "\t\tweights: list, weight of numbers.\n",
    "\t\t\"\"\"\n",
    "\tn = int(input())\n",
    "\tnums = [int(val) for val in input().split()]\n",
    "\tweights = [int(val) for val in input().split()]\n",
    "\treturn (n, nums, weights)"
   ]
  },
  {
   "cell_type": "markdown",
   "metadata": {},
   "source": [
    "## Weighted mean"
   ]
  },
  {
   "cell_type": "code",
   "execution_count": 5,
   "metadata": {},
   "outputs": [],
   "source": [
    "def calc_weighted_mean(n: int, nums: List[int], weights: List[int]) -> float:\n",
    "\t\"\"\"Returns weighted mean from list of nums and weights with length n.\"\"\"\n",
    "\tassert (len(nums) == n) and (len(weights) == n)\n",
    "\n",
    "\tweighted_total = 0\n",
    "\tfor i in range(n):\n",
    "\t\tweighted_total += nums[i] * weights[i]\n",
    "\t\n",
    "\treturn format_scale( weighted_total / sum(weights))"
   ]
  },
  {
   "cell_type": "markdown",
   "metadata": {},
   "source": [
    "## Scale"
   ]
  },
  {
   "cell_type": "code",
   "execution_count": 6,
   "metadata": {},
   "outputs": [],
   "source": [
    "def format_scale(num: Union[int, float]) -> Union[int, float]:\n",
    "\tif isinstance(num, int):\n",
    "\t\treturn num\n",
    "\t\n",
    "\treturn round(num, 1)"
   ]
  },
  {
   "cell_type": "markdown",
   "metadata": {},
   "source": [
    "## Main"
   ]
  },
  {
   "cell_type": "code",
   "execution_count": 7,
   "metadata": {
    "lines_to_next_cell": 2
   },
   "outputs": [],
   "source": [
    "def main():\n",
    "\tn, nums, weights = get_input()\n",
    "\tprint( calc_weighted_mean(n, nums, weights))"
   ]
  },
  {
   "cell_type": "code",
   "execution_count": 8,
   "metadata": {},
   "outputs": [
    {
     "name": "stdout",
     "output_type": "stream",
     "text": [
      "5\n",
      "10 40 30 50 20\n",
      "1 2 3 4 5\n",
      "32.0\n"
     ]
    }
   ],
   "source": [
    "if __name__ == \"__main__\":\n",
    "\tmain()"
   ]
  }
 ],
 "metadata": {
  "jupytext": {
   "cell_metadata_filter": "-all",
   "notebook_metadata_filter": "-all",
   "text_representation": {
    "extension": ".py",
    "format_name": "light"
   }
  },
  "kernelspec": {
   "display_name": "Python 3",
   "language": "python",
   "name": "python3"
  },
  "language_info": {
   "codemirror_mode": {
    "name": "ipython",
    "version": 3
   },
   "file_extension": ".py",
   "mimetype": "text/x-python",
   "name": "python",
   "nbconvert_exporter": "python",
   "pygments_lexer": "ipython3",
   "version": "3.8.3"
  }
 },
 "nbformat": 4,
 "nbformat_minor": 4
}
