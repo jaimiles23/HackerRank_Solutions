{
 "cells": [
  {
   "cell_type": "markdown",
   "metadata": {},
   "source": [
    "Solution to: [Day 3: Drawing Marbles](https://www.hackerrank.com/challenges/s10-mcq-6/problem)"
   ]
  },
  {
   "cell_type": "markdown",
   "metadata": {},
   "source": [
    "<h1 id=\"tocheading\">Table of Contents</h1>\n",
    "<div id=\"toc\"></div>"
   ]
  },
  {
   "cell_type": "code",
   "execution_count": 1,
   "metadata": {},
   "outputs": [
    {
     "data": {
      "application/javascript": [
       "$.getScript('https://kmahelona.github.io/ipython_notebook_goodies/ipython_notebook_toc.js')\n"
      ],
      "text/plain": [
       "<IPython.core.display.Javascript object>"
      ]
     },
     "metadata": {},
     "output_type": "display_data"
    }
   ],
   "source": [
    "%%javascript\n",
    "$.getScript('https://kmahelona.github.io/ipython_notebook_goodies/ipython_notebook_toc.js')"
   ]
  },
  {
   "cell_type": "code",
   "execution_count": null,
   "metadata": {},
   "outputs": [],
   "source": [
    "\n",
    "This script contains 2 sections:\n",
    "\t1. Math solution to the problem\n",
    "\t2. Monte Carlo simulation of the problem\n",
    "\n",
    "\n",
    "##########\n",
    "# Math solution\n",
    "##########\n",
    "A bag contains 3 red marbles and 4 blue marbles. Then, 2 marbles are drawn from the bag, at random, without replacement. \n",
    "If the first marble drawn is red, what is the probability that the second marble is blue?\n",
    "\n",
    "# Facts\n",
    "- 7 marbles in the bag\n",
    "- 1st one is always red\n",
    "- P(B)?\n",
    "\n",
    "If the first one is always red, we don't calculate the probability of the 1st draw.\n",
    "Thus, we use the 6 remaining marbles.\n",
    "\tP(B) = 4/6\n",
    "\t\t= 2/3\n",
    "\n",
    " ]\n",
    " */\n",
    "\"\"\"\n",
    "##########\n",
    "# Monte Carlo\n",
    "##########"
   ]
  },
  {
   "cell_type": "markdown",
   "metadata": {},
   "source": [
    "#########\n",
    "Imports\n",
    "#########"
   ]
  },
  {
   "cell_type": "code",
   "execution_count": null,
   "metadata": {
    "lines_to_next_cell": 2
   },
   "outputs": [],
   "source": [
    "from typing import List\n",
    "import random"
   ]
  },
  {
   "cell_type": "markdown",
   "metadata": {},
   "source": [
    "#########\n",
    "Constants\n",
    "#########"
   ]
  },
  {
   "cell_type": "code",
   "execution_count": null,
   "metadata": {},
   "outputs": [],
   "source": [
    "MARBLE_DICT = {\n",
    "\t'r'\t:\t3,\n",
    "\t'b'\t:\t4\n",
    "}\n",
    "FIRST_MARBLE = 'r'\n",
    "SECOND_MARBLE = 'b'"
   ]
  },
  {
   "cell_type": "code",
   "execution_count": null,
   "metadata": {},
   "outputs": [],
   "source": [
    "##########\n",
    "# Aux\n",
    "##########\n",
    "def create_marble_bag(marbles: dict) -> List[str]:\n",
    "\t\"\"\"Returns list of marbles to draw from.\"\"\"\n",
    "\tbag = []\n",
    "\tfor k, v in marbles.items():\n",
    "\t\tm = [k for _ in range(v)]\n",
    "\t\tbag += m\n",
    "\treturn bag"
   ]
  },
  {
   "cell_type": "code",
   "execution_count": null,
   "metadata": {},
   "outputs": [],
   "source": [
    "def remove_first_marble(bag: List[str], marble: str) -> List[str]:\n",
    "\t\"\"\"Returns bag after removing marble.\"\"\"\n",
    "\tbag.remove(marble)\n",
    "\treturn bag"
   ]
  },
  {
   "cell_type": "code",
   "execution_count": null,
   "metadata": {},
   "outputs": [],
   "source": [
    "def check_second_marble(bag: List[str], marble: str) -> bool:\n",
    "\t\"\"\"Returns boolean if sample from bag is the marble.\"\"\"\n",
    "\treturn random.choice(bag) == marble"
   ]
  },
  {
   "cell_type": "code",
   "execution_count": null,
   "metadata": {},
   "outputs": [],
   "source": [
    "def get_ratio(bag: List[str], marble: str, iterations: int) -> float:\n",
    "\t\"\"\"Returns ratio of times sample from bag is marble.\"\"\"\n",
    "\twas_marble = 0\n",
    "\tfor _ in range(iterations):\n",
    "\t\tif check_second_marble(bag, marble):\n",
    "\t\t\twas_marble += 1\n",
    "\treturn was_marble / iterations"
   ]
  },
  {
   "cell_type": "markdown",
   "metadata": {},
   "source": [
    "#########\n",
    "Main\n",
    "#########"
   ]
  },
  {
   "cell_type": "code",
   "execution_count": null,
   "metadata": {
    "lines_to_next_cell": 2
   },
   "outputs": [],
   "source": [
    "def main():\n",
    "\tbag = create_marble_bag(MARBLE_DICT)\n",
    "\tbag = remove_first_marble(bag, FIRST_MARBLE)\n",
    "\n",
    "\titerations =  1000000\n",
    "\tratio = get_ratio(bag, SECOND_MARBLE, iterations)\n",
    "\tprint(ratio)"
   ]
  },
  {
   "cell_type": "code",
   "execution_count": null,
   "metadata": {},
   "outputs": [],
   "source": [
    "if __name__ == \"__main__\":\n",
    "\tmain()"
   ]
  }
 ],
 "metadata": {
  "jupytext": {
   "cell_metadata_filter": "-all",
   "notebook_metadata_filter": "-all",
   "text_representation": {
    "extension": ".py",
    "format_name": "light"
   }
  },
  "kernelspec": {
   "display_name": "Python 3",
   "language": "python",
   "name": "python3"
  },
  "language_info": {
   "codemirror_mode": {
    "name": "ipython",
    "version": 3
   },
   "file_extension": ".py",
   "mimetype": "text/x-python",
   "name": "python",
   "nbconvert_exporter": "python",
   "pygments_lexer": "ipython3",
   "version": "3.8.3"
  }
 },
 "nbformat": 4,
 "nbformat_minor": 4
}
