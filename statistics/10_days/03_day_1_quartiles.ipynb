{
 "cells": [
  {
   "cell_type": "markdown",
   "metadata": {},
   "source": [
    "Solution to: [Day 1: Quartiles](https://www.hackerrank.com/challenges/s10-quartiles)"
   ]
  },
  {
   "cell_type": "markdown",
   "metadata": {},
   "source": [
    "<h1 id=\"tocheading\">Table of Contents</h1>\n",
    "<div id=\"toc\"></div>"
   ]
  },
  {
   "cell_type": "code",
   "execution_count": 1,
   "metadata": {},
   "outputs": [
    {
     "data": {
      "application/javascript": [
       "$.getScript('https://kmahelona.github.io/ipython_notebook_goodies/ipython_notebook_toc.js')\n"
      ],
      "text/plain": [
       "<IPython.core.display.Javascript object>"
      ]
     },
     "metadata": {},
     "output_type": "display_data"
    }
   ],
   "source": [
    "%%javascript\n",
    "$.getScript('https://kmahelona.github.io/ipython_notebook_goodies/ipython_notebook_toc.js')"
   ]
  },
  {
   "cell_type": "markdown",
   "metadata": {},
   "source": [
    "## Wiki definition:\n",
    "A quartile is a type of quantile which divides the number of data points into four more or less equal parts, or quarters. \n",
    "\n",
    "- The first quartile (Q1) is defined as the middle number between the smallest number and the median of the data set. It is also known as the lower quartile or the 25th empirical quartile and it marks where 25% of the data is below or to the left of it (if data is ordered on a timeline from smallest to largest). \n",
    "- The second quartile (Q2) is the median of a data set and 50% of the data lies below this point. \n",
    "- The third quartile (Q3) is the middle value between the median and the highest value of the data set. It is also known as the upper quartile or the 75th empirical quartile and 75% of the data lies below this point.\n",
    "\n",
    "Due to the fact that the data needs to be ordered from smallest to largest to compute quartiles, quartiles are a form of Order statistic.\n",
    "\n",
    "\n"
   ]
  },
  {
   "cell_type": "markdown",
   "metadata": {},
   "source": [
    "## Dataset ranges\n",
    "Because this problem asks to find the median for Q1, Q2, and Q3, we must establish the data range for each quartile.\n",
    "\n",
    "### Quartile 1\n",
    "\n",
    "\\begin{equation}\n",
    "\\large\n",
    "\\mathrm{Q1} = \\frac{\\text{Q2} - \\text{Min}}{2}\n",
    "\\end{equation}\n",
    "\n",
    "### Quartile 2\n",
    "\\begin{equation}\n",
    "\\large\n",
    "\\mathrm{Q2} = \\frac{\\text{Max} - \\text{Min}}{2}\n",
    "\\end{equation}\n",
    "\n",
    "### Quartile 3\n",
    "\\begin{equation}\n",
    "\\large\n",
    "\\mathrm{Q3} = \\frac{\\text{Max} - \\text{Q2}}{2}\n",
    "\\end{equation}"
   ]
  },
  {
   "cell_type": "markdown",
   "metadata": {},
   "source": [
    "# Solution\n",
    "\n",
    "## Process:\n",
    "As an ordered statistic, we can derive Q1, Q2, and Q3 via finding the median of different sets of data.\n",
    "\n",
    "        \n",
    "## Implementation\n",
    "To implement, I will create a median function and find Q2 (the median) of the data set. \n",
    "Then, I will find the relevant data sets for Q1 and Q3, and calculate the median for those data sets as well.\n",
    "\n",
    "## Method NOTE:\n",
    "- There is no universal agreement on selecting quartile values for the discrete distributions. \n",
    "- This solution is NOT inclusive, and thus does not include the median in the data used to calculate Q1 and Q3.\n"
   ]
  },
  {
   "cell_type": "markdown",
   "metadata": {},
   "source": [
    "## Imports"
   ]
  },
  {
   "cell_type": "code",
   "execution_count": 2,
   "metadata": {
    "lines_to_next_cell": 1
   },
   "outputs": [],
   "source": [
    "from typing import List, Tuple, Union"
   ]
  },
  {
   "cell_type": "markdown",
   "metadata": {},
   "source": [
    "## Inputs"
   ]
  },
  {
   "cell_type": "code",
   "execution_count": 3,
   "metadata": {},
   "outputs": [],
   "source": [
    "def get_input() -> Tuple[int, List[int]]:\n",
    "\t\"\"\"Returns input for n: number of integers and nums: list of integers.\"\"\"\n",
    "\tn = int(input())\n",
    "\tnums = sorted([int(val) for val in input().split()])\n",
    "\tassert n == len(nums)\n",
    "\treturn (n, nums)"
   ]
  },
  {
   "cell_type": "markdown",
   "metadata": {},
   "source": [
    "## Median"
   ]
  },
  {
   "cell_type": "code",
   "execution_count": 4,
   "metadata": {},
   "outputs": [],
   "source": [
    "def calc_median(nums: list) -> Union[int, float]:\n",
    "\t\"\"\"Returns the median value from a list of nums with length n.\"\"\"\n",
    "\tmid, remainder = divmod(len(nums), 2)\n",
    "\tif remainder:\n",
    "\t\treturn nums[mid]\n",
    "\t\n",
    "\tmedian = sum(nums[mid-1: mid+1]) / 2\n",
    "\treturn format_int(median)"
   ]
  },
  {
   "cell_type": "markdown",
   "metadata": {},
   "source": [
    "## Quantile Data"
   ]
  },
  {
   "cell_type": "code",
   "execution_count": 5,
   "metadata": {},
   "outputs": [],
   "source": [
    "def get_q_data(nums: list, quartile: str) -> List[int]:\n",
    "\t\"\"\"Returns list of data to calculate relevant quantile (Q1, Q3).\n",
    "\n",
    "\tquartile argument used to determine data boundary index for Q1 or Q3.\n",
    "\t\"\"\"\t\n",
    "\tassert quartile in (1, 3)\n",
    "\tn = len(nums)\n",
    "\tbound = 0 if quartile == 1 else n\t# calculate data index boundary\n",
    "\n",
    "\tmid, remainder = divmod(n, 2)\n",
    "\tif remainder:\n",
    "\t\tmid = mid + 1 if (quartile == 3) else mid\t# exclude middle data point in odd number solutions\n",
    "\n",
    "\tb1, b2 = sorted([bound, mid])\n",
    "\treturn nums[b1:b2]"
   ]
  },
  {
   "cell_type": "markdown",
   "metadata": {},
   "source": [
    "## Format"
   ]
  },
  {
   "cell_type": "code",
   "execution_count": 6,
   "metadata": {},
   "outputs": [],
   "source": [
    "def format_int(num: Union[float, int]) -> Union[float, int]:\n",
    "\t\"\"\"Formats decimal integer to integer else returns float\"\"\"\n",
    "\tif num.is_integer():\n",
    "\t\treturn int(num)\n",
    "\treturn num"
   ]
  },
  {
   "cell_type": "markdown",
   "metadata": {},
   "source": [
    "## Main"
   ]
  },
  {
   "cell_type": "code",
   "execution_count": 7,
   "metadata": {
    "lines_to_next_cell": 2
   },
   "outputs": [],
   "source": [
    "def main():\n",
    "\t## Input\n",
    "\tn, nums = get_input()\n",
    "\n",
    "\t## Q2\n",
    "\tq2 = calc_median(nums)\n",
    "\n",
    "\t## Get Q1&3 data\n",
    "\tq1_data = get_q_data(nums, quartile=1)\n",
    "\tq3_data = get_q_data(nums, quartile=3)\n",
    "\n",
    "\t## Calc Q1&3\n",
    "\tq1 = calc_median(q1_data)\n",
    "\tq3 = calc_median(q3_data)\n",
    "\n",
    "\t## Print\n",
    "\tquantiles = [q1, q2, q3]\n",
    "\tprint(*quantiles, sep = '\\n')"
   ]
  },
  {
   "cell_type": "code",
   "execution_count": 8,
   "metadata": {},
   "outputs": [
    {
     "name": "stdout",
     "output_type": "stream",
     "text": [
      "9\n",
      "3 7 8 5 12 14 21 13 18\n",
      "6\n",
      "12\n",
      "16\n"
     ]
    }
   ],
   "source": [
    "if __name__ == \"__main__\":\n",
    "\tmain()"
   ]
  }
 ],
 "metadata": {
  "jupytext": {
   "cell_metadata_filter": "-all",
   "notebook_metadata_filter": "-all",
   "text_representation": {
    "extension": ".py",
    "format_name": "light"
   }
  },
  "kernelspec": {
   "display_name": "Python 3",
   "language": "python",
   "name": "python3"
  },
  "language_info": {
   "codemirror_mode": {
    "name": "ipython",
    "version": 3
   },
   "file_extension": ".py",
   "mimetype": "text/x-python",
   "name": "python",
   "nbconvert_exporter": "python",
   "pygments_lexer": "ipython3",
   "version": "3.8.3"
  }
 },
 "nbformat": 4,
 "nbformat_minor": 4
}
