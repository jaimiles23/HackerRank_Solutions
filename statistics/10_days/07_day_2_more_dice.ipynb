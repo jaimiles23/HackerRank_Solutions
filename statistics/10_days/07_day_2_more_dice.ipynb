{
 "cells": [
  {
   "cell_type": "markdown",
   "metadata": {},
   "source": [
    "Solution to: [Day 2: More Dice](https://www.hackerrank.com/challenges/s10-mcq-2/problem)"
   ]
  },
  {
   "cell_type": "markdown",
   "metadata": {},
   "source": [
    "<h1 id=\"tocheading\">Table of Contents</h1>\n",
    "<div id=\"toc\"></div>"
   ]
  },
  {
   "cell_type": "code",
   "execution_count": 2,
   "metadata": {},
   "outputs": [
    {
     "data": {
      "application/javascript": [
       "$.getScript('https://kmahelona.github.io/ipython_notebook_goodies/ipython_notebook_toc.js')\n"
      ],
      "text/plain": [
       "<IPython.core.display.Javascript object>"
      ]
     },
     "metadata": {},
     "output_type": "display_data"
    }
   ],
   "source": [
    "%%javascript\n",
    "$.getScript('https://kmahelona.github.io/ipython_notebook_goodies/ipython_notebook_toc.js')"
   ]
  },
  {
   "cell_type": "code",
   "execution_count": null,
   "metadata": {},
   "outputs": [],
   "source": [
    "\n",
    "Notes on basic probability available in #6: Day 2 Basic probability.\n",
    "\n",
    "This script contains two parts:\n",
    "\t1. Math solution\n",
    "\t2. Brute force algorithm solution implemented in Python\n",
    "\n",
    "##########\n",
    "# Math solution\n",
    "##########\n",
    "\n",
    "## Information\n",
    "\t- Experiment: Roll 2 die and find the probability that sum == 6 with differnt die faces\n",
    "\t- Sample Space: possible outcomes == 36\n",
    "\t- Event: P( (A !+ B) n (A + B == 6))\n",
    "\t- Formula: P(number favorable events) / P(total number of events) = P(A) / P(S)\n",
    "\n",
    "P(A) \t= ( P([1, 5]), P( [2, 4])) / S\t\t\t\t# prob of rolling (1, 5) or (2, 4) divided by S\n",
    "\t\t= 2 + 2 / 36\n",
    "\t\t= 4 / 36\n",
    "\t\t= 1 / 9\n",
    "\t\t= 0.11\n",
    "\n",
    "\n",
    "## NOTE: \n",
    "- For this solution, I use the def get_all_possible_combos() function defined in the 06_day_2_basic_probability.py solution.\n",
    " ]\n",
    " */\n",
    "\"\"\""
   ]
  },
  {
   "cell_type": "markdown",
   "metadata": {},
   "source": [
    "#########\n",
    "Imports\n",
    "#########"
   ]
  },
  {
   "cell_type": "code",
   "execution_count": null,
   "metadata": {},
   "outputs": [],
   "source": [
    "from typing import List"
   ]
  },
  {
   "cell_type": "markdown",
   "metadata": {},
   "source": [
    "#########\n",
    "Probability of unique dice rolls at target\n",
    "#########"
   ]
  },
  {
   "cell_type": "code",
   "execution_count": null,
   "metadata": {},
   "outputs": [],
   "source": [
    "def get_all_possible_combos(num_dice: int, dice_face: int, target: int) -> List[List[int]]:\n",
    "\t\"\"\"Returns Cartesian product of all possible dice rolls.\n",
    "\t\n",
    "\tUses two helper functions:\n",
    "\t\t- get_possible_rolls, generator func to yield all die rolls.\n",
    "\t\t- recurse_roll_combos, helper recursion to create combinations for `num_dice`\n",
    "\t\"\"\"\n",
    "\tdef get_possible_rolls(dice_face: int) -> int:\n",
    "\t\t\"\"\"Generator funct to yield possible rolls.\"\"\"\n",
    "\t\tfor i in range(1, dice_face + 1): yield i\n",
    "\t\n",
    "\n",
    "\tdef recurse_roll_combos(processed_dice: int, all_roll_combos: list) -> List[List[int]]:\n",
    "\t\t\"\"\"Helper func to recurse through all dice.\"\"\"\n",
    "\t\tif processed_dice == num_dice:\t\t## Base case\n",
    "\t\t\treturn all_roll_combos\n",
    "\t\t\n",
    "\t\tnew_roll_combos = []\n",
    "\t\tfor roll in all_roll_combos:\n",
    "\t\t\troll_combo = [roll + [val] for val in get_possible_rolls(dice_face)]\n",
    "\t\t\tnew_roll_combos += (roll_combo)\n",
    "\t\t\n",
    "\t\tprocessed_dice += 1\n",
    "\t\treturn recurse_roll_combos(processed_dice= processed_dice, all_roll_combos = new_roll_combos)\n",
    "\n",
    "\t\n",
    "\tfirst_rolls = [[val] for val in get_possible_rolls(dice_face)]\n",
    "\troll_combinations = recurse_roll_combos( 1, first_rolls)\n",
    "\n",
    "\n",
    "\tassert (len(roll_combinations) == dice_face ** num_dice)\n",
    "\treturn roll_combinations"
   ]
  },
  {
   "cell_type": "code",
   "execution_count": null,
   "metadata": {},
   "outputs": [],
   "source": []
  },
  {
   "cell_type": "code",
   "execution_count": null,
   "metadata": {},
   "outputs": [],
   "source": []
  },
  {
   "cell_type": "markdown",
   "metadata": {},
   "source": [
    "#########\n",
    "Main\n",
    "#########"
   ]
  },
  {
   "cell_type": "code",
   "execution_count": null,
   "metadata": {
    "lines_to_next_cell": 2
   },
   "outputs": [],
   "source": [
    "def main():\n",
    "\tnum_dice = 2\n",
    "\tdice_face = 6\n",
    "\ttarget = 6\n",
    "\n",
    "\t## Get Combinations\n",
    "\troll_combos = get_all_possible_combos(num_dice, dice_face, target)\n",
    "\n",
    "\t## Count unique combos in target\n",
    "\tnum_at_target = 0\n",
    "\tfor combo in roll_combos:\n",
    "\n",
    "\t\tflag_unique = True\n",
    "\t\tfor c in combo:\n",
    "\t\t\tif combo.count(c) > 1:\n",
    "\t\t\t\tflag_unique = False\n",
    "\t\t\t\tbreak\n",
    "\t\t\n",
    "\t\tif flag_unique and sum(combo) == target:\n",
    "\t\t\tnum_at_target += 1\n",
    "\t\n",
    "\t## Return P(A) / P(S)\n",
    "\tprob = num_at_target / len(roll_combos)\n",
    "\tprint( round(prob, 3))"
   ]
  },
  {
   "cell_type": "code",
   "execution_count": null,
   "metadata": {},
   "outputs": [],
   "source": [
    "if __name__ == \"__main__\":\n",
    "\tmain()"
   ]
  },
  {
   "cell_type": "code",
   "execution_count": null,
   "metadata": {},
   "outputs": [],
   "source": []
  }
 ],
 "metadata": {
  "jupytext": {
   "cell_metadata_filter": "-all",
   "notebook_metadata_filter": "-all",
   "text_representation": {
    "extension": ".py",
    "format_name": "light"
   }
  },
  "kernelspec": {
   "display_name": "Python 3",
   "language": "python",
   "name": "python3"
  },
  "language_info": {
   "codemirror_mode": {
    "name": "ipython",
    "version": 3
   },
   "file_extension": ".py",
   "mimetype": "text/x-python",
   "name": "python",
   "nbconvert_exporter": "python",
   "pygments_lexer": "ipython3",
   "version": "3.8.3"
  }
 },
 "nbformat": 4,
 "nbformat_minor": 4
}
