{
 "cells": [
  {
   "cell_type": "code",
   "execution_count": null,
   "metadata": {},
   "outputs": [],
   "source": [
    "\"\"\"/**\n",
    " * @author [Jai Miles]\n",
    " * @email [jaimiles23@gmail.com]\n",
    " * @create date 2020-09-22 12:04:02\n",
    " * @modify date 2020-09-22 12:04:02\n",
    " * @desc [\n",
    "\t Solution to: Day 5: Poisson Distribution I\n",
    "\t\thttps://www.hackerrank.com/challenges/s10-poisson-distribution-1/problem\n",
    "\n",
    "This script contains 4 sections:\n",
    "\t1. Notes on the Poisson distribution\n",
    "\t2. Example problems of the Poisson distribution\n",
    "\t3. Math solution to Day 5: Poisson Distribution I\n",
    "\t4. Python solution\n",
    "\n",
    "\n",
    "##########\n",
    "# Notes\n",
    "##########\n",
    "\n",
    "##  Poisson Random Variables\n",
    "We've already learned that we can break many problems down into terms of n, x, and p and use the following formula for binomial random variables:\n",
    "\tp(x) = combinations(n | x) * p ** x * q ** (n - x)\n",
    "\n",
    "\n",
    "But what do we do when p(x) cannot be calculated using that formula? Enter the Poisson random variable.\n",
    "\n",
    "\n",
    "## Poisson Experiment\n",
    "A Poisson experiment is a statistical experiment that has the following properties:\n",
    "\t- binary outcome of experiment: Success (s) or failure (f)\n",
    "\t- average number of successes in specified region is known\n",
    "\t- Probability that success occurs is proportional to size of region\n",
    "\t- Probability that success occurs in extremely small region is virtually 0\n",
    "\n",
    "\n",
    "## Poisson Distribution\n",
    "A Poisson random variable is the number of successes that result from a Poisson experiment. \n",
    "The probability distribution of a Poisson random variable is called a Poisson distribution:\n",
    "\tP(k, λ) = (λ **k * e ** -λ) / k!\n",
    "\n",
    "Where:\n",
    "\t- e = 2.71828\n",
    "\t- λ = average number of successes in region\n",
    "\t- k = actual number of successes in region\n",
    "\t- P(k, λ) is the Poisson probability to get exactly k successes when average success is λ.\n",
    "\n",
    "##########\n",
    "# Examples\n",
    "##########\n",
    "\n",
    "## Example 1\n",
    "Acme Realty company sells an average of 2 homes per day. What is the probability that exactly 3 homes will be sold tomorrow?\n",
    "\n",
    "\n",
    "Here, λ = 2 and k = 3, so \n",
    "\tP(k, λ) = λ**k * e**-λ / k!\n",
    "\t\t= 2**3 * e**-2 / 3!\n",
    "\t\t\t= 8 * e**-2 / 6\n",
    "\t\t\t\t=  0.180\n",
    "\n",
    "## Example 2\n",
    "Suppose the average number of lions seen by tourists on a one-day safari is 5. \n",
    "What is the probability that tourists will see fewer than 4 lions on the next one-day safari?\n",
    "\n",
    "- Summation of the Poisson distribution mass probability function from 1 to 3.\n",
    "\tP(0, 5) + P(1, 5) + P(2, 5) + P(3, 5)...\n",
    "\tP(1, 5) = \n",
    "\t\t= P(k, λ) = λ**k * e**-λ / k!\n",
    "\t\t\t= 5**1 * e**-5 /1!\n",
    "\t\t\t\t= 5 * e**-5 / 1\n",
    "\t\t\t\t\t= 0.034\n",
    "\tP(2, 5) = 5**2 * e**-5 / 2\n",
    "\t\t\t\t\t= 0.084\n",
    "\tP(3, 5) = 5**3 * e**-5 / 6\n",
    "\t\t\t\t\t= 0.140\n",
    "\tP(0, 5) = 5 ** 0 * e**-5 / 0!\n",
    "\t\t\t\t\t= 0.007\n",
    "\t= 0.265\n",
    "\n",
    "## Special Example\n",
    "Consider some Poisson random variable, X. Let E[X] be the expectation of X. Find the value of E[X**2].\n",
    "\n",
    "Let Var(X) be the variance of X. Recall that if a random variable has a Poisson distribution, then:\n",
    "\n",
    "E[X] = λ\n",
    "Var(X) = λ\n",
    "\n",
    "The following is the property of expectation and variation for any random variable, X:\n",
    "\tVar(X) = E[X**2] - (E[x]) ** 2\n",
    "\tE[X**2] = Var(X) + E[x]) ** 2\n",
    "\n",
    "Thus,\n",
    "\tE[X**2] = λ + λ ** 2\n",
    "\n",
    "\n",
    "##########\n",
    "# Math Solution\n",
    "##########\n",
    "A random variable, X, follows Poisson distribution with mean of 2.5. \n",
    "Find the probability with which the random variable X is equal to 5.\n",
    "\n",
    "P(k, λ) = (λ **k * e ** -λ) / k!\n",
    "P(5, 2.5) = 2.5 ** 5 * e ** -2.5 / k!\n",
    "\t= 0.067\n",
    "\n",
    " ]\n",
    " */\n",
    "\"\"\""
   ]
  },
  {
   "cell_type": "markdown",
   "metadata": {},
   "source": [
    "#########\n",
    "Imports\n",
    "#########"
   ]
  },
  {
   "cell_type": "code",
   "execution_count": null,
   "metadata": {
    "lines_to_next_cell": 2
   },
   "outputs": [],
   "source": [
    "from typing import Tuple"
   ]
  },
  {
   "cell_type": "markdown",
   "metadata": {},
   "source": [
    "#########\n",
    "Constants\n",
    "#########"
   ]
  },
  {
   "cell_type": "code",
   "execution_count": null,
   "metadata": {},
   "outputs": [],
   "source": [
    "E = 2.71828"
   ]
  },
  {
   "cell_type": "code",
   "execution_count": null,
   "metadata": {},
   "outputs": [],
   "source": [
    "##########\n",
    "# Input\n",
    "##########\n",
    "def get_input() -> Tuple[float, int]:\n",
    "\t\"\"\"Returns input for Day 5: Poisson Distribution I.\n",
    "\n",
    "\tReturns:\n",
    "\t\tTuple[float, int]: X's mean and desired random variable value, respectively\n",
    "\t\"\"\"\n",
    "\tvar_mean = float(input())\n",
    "\tdesired_value = int(input())\n",
    "\treturn (var_mean, desired_value)"
   ]
  },
  {
   "cell_type": "markdown",
   "metadata": {},
   "source": [
    "#########\n",
    "Poisson Distribution\n",
    "#########"
   ]
  },
  {
   "cell_type": "code",
   "execution_count": null,
   "metadata": {},
   "outputs": [],
   "source": [
    "def factorial(num: int) -> int:\n",
    "\t\"\"\"Returns factorial of num\n",
    "\n",
    "\tArgs:\n",
    "\t\tnum (int): Number to factorial\n",
    "\n",
    "\tReturns:\n",
    "\t\tint: Factorial result\n",
    "\t\"\"\"\n",
    "\toutput = 1\n",
    "\tfor i in range(num, 0, -1):\n",
    "\t\toutput *= i\n",
    "\treturn output"
   ]
  },
  {
   "cell_type": "code",
   "execution_count": null,
   "metadata": {},
   "outputs": [],
   "source": [
    "def calc_poisson_prob_mass(desired_value: int, val_mean: float) -> float:\n",
    "\t\"\"\"Returns mass probability for desired value in Poisson Distribution with val_mean. \n",
    "\n",
    "\tArgs:\n",
    "\t\tdesired_value (int): Desired value of random variable, X\n",
    "\t\tval_mean (float): mean value of X\n",
    "\n",
    "\tReturns:\n",
    "\t\tfloat: Returns probability of desired value in Poisson Dist.\n",
    "\t\"\"\"\n",
    "\treturn val_mean ** desired_value * E ** -val_mean / factorial(desired_value)"
   ]
  },
  {
   "cell_type": "code",
   "execution_count": null,
   "metadata": {},
   "outputs": [],
   "source": [
    "def format_scale(num: float) -> float:\n",
    "\t\"\"\"Returns number formatted to scale.\n",
    "\n",
    "\tArgs:\n",
    "\t\tnum (float): number to\n",
    "\n",
    "\tReturns:\n",
    "\t\tfloat: formatted number\n",
    "\t\"\"\"\n",
    "\treturn f\"{num:.3f}\""
   ]
  },
  {
   "cell_type": "markdown",
   "metadata": {},
   "source": [
    "#########\n",
    "Main\n",
    "#########"
   ]
  },
  {
   "cell_type": "code",
   "execution_count": null,
   "metadata": {
    "lines_to_next_cell": 2
   },
   "outputs": [],
   "source": [
    "def main():\n",
    "\tvar_mean, desired_value = get_input()\n",
    "\n",
    "\tprob = calc_poisson_prob_mass(desired_value, var_mean)\n",
    "\tprint(format_scale(prob))"
   ]
  },
  {
   "cell_type": "code",
   "execution_count": null,
   "metadata": {
    "lines_to_next_cell": 2
   },
   "outputs": [],
   "source": [
    "if __name__ == \"__main__\":\n",
    "\tmain()"
   ]
  }
 ],
 "metadata": {
  "jupytext": {
   "cell_metadata_filter": "-all",
   "notebook_metadata_filter": "-all",
   "text_representation": {
    "extension": ".py",
    "format_name": "light"
   }
  },
  "kernelspec": {
   "display_name": "Python 3",
   "language": "python",
   "name": "python3"
  },
  "language_info": {
   "codemirror_mode": {
    "name": "ipython",
    "version": 3
   },
   "file_extension": ".py",
   "mimetype": "text/x-python",
   "name": "python",
   "nbconvert_exporter": "python",
   "pygments_lexer": "ipython3",
   "version": "3.8.3"
  }
 },
 "nbformat": 4,
 "nbformat_minor": 4
}
