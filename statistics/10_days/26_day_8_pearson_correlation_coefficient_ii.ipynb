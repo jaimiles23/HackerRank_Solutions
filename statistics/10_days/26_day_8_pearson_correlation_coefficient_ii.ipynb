{
 "cells": [
  {
   "cell_type": "markdown",
   "metadata": {},
   "source": [
    "Solution to: [Day 8: Pearson Correlation Coefficient II](https://www.hackerrank.com/challenges/s10-mcq-7/problem)"
   ]
  },
  {
   "cell_type": "markdown",
   "metadata": {},
   "source": [
    "<h1 id=\"tocheading\">Table of Contents</h1>\n",
    "<div id=\"toc\"></div>"
   ]
  },
  {
   "cell_type": "code",
   "execution_count": 1,
   "metadata": {},
   "outputs": [
    {
     "data": {
      "application/javascript": [
       "$.getScript('https://kmahelona.github.io/ipython_notebook_goodies/ipython_notebook_toc.js')\n"
      ],
      "text/plain": [
       "<IPython.core.display.Javascript object>"
      ]
     },
     "metadata": {},
     "output_type": "display_data"
    }
   ],
   "source": [
    "%%javascript\n",
    "$.getScript('https://kmahelona.github.io/ipython_notebook_goodies/ipython_notebook_toc.js')"
   ]
  },
  {
   "cell_type": "markdown",
   "metadata": {},
   "source": [
    "# Solution\n",
    "\n",
    "## Write into regression form\n",
    "\n",
    "\\begin{equation}\n",
    "\\large\n",
    "y = -2 + -\\frac{3}{4} x\n",
    "\\end{equation}\n",
    "\n",
    "and\n",
    "\n",
    "\\begin{equation}\n",
    "\\large\n",
    "x = -\\frac{7}{4} + - \\frac{3}{4} y\n",
    "\\end{equation}\n",
    "\n",
    "\n",
    "Thus:\n",
    "- b1 = $-\\frac{3}{4}$\n",
    "- b2 = $-\\frac{3}{4}$"
   ]
  },
  {
   "cell_type": "markdown",
   "metadata": {},
   "source": [
    "## Pearon's Coefficient Formula\n",
    "\n",
    "- p = pearson coefficient\n",
    "- x_sd = standard deviation of x\n",
    "- y_sd = standard deviation of y\n",
    "\n",
    "\\begin{equation}\n",
    "\\large\n",
    "p = b1 \\frac {x\\_sd}{y\\_sd}\n",
    "\\end{equation}\n",
    "\n",
    "and\n",
    "\n",
    "\\begin{equation}\n",
    "\\large\n",
    "p = b2 \\frac {x\\_sd}{y\\_sd}\n",
    "\\end{equation}\n"
   ]
  },
  {
   "cell_type": "markdown",
   "metadata": {},
   "source": [
    "## Multiply equations\n",
    "\n",
    "\\begin{equation}\n",
    "\\large\n",
    "p^{2} = \n",
    "-\\frac{3}{4} * \n",
    "-\\frac{3}{4}\n",
    "\\end{equation}\n",
    "\n",
    "\\begin{equation}\n",
    "\\large\n",
    "p^{2} = \n",
    "\\frac{9}{16}\n",
    "\\end{equation}\n",
    "\n",
    "\\begin{equation}\n",
    "\\large\n",
    "p = \n",
    "\\frac{3}{4}\n",
    "\\end{equation}"
   ]
  },
  {
   "cell_type": "markdown",
   "metadata": {},
   "source": [
    "## Direction\n",
    "\n",
    "As both original lines are negative, they are negatively correlated by definition.\n",
    "\n",
    "Answer:\n",
    "\n",
    "\\begin{equation}\n",
    "\\large\n",
    "p = \n",
    "- \\frac{3}{4}\n",
    "\\end{equation}"
   ]
  }
 ],
 "metadata": {
  "jupytext": {
   "cell_metadata_filter": "-all",
   "notebook_metadata_filter": "-all",
   "text_representation": {
    "extension": ".py",
    "format_name": "light"
   }
  },
  "kernelspec": {
   "display_name": "Python 3",
   "language": "python",
   "name": "python3"
  },
  "language_info": {
   "codemirror_mode": {
    "name": "ipython",
    "version": 3
   },
   "file_extension": ".py",
   "mimetype": "text/x-python",
   "name": "python",
   "nbconvert_exporter": "python",
   "pygments_lexer": "ipython3",
   "version": "3.8.3"
  }
 },
 "nbformat": 4,
 "nbformat_minor": 4
}
