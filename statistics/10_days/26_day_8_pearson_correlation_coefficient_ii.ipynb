{
 "cells": [
  {
   "cell_type": "markdown",
   "metadata": {},
   "source": [
    "Solution to: [Day 7: Spearman's Rank Correlation Coefficient](https://www.hackerrank.com/challenges/s10-spearman-rank-correlation-coefficient/problem)"
   ]
  },
  {
   "cell_type": "markdown",
   "metadata": {},
   "source": [
    "<h1 id=\"tocheading\">Table of Contents</h1>\n",
    "<div id=\"toc\"></div>"
   ]
  },
  {
   "cell_type": "code",
   "execution_count": 1,
   "metadata": {},
   "outputs": [
    {
     "data": {
      "application/javascript": [
       "$.getScript('https://kmahelona.github.io/ipython_notebook_goodies/ipython_notebook_toc.js')\n"
      ],
      "text/plain": [
       "<IPython.core.display.Javascript object>"
      ]
     },
     "metadata": {},
     "output_type": "display_data"
    }
   ],
   "source": [
    "%%javascript\n",
    "$.getScript('https://kmahelona.github.io/ipython_notebook_goodies/ipython_notebook_toc.js')"
   ]
  },
  {
   "cell_type": "code",
   "execution_count": null,
   "metadata": {
    "lines_to_next_cell": 2
   },
   "outputs": [],
   "source": [
    "\n",
    "\n",
    "This script contains 3 sections:\n",
    "\t1. Notes on Spearman's Rank Correlation Coefficient\n",
    "\t2. Solution with Standard Spearman Rank Correlation Coefficient Solution\n",
    "\t3. Solution with Spearman Rank Special Case for Unique Values\n",
    "\n",
    "\n",
    "##########\n",
    "# Notes\n",
    "##########\n",
    "\n",
    "## Spearman's Rank Correlation Coefficient\n",
    "\n",
    "We have two random variables, X and Y:\n",
    "\tX = (x1, x2, x3, ... xn)\n",
    "\tY = (y1, y2, y2, ... yn)\n",
    "\n",
    "If Rank_x and Rank_y denote the respective ranks of each data point, then the Spearman's rank correlation coefficient, Rs, \n",
    "is the Pearson correlation coefficient of Rank_x and Rank_y.\n",
    "\n",
    "## Example\n",
    "\tX = {0.2, 1.3, 0.2, 1.1, 1.4, 1.5}\n",
    "\tY = {1.9, 2.2, 3.1, 1.2, 2.2, 2.2}\n",
    "\n",
    "Rank_x correlating to X:\n",
    "\tRank_x = [1, 3, 1, 2, 4, 5]\n",
    "Rank_y correlating to Y:\n",
    "\tRank_y = [2, 3, 4, 1, 3, 3]\n",
    "\n",
    "Rs = the Pearson correlation coefficient of rank_x and rank_y, or 0.158114\n",
    "\n",
    "## Special Case: X and Y don't contain duplicates\n",
    "rs = 1 - 6 summation(di**2) / (n * (n**2 - 1))\n",
    "\n",
    "[Proof](https://www.hackerrank.com/challenges/s10-spearman-rank-correlation-coefficient/tutorial)]\n",
    " ]\n",
    " */\n",
    "\"\"\""
   ]
  },
  {
   "cell_type": "markdown",
   "metadata": {},
   "source": [
    "#########\n",
    "Imports\n",
    "#########"
   ]
  },
  {
   "cell_type": "code",
   "execution_count": null,
   "metadata": {
    "lines_to_next_cell": 1
   },
   "outputs": [],
   "source": [
    "from typing import Tuple\n",
    "import math\n",
    "import statistics"
   ]
  },
  {
   "cell_type": "markdown",
   "metadata": {},
   "source": [
    "#########\n",
    "Input\n",
    "#########"
   ]
  },
  {
   "cell_type": "code",
   "execution_count": null,
   "metadata": {},
   "outputs": [],
   "source": [
    "def get_input() -> Tuple[int, list, list]:\n",
    "\t\"\"\"Returns input for Spearman's rank correlation coefficient.\n",
    "\n",
    "\tReturns:\n",
    "\t\tTuple[int, float, float]: number of items, x, y\n",
    "\t\"\"\"\n",
    "\treturn 10, [10, 9.8, 8, 7.8, 7.7, 1.7, 6, 5, 1.4, 2, ], [200, 44, 32, 24, 22, 17, 15, 12, 8, 4,]\n",
    "\n",
    "\tnum_items = int(input())\n",
    "\tx = [float(val) for val in input().split()]\n",
    "\ty = [float(val) for val in input().split()]\n",
    "\treturn num_items, x, y"
   ]
  },
  {
   "cell_type": "markdown",
   "metadata": {},
   "source": [
    "#########\n",
    "Print\n",
    "#########"
   ]
  },
  {
   "cell_type": "code",
   "execution_count": null,
   "metadata": {},
   "outputs": [],
   "source": [
    "def print_to_scale(num: int) -> None:\n",
    "\t\"\"\"Prints number formatted to 3 decimal scale.\n",
    "\n",
    "\tArgs:\n",
    "\t\tnum (int): Number to print to scale\n",
    "\t\"\"\"\n",
    "\tprint(f\"{num :.3f}\")"
   ]
  },
  {
   "cell_type": "markdown",
   "metadata": {},
   "source": [
    "#########\n",
    "Spearman's Rank - standard implementation\n",
    "#########"
   ]
  },
  {
   "cell_type": "code",
   "execution_count": null,
   "metadata": {},
   "outputs": [],
   "source": [
    "def get_ranks(x: list) -> list:\n",
    "\t\"\"\"Returns corresponding ranks of x list.\n",
    "\n",
    "\tArgs:\n",
    "\t\tx (list): List to rank\n",
    "\n",
    "\tReturns:\n",
    "\t\tlist: Rankings of x\n",
    "\t\"\"\"\n",
    "\tx_sorted = sorted(x)\n",
    "\n",
    "\t## Get rank of each val\n",
    "\tval_ranks = dict()\n",
    "\tfor i in range(len(x_sorted)):\n",
    "\t\tval_ranks[x_sorted[i]] = (i + 1)\n",
    "\n",
    "\t## Create ranking\n",
    "\tx_ranks = []\n",
    "\tfor val in x:\n",
    "\t\tx_ranks.append( val_ranks[val])\n",
    "\treturn x_ranks"
   ]
  },
  {
   "cell_type": "code",
   "execution_count": null,
   "metadata": {},
   "outputs": [],
   "source": [
    "def calc_mean(x: list) -> float:\n",
    "\t\"\"\"Returns mean of list\n",
    "\n",
    "\tArgs:\n",
    "\t\tx (list): list to mean\n",
    "\n",
    "\tReturns:\n",
    "\t\tfloat: mean of x\n",
    "\t\"\"\"\n",
    "\t# mean = sum(x) / len(x)\n",
    "\t# print(mean)\n",
    "\t# print(statistics.mean(x))\n",
    "\treturn sum(x) / len(x)"
   ]
  },
  {
   "cell_type": "code",
   "execution_count": null,
   "metadata": {},
   "outputs": [],
   "source": [
    "def calc_sd(x: list, population: bool = True) -> float:\n",
    "\t\"\"\"Returns standard deviation of list, x.\n",
    "\n",
    "\tArgs:\n",
    "\t\tx (list): List to get sd\n",
    "\n",
    "\tReturns:\n",
    "\t\tfloat: standard deviation of x\n",
    "\t\"\"\"\n",
    "\tx_mean = calc_mean(x)\n",
    "\tnumerator = 0\n",
    "\tfor val in x:\n",
    "\t\tnumerator += ((val - x_mean) ** 2)\n",
    "\n",
    "\tn = len(x) if population else len(x) - 1\n",
    "\tsd = (numerator / n) ** (1/2)\n",
    "\treturn sd"
   ]
  },
  {
   "cell_type": "code",
   "execution_count": null,
   "metadata": {},
   "outputs": [],
   "source": [
    "def calc_cov(num_items: int, x: list, y: list) -> float:\n",
    "\t\"\"\"Calculates covariance for (x, y).\n",
    "\n",
    "\tArgs:\n",
    "\t\tnum_items (int): length of x, y\n",
    "\t\tx (list): series 1\n",
    "\t\ty (list): series 2\n",
    "\n",
    "\tReturns:\n",
    "\t\tfloat: covariance between x and y.\n",
    "\t\"\"\"\n",
    "\tmean_x, mean_y = calc_mean(x), calc_mean(y)\n",
    "\n",
    "\tnumerator = 0\n",
    "\tfor i in range(num_items):\n",
    "\t\tnumerator += (x[i] - mean_x) * (y[i] - mean_y)\n",
    "\t\n",
    "\treturn numerator / num_items"
   ]
  },
  {
   "cell_type": "code",
   "execution_count": null,
   "metadata": {},
   "outputs": [],
   "source": [
    "def calc_spearmans_coef(num_items: int, x: list, y: list) -> float:\n",
    "\t\"\"\"Returns spearman's coefficient for x,y\n",
    "\n",
    "\tArgs:\n",
    "\t\tnum_items (int): length of both lists\n",
    "\t\tx (list): series 1\n",
    "\t\ty (list): series 2\n",
    "\n",
    "\tReturns:\n",
    "\t\tfloat: Spearman's coefficient for (x, y)\n",
    "\t\"\"\"\n",
    "\tassert len(x) == len(y)\n",
    "\trank_x, rank_y = get_ranks(x), get_ranks(y)\n",
    "\n",
    "\tcov = calc_cov(num_items, rank_x, rank_y)\n",
    "\tsd_x, sd_y = calc_sd(rank_x), calc_sd(rank_y)\n",
    "\n",
    "\treturn cov / (sd_x * sd_y)"
   ]
  },
  {
   "cell_type": "code",
   "execution_count": null,
   "metadata": {},
   "outputs": [],
   "source": [
    "def spearman_rank_norm_sol(num_items: int, x: list, y: list) -> None:\n",
    "\t\"\"\"Prints solution using standard formula for spearman rank.\n",
    "\n",
    "\tArgs:\n",
    "\t\tnum_items (int): number of items\n",
    "\t\tx (list): Series 1\n",
    "\t\ty (list): Series 2\n",
    "\t\"\"\"\n",
    "\tprint_to_scale( calc_spearmans_coef(num_items, x, y))"
   ]
  },
  {
   "cell_type": "markdown",
   "metadata": {},
   "source": [
    "#########\n",
    "Spearman correlation solution for unique values\n",
    "#########"
   ]
  },
  {
   "cell_type": "code",
   "execution_count": null,
   "metadata": {},
   "outputs": [],
   "source": [
    "def calc_d(x: list, y: list) -> float:\n",
    "\t\"\"\"Returns difference between respective values of x and y.\n",
    "\n",
    "\tArgs:\n",
    "\t\tx_ranks (list): Series 1\n",
    "\t\ty_ranks (list): Series 2\n",
    "\n",
    "\tReturns:\n",
    "\t\tfloat: statistic representing difference between x and y ranks\n",
    "\t\"\"\"\n",
    "\tx_ranks, y_ranks = get_ranks(x), get_ranks(y)\n",
    "\n",
    "\tsum_dif = 0\n",
    "\tfor i in range(len(x_ranks)):\n",
    "\t\tsum_dif += (x_ranks[i] - y_ranks[i]) ** 2\n",
    "\treturn sum_dif"
   ]
  },
  {
   "cell_type": "code",
   "execution_count": null,
   "metadata": {},
   "outputs": [],
   "source": [
    "def spearman_rank_unique_vals(num_items: int, x: list, y: list) -> None:\n",
    "\t\"\"\"Prints solution using formula for unique values.\n",
    "\n",
    "\tArgs:\n",
    "\t\tnum_items (int): number of items\n",
    "\t\tx (list): Series 1\n",
    "\t\ty (list): Series 2\n",
    "\t\"\"\"\n",
    "\td = calc_d(x, y)\n",
    "\tr = 1 - ((6 * d) / (num_items * (num_items**2 - 1)))\n",
    "\tprint_to_scale(r)"
   ]
  },
  {
   "cell_type": "markdown",
   "metadata": {},
   "source": [
    "#########\n",
    "Main\n",
    "#########"
   ]
  },
  {
   "cell_type": "code",
   "execution_count": null,
   "metadata": {
    "lines_to_next_cell": 2
   },
   "outputs": [],
   "source": [
    "def main():\n",
    "\tnum_items, x, y = get_input()\n",
    "\n",
    "\tspearman_rank_norm_sol(num_items, x, y)\n",
    "\tspearman_rank_unique_vals(num_items, x, y)"
   ]
  },
  {
   "cell_type": "code",
   "execution_count": null,
   "metadata": {},
   "outputs": [],
   "source": [
    "if __name__ == \"__main__\":\n",
    "\tmain()"
   ]
  },
  {
   "cell_type": "code",
   "execution_count": null,
   "metadata": {},
   "outputs": [],
   "source": []
  },
  {
   "cell_type": "code",
   "execution_count": null,
   "metadata": {},
   "outputs": [],
   "source": [
    "\t"
   ]
  }
 ],
 "metadata": {
  "jupytext": {
   "cell_metadata_filter": "-all",
   "notebook_metadata_filter": "-all",
   "text_representation": {
    "extension": ".py",
    "format_name": "light"
   }
  },
  "kernelspec": {
   "display_name": "Python 3",
   "language": "python",
   "name": "python3"
  },
  "language_info": {
   "codemirror_mode": {
    "name": "ipython",
    "version": 3
   },
   "file_extension": ".py",
   "mimetype": "text/x-python",
   "name": "python",
   "nbconvert_exporter": "python",
   "pygments_lexer": "ipython3",
   "version": "3.8.3"
  }
 },
 "nbformat": 4,
 "nbformat_minor": 4
}
