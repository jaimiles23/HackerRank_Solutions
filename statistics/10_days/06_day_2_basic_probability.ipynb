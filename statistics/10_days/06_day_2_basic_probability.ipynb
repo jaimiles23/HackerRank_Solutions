{
 "cells": [
  {
   "cell_type": "markdown",
   "metadata": {},
   "source": [
    "Solution to: [Day 2: Basic Probability](https://www.hackerrank.com/challenges/s10-mcq-1/tutorial)"
   ]
  },
  {
   "cell_type": "markdown",
   "metadata": {},
   "source": [
    "<h1 id=\"tocheading\">Table of Contents</h1>\n",
    "<div id=\"toc\"></div>"
   ]
  },
  {
   "cell_type": "code",
   "execution_count": 1,
   "metadata": {},
   "outputs": [
    {
     "data": {
      "application/javascript": [
       "$.getScript('https://kmahelona.github.io/ipython_notebook_goodies/ipython_notebook_toc.js')\n"
      ],
      "text/plain": [
       "<IPython.core.display.Javascript object>"
      ]
     },
     "metadata": {},
     "output_type": "display_data"
    }
   ],
   "source": [
    "%%javascript\n",
    "$.getScript('https://kmahelona.github.io/ipython_notebook_goodies/ipython_notebook_toc.js')"
   ]
  },
  {
   "cell_type": "code",
   "execution_count": null,
   "metadata": {},
   "outputs": [],
   "source": [
    "\n",
    "There are 3 sections to this script:\n",
    "\t- Notes on probability from the problem tutorial: https://www.hackerrank.com/challenges/s10-mcq-1/tutorial\n",
    "\t- Mathematic solution to Problem 6 solution\n",
    "\t- Brute force python algorithm to Problem 6 solution\n",
    "\n",
    "\n",
    "##########\n",
    "# Notes on probability\n",
    "##########\n",
    "\n",
    "## Event, Sample Space, and Probability\n",
    "n probability theory, an experiment is any procedure that can be infinitely repeated and has a well-defined set of possible outcomes, known as the sample space, s. \n",
    "We define an event to be a set of outcomes of an experiment (also known as a subset of s) to which a probability (numerical value) is assigned.\n",
    "\n",
    "The probability of the occurrence of an event, A, is:\n",
    "P(A) = (Number of favorable outcome) / (Total number of outcomes)\n",
    "\n",
    "## Fundamental probability rules\n",
    "Here are the first two fundamental rules of probability:\n",
    "\t1. Any probability, P(A) , is a number between 0 and 1 (0 <= P(A) <= 1).\n",
    "\t2. The probability of the sample space, S, is 1 (P(S) = 1).\n",
    "\n",
    "So how do we bridge the gap between the value of P(A) and the sample space P(S)? \n",
    "We know that PA() is the probability that event  will occur, then we define P(A')  (the complement of P(A)) to be the probability that event P(A) will not occur. \n",
    "\n",
    "If our sample space is composed of the probabilities of P(A)'s occurrence and non-occurrence, we can then say P(A) + P(A') = 1, \n",
    "or the sum of all possible outcomes of A in the sample space is equal to 1. This is the third fundamental rule of probability: .\n",
    "\n",
    "## Question 1:\n",
    "Find the probability of getting an odd number when rolling a -sided fair die.\n",
    "\n",
    "Given the above question, we can extract the following:\n",
    "\t- Experiment: rolling a 6-sided die.\n",
    "\t- Sample space (1): .\n",
    "\t- Event (3): that the number rolled is odd (i.e., 1, 3, 5).\n",
    "\n",
    "P(A) = (number of favorable outcomes) / (total number of outcomes) = P(A) / P(S) = 3/6 = 1/2\n",
    "\n",
    "\n",
    "\n",
    "## Compound Events, Mutually Exclusive Events, and Collectively Exhaustive Events\n",
    "Let's consider 2 events: A and B. \n",
    "A compound event is a combination of 2 or more simple events. If A and B are simple events, then A u B denotes the occurrence of either A or B. \n",
    "Similarly, A n B denotes the occurrence of A and B together.\n",
    "\n",
    "A and B are said to be mutually exclusive or disjoint if they have no events in common (i.e., A n B = 0  and P(A n B) = 0). \n",
    "The probability of any of 2 or more events occurring is the union (u) of events. \n",
    "Because disjoint probabilities have no common events, the probability of the union of disjoint events is the sum of the events' individual probabilities.\n",
    "A and B are said to be collectively exhaustive if their union covers all events in the sample space (i.e., A u B = S and P(A u B) = 1). \n",
    "\n",
    "This brings us to our next fundamental rule of probability: if 2 events, A and B, are disjoint, \n",
    "then the probability of either event is the sum of the probabilities of the  events (i.e., P(A + B), or P(A) + P(B)).\n",
    "\n",
    "If the outcome of the first event (A) has no impact on the second event (B), then they are considered to be independent (e.g., tossing a fair coin). \n",
    "This brings us to the next fundamental rule of probability: the multiplication rule. \n",
    "It states that if two events, A and B, are independent, then the probability of both events is the product of the probabilities for each event (i.e., P(A and B) = P(A) * P(B)). \n",
    "\n",
    "The chance of all events occurring in a sequence of events is called the intersection (n) of those events.\n",
    "\t\n",
    "## Question 2\n",
    "Find the probability of getting 1 head and 1 tail when  fair coins are tossed.\n",
    "\n",
    "\n",
    "Given the above question, we can extract the following:\n",
    "\t- Experiment: tossing 2 coins.\n",
    "\t- Sample space (S): The possible outcomes for the toss of 1 coin are {H, T}. \n",
    "\tAs our experiment tosses 2 coins, we have to consider all possible toss outcomes by finding the Cartesian Product of the possible outcomes for each coin: \n",
    "\tS = {H, T} * {H * T} = {(H, H), (H, T), (T, T), (T, T)}.\n",
    "\t- Event (A n B): that the outcome of 1 toss will be H, and the outcome of the other toss will be T (i.e., P(A) = {(H, T), (T, H)}}\n",
    "\n",
    "P(A) = (number favorable events) / (total number of events) = P(A) / P(S) = 2 /4 = 1/2\n",
    "\n",
    "\n",
    "## Question 3\n",
    "Let A and B be two events such that P(A) = 2/5 and P(B) = 4/5. If the probability of the occurrence of either A or B is 3/5, \n",
    "find the probability of the occurrence of both A and B together (i.e., P(A n B)).\n",
    "\n",
    "We can use our fundamental rules of probability to solve this problem:\n",
    "\t|A u B| = |A| + |B| - |A n B|\t\t## Prob(either or) = prob(A) + prob(b) - prob(both) \t\n",
    "\tP(A u B) = P(A) + P(B) - P(A n B)\n",
    "\tP(A n B) = P(A) + P(B) - P(A u B)\n",
    "\tP(A n B) = 2/5 + 4/5 - 3/5\n",
    "\tP(A n B) = 3/5\n",
    "\n",
    "\n",
    "##########\n",
    "# Math Solution\n",
    "##########\n",
    "\n",
    "## Information\n",
    "In a single toss of 2 fair (evenly-weighted) six-sided dice, find the probability that their sum will be at most 9.\n",
    "\t- Experiment: rolling 2 dice\n",
    "\t- Sample space(S) = possible outcomes = 6 * 6 = 36\n",
    "\t- Event P(A + B) <= 9\n",
    "\n",
    "## Formula:\n",
    "P(A) = (number favorable events) / (total number events) = P(A) / P(S)\n",
    "\n",
    "## Implementation\n",
    "P(A) \t= ( P(1, {1,2,3,4,5,6}) + P(2, {1,2,3,4,5,6}) + P(3, {1,2,3,4,5,6}) + P(4, {1,2,3,4,5}) + P(5, {1,2,3,4}) + P(6, {1,2,3}) ) / 6 ** 2\n",
    "\t\t= ( 6 + 6 + 6 + 5 + 4 + 3) / 36\n",
    "\t\t= 30 / 36\n",
    "\t\t= 5/6\n",
    "\t\t= 0.833\n",
    "\n",
    "\t* For numbers 1-3, all accompanying die roll <= 9, thus, 100% of roles with these numbers are favored.\n",
    "\t* a role of 4 meets criteria with accompanying roles 1-5, thus resulting in 5 possible permutations, etc.\n",
    " ]\n",
    " */\n",
    "\"\"\""
   ]
  },
  {
   "cell_type": "markdown",
   "metadata": {},
   "source": [
    "#########\n",
    "Imports\n",
    "#########"
   ]
  },
  {
   "cell_type": "code",
   "execution_count": null,
   "metadata": {
    "lines_to_next_cell": 2
   },
   "outputs": [],
   "source": [
    "from typing import List"
   ]
  },
  {
   "cell_type": "code",
   "execution_count": null,
   "metadata": {
    "lines_to_next_cell": 1
   },
   "outputs": [],
   "source": [
    "##########\n",
    "# Information\n",
    "##########\n",
    "\"\"\"\n",
    "\n",
    "\n",
    "## Process\n",
    "- Iterate through all possible rolling combinations and create list of values <= 9\n",
    "- Divide by number of total events\n",
    "\"\"\""
   ]
  },
  {
   "cell_type": "markdown",
   "metadata": {},
   "source": [
    "#########\n",
    "Probability of dice rolls at target\n",
    "#########"
   ]
  },
  {
   "cell_type": "code",
   "execution_count": null,
   "metadata": {},
   "outputs": [],
   "source": [
    "def get_possible_combinations(num_dice: int, dice_face: int, target: int) -> List[List[int]]:\n",
    "\t\"\"\"Returns Cartesian product of all possible dice rolls.\n",
    "\t\n",
    "\tUses two helper functions:\n",
    "\t\t- get_possible_rolls, generator func to yield all die rolls.\n",
    "\t\t- recurse_roll_combos, helper recursion to create combinations for `num_dice`\n",
    "\t\"\"\"\n",
    "\tdef get_possible_rolls(dice_face: int) -> int:\n",
    "\t\t\"\"\"Generator funct to yield possible rolls.\"\"\"\n",
    "\t\tfor i in range(1, dice_face + 1): yield i\n",
    "\t\n",
    "\n",
    "\tdef recurse_roll_combos(processed_dice: int, all_roll_combos: list) -> List[List[int]]:\n",
    "\t\t\"\"\"Helper func to recurse through all dice.\"\"\"\n",
    "\t\tif processed_dice == num_dice:\t\t## Base case\n",
    "\t\t\treturn all_roll_combos\n",
    "\t\t\n",
    "\t\tnew_roll_combos = []\n",
    "\t\tfor roll in all_roll_combos:\n",
    "\t\t\troll_combo = [roll + [val] for val in get_possible_rolls(dice_face)]\n",
    "\t\t\tnew_roll_combos += (roll_combo)\n",
    "\t\t\n",
    "\t\tprocessed_dice += 1\n",
    "\t\treturn recurse_roll_combos(processed_dice= processed_dice, all_roll_combos = new_roll_combos)\n",
    "\n",
    "\t\n",
    "\tfirst_rolls = [[val] for val in get_possible_rolls(dice_face)]\n",
    "\troll_combinations = recurse_roll_combos( 1, first_rolls)\n",
    "\n",
    "\n",
    "\tassert (len(roll_combinations) == dice_face ** num_dice)\n",
    "\treturn roll_combinations"
   ]
  },
  {
   "cell_type": "code",
   "execution_count": null,
   "metadata": {},
   "outputs": [],
   "source": []
  },
  {
   "cell_type": "code",
   "execution_count": null,
   "metadata": {},
   "outputs": [],
   "source": []
  },
  {
   "cell_type": "markdown",
   "metadata": {},
   "source": [
    "#########\n",
    "Main\n",
    "#########"
   ]
  },
  {
   "cell_type": "code",
   "execution_count": null,
   "metadata": {
    "lines_to_next_cell": 2
   },
   "outputs": [],
   "source": [
    "def main():\n",
    "\tnum_dice = 2\n",
    "\tdice_face = 6\n",
    "\ttarget = 9\n",
    "\n",
    "\t## Get Combinations\n",
    "\troll_combos = get_possible_combinations(num_dice, dice_face, target)\n",
    "\n",
    "\t## Count combos at target\n",
    "\tnum_under_target = 0\n",
    "\tfor combo in roll_combos:\n",
    "\t\tif sum(combo) <= target:\n",
    "\t\t\tnum_under_target += 1\n",
    "\t\n",
    "\t## Return P(A) / P(S)\n",
    "\tprob = num_under_target / len(roll_combos)\n",
    "\tprint( round(prob, 3))"
   ]
  },
  {
   "cell_type": "code",
   "execution_count": null,
   "metadata": {},
   "outputs": [],
   "source": [
    "if __name__ == \"__main__\":\n",
    "\tmain()"
   ]
  }
 ],
 "metadata": {
  "jupytext": {
   "cell_metadata_filter": "-all",
   "notebook_metadata_filter": "-all",
   "text_representation": {
    "extension": ".py",
    "format_name": "light"
   }
  },
  "kernelspec": {
   "display_name": "Python 3",
   "language": "python",
   "name": "python3"
  },
  "language_info": {
   "codemirror_mode": {
    "name": "ipython",
    "version": 3
   },
   "file_extension": ".py",
   "mimetype": "text/x-python",
   "name": "python",
   "nbconvert_exporter": "python",
   "pygments_lexer": "ipython3",
   "version": "3.8.3"
  }
 },
 "nbformat": 4,
 "nbformat_minor": 4
}
