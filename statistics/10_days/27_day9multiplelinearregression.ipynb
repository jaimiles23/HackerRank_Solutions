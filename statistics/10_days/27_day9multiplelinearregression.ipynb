{
 "cells": [
  {
   "cell_type": "markdown",
   "metadata": {},
   "source": [
    "Solution to: [Day 9: Multiple Linear Regression](https://www.hackerrank.com/challenges/s10-multiple-linear-regression/problem)"
   ]
  },
  {
   "cell_type": "markdown",
   "metadata": {},
   "source": [
    "<h1 id=\"tocheading\">Table of Contents</h1>\n",
    "<div id=\"toc\"></div>"
   ]
  },
  {
   "cell_type": "code",
   "execution_count": 1,
   "metadata": {},
   "outputs": [
    {
     "data": {
      "application/javascript": [
       "$.getScript('https://kmahelona.github.io/ipython_notebook_goodies/ipython_notebook_toc.js')\n"
      ],
      "text/plain": [
       "<IPython.core.display.Javascript object>"
      ]
     },
     "metadata": {},
     "output_type": "display_data"
    }
   ],
   "source": [
    "%%javascript\n",
    "$.getScript('https://kmahelona.github.io/ipython_notebook_goodies/ipython_notebook_toc.js')"
   ]
  },
  {
   "cell_type": "markdown",
   "metadata": {},
   "source": [
    "- Table of Contents\n",
    "    - Task\n",
    "    - Input Format\n",
    "- PythonSolution"
   ]
  },
  {
   "cell_type": "markdown",
   "metadata": {},
   "source": [
    "# Challenge Notes\n"
   ]
  },
  {
   "cell_type": "markdown",
   "metadata": {},
   "source": [
    "\n",
    "## Task\n",
    "Andrea has a simple equation:\n",
    "\n",
    "\\begin{equation}\n",
    "\\large\n",
    "Y = a + b_{1} * f_{1} b_{2} * f_{2} + ... + b_{m} * f_{m}\n",
    "\\end{equation}\n",
    "\n",
    "\n",
    "for $ m + 1$ real constants $(a, f_{1}, f_{2}, ... f_{m} )$. We can say that the value of $Y$ depends on $m$ features. Andrea studies this equation for $n$ different feature sets $(a, f_{1}, f_{2}, ... f_{m} )$ and records each respective value of $Y$. If she has  new feature sets, can you help Andrea find the value of $Y$ for each of the sets?\n",
    "Note: You are not expected to account for bias and variance trade-offs.\n"
   ]
  },
  {
   "cell_type": "markdown",
   "metadata": {},
   "source": [
    "\n",
    "## Input Format\n",
    "\n",
    "- The first line contains $2$ space-separated integers, $m$ (the number of observed features) and $n$ (the number of feature sets Andrea studied), respectively.\n",
    "- Each of the $n$ subsequent lines contain  space-separated decimals; the first  elements are features , and the last element is the value of  for the line's feature set.\n",
    "- The next line contains a single integer, $q$, denoting the number of feature sets Andrea wants to query for. Each of the $q$ subsequent lines contains $m$ space-separated decimals describing the feature sets."
   ]
  },
  {
   "cell_type": "markdown",
   "metadata": {},
   "source": [
    "## Scoring"
   ]
  },
  {
   "cell_type": "code",
   "execution_count": 37,
   "metadata": {},
   "outputs": [
    {
     "ename": "SyntaxError",
     "evalue": "invalid syntax (<ipython-input-37-6682907f6b6f>, line 1)",
     "output_type": "error",
     "traceback": [
      "\u001b[1;36m  File \u001b[1;32m\"<ipython-input-37-6682907f6b6f>\"\u001b[1;36m, line \u001b[1;32m1\u001b[0m\n\u001b[1;33m    For each feature set in one test case, we will compute the following:\u001b[0m\n\u001b[1;37m        ^\u001b[0m\n\u001b[1;31mSyntaxError\u001b[0m\u001b[1;31m:\u001b[0m invalid syntax\n"
     ]
    }
   ],
   "source": [
    "For each feature set in one test case, we will compute the following:\n",
    "\n",
    ". We will permit up to a  margin of error.\n",
    "The normalized score for each test case will be: . If the challenge is worth  points, then your score will be ."
   ]
  },
  {
   "cell_type": "markdown",
   "metadata": {},
   "source": [
    "## Output Format"
   ]
  },
  {
   "cell_type": "markdown",
   "metadata": {},
   "source": [
    "For each of the  feature sets, print the value of  on a new line (i.e., you must print a total of  lines)."
   ]
  },
  {
   "cell_type": "markdown",
   "metadata": {},
   "source": [
    "# Python Solution"
   ]
  },
  {
   "cell_type": "markdown",
   "metadata": {},
   "source": [
    "## Imports"
   ]
  },
  {
   "cell_type": "code",
   "execution_count": 47,
   "metadata": {},
   "outputs": [],
   "source": [
    "import pandas as pd\n",
    "import numpy as np\n",
    "\n",
    "from sklearn import linear_model"
   ]
  },
  {
   "cell_type": "markdown",
   "metadata": {},
   "source": [
    "## Input"
   ]
  },
  {
   "cell_type": "code",
   "execution_count": 43,
   "metadata": {},
   "outputs": [],
   "source": [
    "def get_input():\n",
    "    \"\"\"Returns problem input.\"\"\"\n",
    "    m, n = (int(x) for x in input().split())   # num features, & train data\n",
    "    \n",
    "    ## data columns\n",
    "    columns = [\"f{}\".format(m) for m in range(1, m+1)]\n",
    "    columns.append('Y')\n",
    "    print(columns)\n",
    "\n",
    "    ## Training data\n",
    "    train_data = {c:[] for c in columns}\n",
    "    \n",
    "    for i in range(n):\n",
    "        print(train_data)\n",
    "        line = [float(x) for x in input().split()]\n",
    "        \n",
    "        for j in range(len(line)):\n",
    "            key = columns[j]\n",
    "            val = train_data[key] + [line[j]]\n",
    "            train_data[key] = val\n",
    "    \n",
    "    ## Test data\n",
    "    q = int(input()) # num predictions\n",
    "    test_columns = [c for c in columns[:-1]]\n",
    "    test_data = {c:[] for c in test_columns}\n",
    "    for i in range(q):\n",
    "        print(test_data)\n",
    "        line = [float(x) for x in input().split()]\n",
    "        \n",
    "        for j in range(len(test_columns)):\n",
    "            key = test_columns[j]\n",
    "            val = test_data[key] + [line[j]]\n",
    "            test_data[key] = val\n",
    "            \n",
    "    \n",
    "    return pd.DataFrame(train_data), pd.DataFrame(test_data)"
   ]
  },
  {
   "cell_type": "code",
   "execution_count": 33,
   "metadata": {},
   "outputs": [
    {
     "name": "stdout",
     "output_type": "stream",
     "text": [
      "2 7\n",
      "['f1', 'f2', 'Y']\n",
      "{'f1': [], 'f2': [], 'Y': []}\n",
      "0.18 0.89 109.85\n",
      "{'f1': [0.18], 'f2': [0.89], 'Y': [109.85]}\n",
      "1.0 0.26 155.72\n",
      "{'f1': [0.18, 1.0], 'f2': [0.89, 0.26], 'Y': [109.85, 155.72]}\n",
      "0.92 0.11 137.66\n",
      "{'f1': [0.18, 1.0, 0.92], 'f2': [0.89, 0.26, 0.11], 'Y': [109.85, 155.72, 137.66]}\n",
      "0.07 0.37 76.17\n",
      "{'f1': [0.18, 1.0, 0.92, 0.07], 'f2': [0.89, 0.26, 0.11, 0.37], 'Y': [109.85, 155.72, 137.66, 76.17]}\n",
      "0.85 0.16 139.75\n",
      "{'f1': [0.18, 1.0, 0.92, 0.07, 0.85], 'f2': [0.89, 0.26, 0.11, 0.37, 0.16], 'Y': [109.85, 155.72, 137.66, 76.17, 139.75]}\n",
      "0.99 0.41 162.6\n",
      "{'f1': [0.18, 1.0, 0.92, 0.07, 0.85, 0.99], 'f2': [0.89, 0.26, 0.11, 0.37, 0.16, 0.41], 'Y': [109.85, 155.72, 137.66, 76.17, 139.75, 162.6]}\n",
      "0.87 0.47 151.77\n",
      "4\n",
      "{'f1': [], 'f2': []}\n",
      "0.49 0.18\n",
      "{'f1': [0.49], 'f2': [0.18]}\n",
      "0.57 0.83\n",
      "{'f1': [0.49, 0.57], 'f2': [0.18, 0.83]}\n",
      "0.56 0.64\n",
      "{'f1': [0.49, 0.57, 0.56], 'f2': [0.18, 0.83, 0.64]}\n",
      "0.76 0.18\n"
     ]
    }
   ],
   "source": [
    "train_data, test_data = get_input()"
   ]
  },
  {
   "cell_type": "code",
   "execution_count": 45,
   "metadata": {},
   "outputs": [
    {
     "data": {
      "text/html": [
       "<div>\n",
       "<style scoped>\n",
       "    .dataframe tbody tr th:only-of-type {\n",
       "        vertical-align: middle;\n",
       "    }\n",
       "\n",
       "    .dataframe tbody tr th {\n",
       "        vertical-align: top;\n",
       "    }\n",
       "\n",
       "    .dataframe thead th {\n",
       "        text-align: right;\n",
       "    }\n",
       "</style>\n",
       "<table border=\"1\" class=\"dataframe\">\n",
       "  <thead>\n",
       "    <tr style=\"text-align: right;\">\n",
       "      <th></th>\n",
       "      <th>f1</th>\n",
       "      <th>f2</th>\n",
       "      <th>Y</th>\n",
       "    </tr>\n",
       "  </thead>\n",
       "  <tbody>\n",
       "    <tr>\n",
       "      <th>0</th>\n",
       "      <td>0.18</td>\n",
       "      <td>0.89</td>\n",
       "      <td>109.85</td>\n",
       "    </tr>\n",
       "    <tr>\n",
       "      <th>1</th>\n",
       "      <td>1.00</td>\n",
       "      <td>0.26</td>\n",
       "      <td>155.72</td>\n",
       "    </tr>\n",
       "    <tr>\n",
       "      <th>2</th>\n",
       "      <td>0.92</td>\n",
       "      <td>0.11</td>\n",
       "      <td>137.66</td>\n",
       "    </tr>\n",
       "    <tr>\n",
       "      <th>3</th>\n",
       "      <td>0.07</td>\n",
       "      <td>0.37</td>\n",
       "      <td>76.17</td>\n",
       "    </tr>\n",
       "    <tr>\n",
       "      <th>4</th>\n",
       "      <td>0.85</td>\n",
       "      <td>0.16</td>\n",
       "      <td>139.75</td>\n",
       "    </tr>\n",
       "  </tbody>\n",
       "</table>\n",
       "</div>"
      ],
      "text/plain": [
       "     f1    f2       Y\n",
       "0  0.18  0.89  109.85\n",
       "1  1.00  0.26  155.72\n",
       "2  0.92  0.11  137.66\n",
       "3  0.07  0.37   76.17\n",
       "4  0.85  0.16  139.75"
      ]
     },
     "execution_count": 45,
     "metadata": {},
     "output_type": "execute_result"
    }
   ],
   "source": [
    "train_data.head()"
   ]
  },
  {
   "cell_type": "code",
   "execution_count": 46,
   "metadata": {},
   "outputs": [
    {
     "data": {
      "text/html": [
       "<div>\n",
       "<style scoped>\n",
       "    .dataframe tbody tr th:only-of-type {\n",
       "        vertical-align: middle;\n",
       "    }\n",
       "\n",
       "    .dataframe tbody tr th {\n",
       "        vertical-align: top;\n",
       "    }\n",
       "\n",
       "    .dataframe thead th {\n",
       "        text-align: right;\n",
       "    }\n",
       "</style>\n",
       "<table border=\"1\" class=\"dataframe\">\n",
       "  <thead>\n",
       "    <tr style=\"text-align: right;\">\n",
       "      <th></th>\n",
       "      <th>f1</th>\n",
       "      <th>f2</th>\n",
       "    </tr>\n",
       "  </thead>\n",
       "  <tbody>\n",
       "    <tr>\n",
       "      <th>0</th>\n",
       "      <td>0.49</td>\n",
       "      <td>0.18</td>\n",
       "    </tr>\n",
       "    <tr>\n",
       "      <th>1</th>\n",
       "      <td>0.57</td>\n",
       "      <td>0.83</td>\n",
       "    </tr>\n",
       "    <tr>\n",
       "      <th>2</th>\n",
       "      <td>0.56</td>\n",
       "      <td>0.64</td>\n",
       "    </tr>\n",
       "    <tr>\n",
       "      <th>3</th>\n",
       "      <td>0.76</td>\n",
       "      <td>0.18</td>\n",
       "    </tr>\n",
       "  </tbody>\n",
       "</table>\n",
       "</div>"
      ],
      "text/plain": [
       "     f1    f2\n",
       "0  0.49  0.18\n",
       "1  0.57  0.83\n",
       "2  0.56  0.64\n",
       "3  0.76  0.18"
      ]
     },
     "execution_count": 46,
     "metadata": {},
     "output_type": "execute_result"
    }
   ],
   "source": [
    "test_data.head()"
   ]
  },
  {
   "cell_type": "markdown",
   "metadata": {},
   "source": [
    "## Training data"
   ]
  },
  {
   "cell_type": "code",
   "execution_count": 51,
   "metadata": {},
   "outputs": [],
   "source": [
    "X_train = train_data[train_data.columns[:-1]]\n",
    "Y_train = train_data[train_data.columns[-1]]"
   ]
  },
  {
   "cell_type": "markdown",
   "metadata": {},
   "source": [
    "## Linear Model"
   ]
  },
  {
   "cell_type": "code",
   "execution_count": 52,
   "metadata": {},
   "outputs": [],
   "source": [
    "lm = linear_model.LinearRegression()\n",
    "lm.fit(X_train, Y_train)"
   ]
  },
  {
   "cell_type": "markdown",
   "metadata": {},
   "source": [
    "## Answers"
   ]
  },
  {
   "cell_type": "code",
   "execution_count": 54,
   "metadata": {},
   "outputs": [
    {
     "name": "stdout",
     "output_type": "stream",
     "text": [
      "105.21\n",
      "142.67\n",
      "132.94\n",
      "129.7\n"
     ]
    }
   ],
   "source": [
    "answers = lm.predict(test_data)\n",
    "\n",
    "for a in answers:\n",
    "    print(round(a, 2))"
   ]
  },
  {
   "cell_type": "markdown",
   "metadata": {},
   "source": [
    "## HackerRank Answer"
   ]
  },
  {
   "cell_type": "code",
   "execution_count": 55,
   "metadata": {},
   "outputs": [],
   "source": [
    "import pandas as pd\n",
    "import numpy as np\n",
    "\n",
    "from sklearn import linear_model\n",
    "\n",
    "def get_input():\n",
    "    \"\"\"Returns problem input.\"\"\"\n",
    "    m, n = (int(x) for x in input().split())   # num features, & train data\n",
    "    \n",
    "    ## data columns\n",
    "    columns = [\"f{}\".format(m) for m in range(1, m+1)]\n",
    "    columns.append('Y')\n",
    "\n",
    "    ## Training data\n",
    "    train_data = {c:[] for c in columns}\n",
    "    \n",
    "    for i in range(n):\n",
    "        line = [float(x) for x in input().split()]\n",
    "        \n",
    "        for j in range(len(line)):\n",
    "            key = columns[j]\n",
    "            val = train_data[key] + [line[j]]\n",
    "            train_data[key] = val\n",
    "    \n",
    "    ## Test data\n",
    "    q = int(input()) # num predictions\n",
    "    test_columns = [c for c in columns[:-1]]\n",
    "    test_data = {c:[] for c in test_columns}\n",
    "    for i in range(q):\n",
    "        line = [float(x) for x in input().split()]\n",
    "        \n",
    "        for j in range(len(test_columns)):\n",
    "            key = test_columns[j]\n",
    "            val = test_data[key] + [line[j]]\n",
    "            test_data[key] = val\n",
    "            \n",
    "    \n",
    "    return pd.DataFrame(train_data), pd.DataFrame(test_data)\n",
    "\n",
    "\n",
    "def main():\n",
    "    train_data, test_data = get_input()\n",
    "    \n",
    "    ## Training Data\n",
    "    X_train = train_data[train_data.columns[:-1]]\n",
    "    Y_train = train_data[train_data.columns[-1]]\n",
    "    \n",
    "    ## Model\n",
    "    lm = linear_model.LinearRegression()\n",
    "    lm.fit(X_train, Y_train)\n",
    "    \n",
    "    ## Answer\n",
    "    answers = lm.predict(test_data)\n",
    "\n",
    "    for a in answers:\n",
    "        print(round(a, 2))\n",
    "\n",
    "        \n",
    "if __name__ == \"__main__\":\n",
    "    main()"
   ]
  },
  {
   "cell_type": "code",
   "execution_count": null,
   "metadata": {},
   "outputs": [],
   "source": []
  }
 ],
 "metadata": {
  "jupytext": {
   "cell_metadata_filter": "-all",
   "notebook_metadata_filter": "-all",
   "text_representation": {
    "extension": ".py",
    "format_name": "light"
   }
  },
  "kernelspec": {
   "display_name": "Python 3",
   "language": "python",
   "name": "python3"
  },
  "language_info": {
   "codemirror_mode": {
    "name": "ipython",
    "version": 3
   },
   "file_extension": ".py",
   "mimetype": "text/x-python",
   "name": "python",
   "nbconvert_exporter": "python",
   "pygments_lexer": "ipython3",
   "version": "3.8.5"
  }
 },
 "nbformat": 4,
 "nbformat_minor": 4
}
