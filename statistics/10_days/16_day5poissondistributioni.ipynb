{
 "cells": [
  {
   "cell_type": "markdown",
   "metadata": {},
   "source": [
    "Solution to: [Day 5: Poisson Distribution I](https://www.hackerrank.com/challenges/s10-poisson-distribution-1/problem)"
   ]
  },
  {
   "cell_type": "markdown",
   "metadata": {},
   "source": [
    "<h1 id=\"tocheading\">Table of Contents</h1>\n",
    "<div id=\"toc\"></div>\n",
    "\n",
    "- Table of Contents\n",
    "- Notes\n",
    "    - Poisson Experiment\n",
    "    - Poisson Distribution\n",
    "- Examples\n",
    "    - Example 1\n",
    "    - Example 2\n",
    "    - Special Example\n",
    "- Math Solution\n",
    "- Solution\n",
    "    - Imports\n",
    "    - Constants\n",
    "    - Input\n",
    "    - Poisson Distribution\n",
    "    - Main"
   ]
  },
  {
   "cell_type": "code",
   "execution_count": 1,
   "metadata": {},
   "outputs": [
    {
     "data": {
      "application/javascript": [
       "$.getScript('https://kmahelona.github.io/ipython_notebook_goodies/ipython_notebook_toc.js')\n"
      ],
      "text/plain": [
       "<IPython.core.display.Javascript object>"
      ]
     },
     "metadata": {},
     "output_type": "display_data"
    }
   ],
   "source": [
    "%%javascript\n",
    "$.getScript('https://kmahelona.github.io/ipython_notebook_goodies/ipython_notebook_toc.js')"
   ]
  },
  {
   "cell_type": "markdown",
   "metadata": {},
   "source": [
    "# Notes\n",
    "\n",
    "## Poisson Experiment\n",
    "A Poisson experiment is a statistical experiment that has the following properties:\n",
    "- binary outcome of experiment: Success (s) or failure (f)\n",
    "- average number of successes in specified region is known\n",
    "- Probability that success occurs is proportional to size of region\n",
    "- Probability that success occurs in extremely small region is virtually 0"
   ]
  },
  {
   "cell_type": "markdown",
   "metadata": {},
   "source": [
    "## Poisson Distribution\n",
    "A Poisson random variable is the number of successes that result from a Poisson experiment. The probability distribution of a Poisson random variable is called a Poisson distribution:\n",
    "\n",
    "\\begin{equation}\n",
    "\\large\n",
    "P(k, \\lambda) = \n",
    "\\frac\n",
    "{\\lambda ^{k} * e ^{-\\lambda}}\n",
    "{k!}\n",
    "\\end{equation}\n",
    "\n",
    "\n",
    "Where:\n",
    "- P(k, λ) is the Poisson probability to get exactly k successes when average success is λ.\n",
    "- λ = average number of successes in region\n",
    "- k = actual number of successes in region\n",
    "- e = 2.71828"
   ]
  },
  {
   "cell_type": "markdown",
   "metadata": {},
   "source": [
    "\n",
    "# Examples\n",
    "\n",
    "\n",
    "## Example 1\n",
    "Acme Realty company sells an average of 2 homes per day. What is the probability that exactly 3 homes will be sold tomorrow?\n",
    "\n",
    "- $\\lambda$ = 2\n",
    "- k = 3\n",
    "\n",
    "\\begin{equation}\n",
    "\\large\n",
    "P(3, 2) = \n",
    "\\frac\n",
    "{2^{3} * e^{-2}}\n",
    "{3!}\n",
    "\\end{equation}\n",
    "\n",
    "\\begin{equation}\n",
    "\\large\n",
    "= 0.180\n",
    "\\end{equation}"
   ]
  },
  {
   "cell_type": "markdown",
   "metadata": {},
   "source": [
    "## Example 2\n",
    "Suppose the average number of lions seen by tourists on a one-day safari is 5. What is the probability that tourists will see fewer than 4 lions on the next one-day safari?\n",
    "\n",
    "This requires a summation of Poisson distribution Mass Probability Function, from 1 to 3.\n",
    "\n",
    "\\begin{equation}\n",
    "\\large\n",
    "= \\sum_{k=1}^{3}\\frac\n",
    "{5^{k} * e^{-5}}\n",
    "{k!}\n",
    "\\end{equation}\n"
   ]
  },
  {
   "cell_type": "markdown",
   "metadata": {},
   "source": [
    "## Special Example\n",
    "Consider some Poisson random variable, X. Let **E[X]** be the expectation of X. Find the value of E[X**2].\n",
    "\n",
    "Let **Var(X)** be the variance of X. Recall that if a random variable has a Poisson distribution, then:\n",
    "\n",
    "\\begin{equation}\n",
    "\\large\n",
    "E[X] = \\lambda\n",
    "\\end{equation}\n",
    "\n",
    "\\begin{equation}\n",
    "\\large\n",
    "Var(X) = \\lambda\n",
    "\\end{equation}\n",
    "\n",
    "The following is the property of expectation and variation for any random variable, X:\n",
    "\n",
    "\\begin{equation}\n",
    "\\large\n",
    "Var(x) = E[X^{2}] - E[X]^{2}\n",
    "\\end{equation}\n",
    "\n",
    "\\begin{equation}\n",
    "\\large\n",
    "E[X^{2}] = Var(X) + E[X]^{2}\n",
    "\\end{equation}\n",
    "\n",
    "Thus,\n",
    "\n",
    "\\begin{equation}\n",
    "\\large\n",
    "E[X^{2}] = \\lambda + \\lambda^{2}\n",
    "\\end{equation}"
   ]
  },
  {
   "cell_type": "markdown",
   "metadata": {},
   "source": [
    "# Math Solution\n",
    "\n",
    "A random variable, X, follows Poisson distribution with mean of 2.5. Find the probability with which the random variable X is equal to 5.\n",
    "\n",
    "- labmda = 2.5\n",
    "- k = 5\n",
    "\n",
    "\\begin{equation}\n",
    "\\large\n",
    "P(5, 2.5) = \\frac\n",
    "{2.5^{5} * e ^{-2.5}}\n",
    "{5!}\n",
    "\\end{equation}\n",
    "\n",
    "\\begin{equation}\n",
    "\\large\n",
    "0.067\n",
    "\\end{equation}"
   ]
  },
  {
   "cell_type": "markdown",
   "metadata": {},
   "source": [
    "# Solution"
   ]
  },
  {
   "cell_type": "markdown",
   "metadata": {},
   "source": [
    "## Imports"
   ]
  },
  {
   "cell_type": "code",
   "execution_count": 2,
   "metadata": {
    "lines_to_next_cell": 2
   },
   "outputs": [],
   "source": [
    "from typing import Tuple"
   ]
  },
  {
   "cell_type": "markdown",
   "metadata": {},
   "source": [
    "## Constants"
   ]
  },
  {
   "cell_type": "code",
   "execution_count": 3,
   "metadata": {},
   "outputs": [],
   "source": [
    "E = 2.71828"
   ]
  },
  {
   "cell_type": "markdown",
   "metadata": {},
   "source": [
    "## Input"
   ]
  },
  {
   "cell_type": "code",
   "execution_count": 4,
   "metadata": {},
   "outputs": [],
   "source": [
    "def get_input() -> Tuple[float, int]:\n",
    "\t\"\"\"Returns input for Day 5: Poisson Distribution I.\n",
    "\n",
    "\tReturns:\n",
    "\t\tTuple[float, int]: X's mean and desired random variable value, respectively\n",
    "\t\"\"\"\n",
    "\tvar_mean = float(input())\n",
    "\tdesired_value = int(input())\n",
    "\treturn (var_mean, desired_value)"
   ]
  },
  {
   "cell_type": "markdown",
   "metadata": {},
   "source": [
    "## Poisson Distribution"
   ]
  },
  {
   "cell_type": "code",
   "execution_count": 5,
   "metadata": {},
   "outputs": [],
   "source": [
    "def factorial(num: int) -> int:\n",
    "\t\"\"\"Returns factorial of num\n",
    "\n",
    "\tArgs:\n",
    "\t\tnum (int): Number to factorial\n",
    "\n",
    "\tReturns:\n",
    "\t\tint: Factorial result\n",
    "\t\"\"\"\n",
    "\toutput = 1\n",
    "\tfor i in range(num, 0, -1):\n",
    "\t\toutput *= i\n",
    "\treturn output"
   ]
  },
  {
   "cell_type": "code",
   "execution_count": 6,
   "metadata": {},
   "outputs": [],
   "source": [
    "def calc_poisson_prob_mass(desired_value: int, val_mean: float) -> float:\n",
    "\t\"\"\"Returns mass probability for desired value in Poisson Distribution with val_mean. \n",
    "\n",
    "\tArgs:\n",
    "\t\tdesired_value (int): Desired value of random variable, X\n",
    "\t\tval_mean (float): mean value of X\n",
    "\n",
    "\tReturns:\n",
    "\t\tfloat: Returns probability of desired value in Poisson Dist.\n",
    "\t\"\"\"\n",
    "\treturn val_mean ** desired_value * E ** -val_mean / factorial(desired_value)"
   ]
  },
  {
   "cell_type": "code",
   "execution_count": 7,
   "metadata": {},
   "outputs": [],
   "source": [
    "def format_scale(num: float) -> float:\n",
    "\t\"\"\"Returns number formatted to scale.\n",
    "\n",
    "\tArgs:\n",
    "\t\tnum (float): number to\n",
    "\n",
    "\tReturns:\n",
    "\t\tfloat: formatted number\n",
    "\t\"\"\"\n",
    "\treturn f\"{num:.3f}\""
   ]
  },
  {
   "cell_type": "markdown",
   "metadata": {},
   "source": [
    "## Main"
   ]
  },
  {
   "cell_type": "code",
   "execution_count": 8,
   "metadata": {
    "lines_to_next_cell": 2
   },
   "outputs": [],
   "source": [
    "def main():\n",
    "\tvar_mean, desired_value = get_input()\n",
    "\n",
    "\tprob = calc_poisson_prob_mass(desired_value, var_mean)\n",
    "\tprint(format_scale(prob))"
   ]
  },
  {
   "cell_type": "code",
   "execution_count": 9,
   "metadata": {
    "lines_to_next_cell": 2
   },
   "outputs": [
    {
     "name": "stdout",
     "output_type": "stream",
     "text": [
      "2.5\n",
      "5\n",
      "0.067\n"
     ]
    }
   ],
   "source": [
    "if __name__ == \"__main__\":\n",
    "\tmain()"
   ]
  }
 ],
 "metadata": {
  "jupytext": {
   "cell_metadata_filter": "-all",
   "notebook_metadata_filter": "-all",
   "text_representation": {
    "extension": ".py",
    "format_name": "light"
   }
  },
  "kernelspec": {
   "display_name": "Python 3",
   "language": "python",
   "name": "python3"
  },
  "language_info": {
   "codemirror_mode": {
    "name": "ipython",
    "version": 3
   },
   "file_extension": ".py",
   "mimetype": "text/x-python",
   "name": "python",
   "nbconvert_exporter": "python",
   "pygments_lexer": "ipython3",
   "version": "3.8.3"
  }
 },
 "nbformat": 4,
 "nbformat_minor": 4
}
