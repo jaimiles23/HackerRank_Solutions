{
 "cells": [
  {
   "cell_type": "markdown",
   "metadata": {},
   "source": [
    "Solution to: [Day 1: Interquartile Range](https://www.hackerrank.com/challenges/s10-interquartile-range/problem)"
   ]
  },
  {
   "cell_type": "markdown",
   "metadata": {},
   "source": [
    "<h1 id=\"tocheading\">Table of Contents</h1>\n",
    "<div id=\"toc\"></div>\n",
    "\n",
    "- Table of Contents\n",
    "    - Wiki definition\n",
    "- Solution\n",
    "    - Notes\n",
    "    - Process\n",
    "    - Imports\n",
    "    - Constants\n",
    "    - Inputs\n",
    "    - Get Items\n",
    "    - IQR\n",
    "    - Format\n",
    "    - Main"
   ]
  },
  {
   "cell_type": "code",
   "execution_count": 2,
   "metadata": {},
   "outputs": [
    {
     "data": {
      "application/javascript": [
       "$.getScript('https://kmahelona.github.io/ipython_notebook_goodies/ipython_notebook_toc.js')\n"
      ],
      "text/plain": [
       "<IPython.core.display.Javascript object>"
      ]
     },
     "metadata": {},
     "output_type": "display_data"
    }
   ],
   "source": [
    "%%javascript\n",
    "$.getScript('https://kmahelona.github.io/ipython_notebook_goodies/ipython_notebook_toc.js')"
   ]
  },
  {
   "cell_type": "markdown",
   "metadata": {},
   "source": [
    "## Wiki definition\n",
    "In descriptive statistics, the *interquartile range (IQR)*, is a measure of statistical dispersion, being equal to the difference between 75th and 25th percentiles, or between upper and lower quartiles\n",
    "\n",
    "$$\n",
    "\\large\n",
    "\\text{IQR} = \\text{Q3} - \\text{Q1}\n",
    "$$\n",
    "\n",
    "The IQR is a trimmed estimator, defined as the 25% trimmed range, and is a commonly used robust measure of scale.\n"
   ]
  },
  {
   "cell_type": "markdown",
   "metadata": {},
   "source": [
    "# Solution\n",
    "\n",
    "## Notes\n",
    "- Do not include median in upper OR lower data sets.\n",
    "\n",
    "## Process\n",
    "- Create dictionary of values and frequencies before sorting values. \n",
    "\tUsing a dictionary and sorting the keys has a better practical time complexity than sorting a complete list of values."
   ]
  },
  {
   "cell_type": "markdown",
   "metadata": {},
   "source": [
    "## Imports"
   ]
  },
  {
   "cell_type": "code",
   "execution_count": 2,
   "metadata": {
    "lines_to_next_cell": 2
   },
   "outputs": [],
   "source": [
    "from typing import Dict, List, Tuple, Union"
   ]
  },
  {
   "cell_type": "markdown",
   "metadata": {},
   "source": [
    "## Constants"
   ]
  },
  {
   "cell_type": "code",
   "execution_count": 3,
   "metadata": {},
   "outputs": [],
   "source": [
    "SCALE = 1"
   ]
  },
  {
   "cell_type": "markdown",
   "metadata": {},
   "source": [
    "## Inputs"
   ]
  },
  {
   "cell_type": "code",
   "execution_count": 4,
   "metadata": {},
   "outputs": [],
   "source": [
    "def get_input() -> Tuple[int, List[int], List[int]]:\n",
    "\t\"\"\"Returns a tuple of problem input.\n",
    "\tn: int, number of elements\n",
    "\tx: list, list of integers\n",
    "\tf: list, list of integers, index corresponds to frequency of the index of x elements.\n",
    "\t\"\"\"\n",
    "\tn = int(input())\n",
    "\tx = [int(val) for val in input().split()]\n",
    "\tf = [int(val) for val in input().split()]\n",
    "\treturn (n, x, f)"
   ]
  },
  {
   "cell_type": "markdown",
   "metadata": {},
   "source": [
    "## Get Items"
   ]
  },
  {
   "cell_type": "code",
   "execution_count": 5,
   "metadata": {},
   "outputs": [],
   "source": [
    "def get_master_list(nums: List[int], freq: List[int]) -> List[int]:\n",
    "\t\"\"\"Returns list of ints with appropriate frequencies.\n",
    "\t\n",
    "\t2 auxiliary functions:\n",
    "\t- Create_val_freq_dict\n",
    "\t- create_total_nums\n",
    "\t\"\"\"\n",
    "\tdef create_val_freq_dict(nums: List[int], freq: List[int]) -> Dict[int, int]:\n",
    "\t\t\"\"\"Creates a dictionary of numbers & their frequencies in the list.\"\"\"\n",
    "\t\tval_freq_dict = dict()\n",
    "\t\tfor i in range(len(nums)):\n",
    "\t\t\tval = val_freq_dict.get(nums[i], 0)\n",
    "\t\t\tval += freq[i]\n",
    "\t\t\tval_freq_dict[ nums[i]] = val\n",
    "\t\t\n",
    "\t\tassert sum(val_freq_dict.values()) == sum(freq)\t## check that no duplicate keys in nums\n",
    "\t\treturn val_freq_dict\n",
    "\n",
    "\n",
    "\tdef create_total_nums(val_freq_dict: Dict[int, int]) -> List[int]:\n",
    "\t\t\"\"\"Creates list of values from dictionary with values and frequencies.\"\"\"\n",
    "\t\ttotal_nums = []\n",
    "\t\tfor k in sorted(val_freq_dict.keys()):\n",
    "\t\t\ttotal_nums += [int(k) for _ in range(val_freq_dict[k])]\n",
    "\n",
    "\t\treturn total_nums\n",
    "\t\n",
    "\n",
    "\tval_freq_dict = create_val_freq_dict(nums, freq)\n",
    "\treturn create_total_nums(val_freq_dict)"
   ]
  },
  {
   "cell_type": "markdown",
   "metadata": {},
   "source": [
    "## IQR"
   ]
  },
  {
   "cell_type": "code",
   "execution_count": 6,
   "metadata": {},
   "outputs": [],
   "source": [
    "def get_quantile_range(nums: List[int], quantile: int) -> List[int]:\n",
    "\t\"\"\"Returns list of integers for the specified quantile range.\n",
    "\t\n",
    "\tn: int, length of list\n",
    "\tnums: list of ints\n",
    "\tmedian_index: Union[float, int]. Index of the median\n",
    "\tquantile: int, what quantile to return\n",
    "\t\"\"\"\n",
    "\tn = len(nums)\n",
    "\tbound = 0 if quantile == 1 else n\n",
    "\n",
    "\tindex, r = divmod(n, 2)\n",
    "\tif r and quantile == 3:\n",
    "\t\tindex += 1\n",
    "\t\n",
    "\tb1, b2 = sorted([bound, index])\n",
    "\treturn nums[b1: b2]"
   ]
  },
  {
   "cell_type": "code",
   "execution_count": 7,
   "metadata": {},
   "outputs": [],
   "source": [
    "def calc_median(nums: List[int]) -> Union[float, int]:\n",
    "\t\"\"\"Calculates the median from list of numbers.\"\"\"\n",
    "\tindex, r = divmod(len(nums), 2)\n",
    "\tif r:\n",
    "\t\treturn nums[index]\n",
    "\treturn sum(nums[index - 1: index + 1]) / 2"
   ]
  },
  {
   "cell_type": "markdown",
   "metadata": {},
   "source": [
    "## Format"
   ]
  },
  {
   "cell_type": "code",
   "execution_count": 8,
   "metadata": {},
   "outputs": [],
   "source": [
    "def format_scale(num: Union[float, int]) -> Union[float, int]:\n",
    "\t\"\"\"\n",
    "\tIf num is float, returns to scale.\n",
    "\t\"\"\"\n",
    "\treturn \"{0:.1f}\".format(num)\t## Change to scale"
   ]
  },
  {
   "cell_type": "markdown",
   "metadata": {},
   "source": [
    "## Main"
   ]
  },
  {
   "cell_type": "code",
   "execution_count": 9,
   "metadata": {
    "lines_to_next_cell": 2
   },
   "outputs": [],
   "source": [
    "def main():\n",
    "\t## Input\n",
    "\tn, x, f = get_input()\n",
    "\n",
    "\t## Get list of ints\n",
    "\tmaster_list = get_master_list(x, f)\n",
    "\n",
    "\t## Quantile ranges\n",
    "\tq1_range = get_quantile_range(master_list, quantile=1)\n",
    "\tq3_range = get_quantile_range(master_list, quantile=3)\n",
    "\n",
    "\t## Quantiles\n",
    "\tq1 = calc_median(q1_range)\n",
    "\tq3 = calc_median(q3_range)\n",
    "\n",
    "\t## IQR\n",
    "\tiqr = format_scale(q3 - q1)\n",
    "\tprint(iqr)"
   ]
  },
  {
   "cell_type": "code",
   "execution_count": 10,
   "metadata": {},
   "outputs": [
    {
     "name": "stdout",
     "output_type": "stream",
     "text": [
      "6\n",
      "6 12 8 10 20 16\n",
      "5 4 3 2 1 5\n",
      "9.0\n"
     ]
    }
   ],
   "source": [
    "if __name__ == \"__main__\":\n",
    "\tmain()"
   ]
  }
 ],
 "metadata": {
  "jupytext": {
   "cell_metadata_filter": "-all",
   "notebook_metadata_filter": "-all",
   "text_representation": {
    "extension": ".py",
    "format_name": "light"
   }
  },
  "kernelspec": {
   "display_name": "Python 3",
   "language": "python",
   "name": "python3"
  },
  "language_info": {
   "codemirror_mode": {
    "name": "ipython",
    "version": 3
   },
   "file_extension": ".py",
   "mimetype": "text/x-python",
   "name": "python",
   "nbconvert_exporter": "python",
   "pygments_lexer": "ipython3",
   "version": "3.8.3"
  }
 },
 "nbformat": 4,
 "nbformat_minor": 4
}
