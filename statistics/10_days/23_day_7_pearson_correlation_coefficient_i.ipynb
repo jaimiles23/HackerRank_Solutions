{
 "cells": [
  {
   "cell_type": "markdown",
   "metadata": {},
   "source": [
    "Solution to: [Day 7: Pearson Correlation Coefficient I](https://www.hackerrank.com/challenges/s10-pearson-correlation-coefficient/problem)"
   ]
  },
  {
   "cell_type": "markdown",
   "metadata": {},
   "source": [
    "<h1 id=\"tocheading\">Table of Contents</h1>\n",
    "<div id=\"toc\"></div>"
   ]
  },
  {
   "cell_type": "code",
   "execution_count": 1,
   "metadata": {},
   "outputs": [
    {
     "data": {
      "application/javascript": [
       "$.getScript('https://kmahelona.github.io/ipython_notebook_goodies/ipython_notebook_toc.js')\n"
      ],
      "text/plain": [
       "<IPython.core.display.Javascript object>"
      ]
     },
     "metadata": {},
     "output_type": "display_data"
    }
   ],
   "source": [
    "%%javascript\n",
    "$.getScript('https://kmahelona.github.io/ipython_notebook_goodies/ipython_notebook_toc.js')"
   ]
  },
  {
   "cell_type": "markdown",
   "metadata": {},
   "source": [
    "# Notes\n",
    "\n",
    "## Covariance\n",
    "This is a measure of how two random variables change together, or the strength of their correlation.\n",
    "\n",
    "Consider two random variables, X and Y, each with n values (i.e., x1, x2, x3, ... xn  and y1, y2, y3, ... yn ). \n",
    "The covariance of X and Y can be found using the following formula:\n",
    "\n",
    "\\begin{equation}\n",
    "\\large\n",
    "cov(X, Y) = \\frac\n",
    "{1}{n}\n",
    "\\sum_{1}^{n} (x - \\bar{x}) (y - \\bar{y})\n",
    "\\end{equation}\n"
   ]
  },
  {
   "cell_type": "markdown",
   "metadata": {},
   "source": [
    "\n",
    "## Pearson Correlation Coefficient\n",
    "The Pearson correlation coefficient, ρxy, is given by:\n",
    "\n",
    "\\begin{equation}\n",
    "\\large\n",
    "\\text{p}(xy) = \\frac\n",
    "{cov(X, Y)}\n",
    "{\\sigma x * \\sigma y}\n",
    "\\end{equation}\n",
    "\n",
    "You may also see ρ(xy) written as r(xy).\n"
   ]
  },
  {
   "cell_type": "markdown",
   "metadata": {},
   "source": [
    "# Solution"
   ]
  },
  {
   "cell_type": "markdown",
   "metadata": {},
   "source": [
    "## Imports"
   ]
  },
  {
   "cell_type": "code",
   "execution_count": 2,
   "metadata": {},
   "outputs": [],
   "source": [
    "from typing import Tuple"
   ]
  },
  {
   "cell_type": "markdown",
   "metadata": {},
   "source": [
    "## Input"
   ]
  },
  {
   "cell_type": "code",
   "execution_count": 3,
   "metadata": {},
   "outputs": [],
   "source": [
    "def get_input() -> Tuple[int, list, list]:\n",
    "\t\"\"\"Returns input for Pearson Correlation Coefficient I\n",
    "\n",
    "\tReturns:\n",
    "\t\tTuple[int, list, list]: num items, X, Y\n",
    "\t\"\"\"\n",
    "\tnum_items = int(input())\n",
    "\tx = [float(val) for val in input().split()]\n",
    "\ty = [float(val) for val in input().split()]\n",
    "\treturn num_items, x, y"
   ]
  },
  {
   "cell_type": "markdown",
   "metadata": {},
   "source": [
    "## Covariance"
   ]
  },
  {
   "cell_type": "code",
   "execution_count": 4,
   "metadata": {},
   "outputs": [],
   "source": [
    "def calc_mean(x: list) -> float:\n",
    "\t\"\"\"Returns mean of list\n",
    "\n",
    "\tArgs:\n",
    "\t\tx (list): List to calculate mean\n",
    "\n",
    "\tReturns:\n",
    "\t\tfloat: Mean of x\n",
    "\t\"\"\"\n",
    "\treturn sum(x) / len(x)"
   ]
  },
  {
   "cell_type": "code",
   "execution_count": 5,
   "metadata": {},
   "outputs": [],
   "source": [
    "def calc_sd(x: list) -> float:\n",
    "\t\"\"\"Returns standard deviation of list.\n",
    "\n",
    "\tArgs:\n",
    "\t\tx (list): List to calculate sd\n",
    "\n",
    "\tReturns:\n",
    "\t\tfloat: Sd of list\n",
    "\t\"\"\"\n",
    "\tx_mean = calc_mean(x)\n",
    "\t\n",
    "\tsd_num = 0\n",
    "\tfor item in x:\n",
    "\t\tsd_num += (item - x_mean) ** 2\n",
    "\n",
    "\treturn (sd_num / len(x)) ** (1/2)"
   ]
  },
  {
   "cell_type": "code",
   "execution_count": 6,
   "metadata": {},
   "outputs": [],
   "source": [
    "def calc_cov(num_items: int, x: list, y: list) -> float:\n",
    "\t\"\"\"Returns covariance for x and y\n",
    "\n",
    "\tArgs:\n",
    "\t\tnum_items (int): length of x and y\n",
    "\t\tx (list): series 1\n",
    "\t\ty (list): series 2\n",
    "\n",
    "\tReturns:\n",
    "\t\tfloat: covariance between x and y\n",
    "\t\"\"\"\n",
    "\tassert len(x) == len(y)\n",
    "\tmean_x, mean_y = calc_mean(x), calc_mean(y)\n",
    "\n",
    "\tcov_total = 0\n",
    "\tfor i in range(num_items):\n",
    "\t\tcov_total += (x[i] - mean_x) * (y[i] - mean_y)\n",
    "\treturn cov_total / num_items"
   ]
  },
  {
   "cell_type": "code",
   "execution_count": 7,
   "metadata": {},
   "outputs": [],
   "source": [
    "def calc_pearson_coef(num_items: int, x: list, y: list) -> float:\n",
    "\t\"\"\"Returns pearson's coefficient between two lists.\"\"\"\n",
    "\tcov = calc_cov(num_items, x, y)\n",
    "\tsd_x, sd_y = calc_sd(x), calc_sd(y)\n",
    "\n",
    "\treturn cov / (sd_x * sd_y)"
   ]
  },
  {
   "cell_type": "code",
   "execution_count": 8,
   "metadata": {},
   "outputs": [],
   "source": [
    "def print_to_scale(num: int) -> None:\n",
    "\t\"\"\"Prints number to 3 decimal places.\n",
    "\n",
    "\tArgs:\n",
    "\t\tnum (int): Number to print\n",
    "\t\"\"\"\n",
    "\tprint(f\"{num :.3f}\")"
   ]
  },
  {
   "cell_type": "markdown",
   "metadata": {},
   "source": [
    "## Main"
   ]
  },
  {
   "cell_type": "code",
   "execution_count": 9,
   "metadata": {
    "lines_to_next_cell": 2
   },
   "outputs": [],
   "source": [
    "def main():\n",
    "\tnum_items, x, y = get_input()\n",
    "\tpearson_coef = calc_pearson_coef(num_items, x, y)\n",
    "\tprint_to_scale(pearson_coef)"
   ]
  },
  {
   "cell_type": "code",
   "execution_count": 10,
   "metadata": {},
   "outputs": [
    {
     "name": "stdout",
     "output_type": "stream",
     "text": [
      "10\n",
      "10 9.8 8 7.8 7.7 7 6 5 4 2 \n",
      "200 44 32 24 22 17 15 12 8 4\n",
      "0.612\n"
     ]
    }
   ],
   "source": [
    "if __name__ == \"__main__\":\n",
    "\tmain()"
   ]
  }
 ],
 "metadata": {
  "jupytext": {
   "cell_metadata_filter": "-all",
   "notebook_metadata_filter": "-all",
   "text_representation": {
    "extension": ".py",
    "format_name": "light"
   }
  },
  "kernelspec": {
   "display_name": "Python 3",
   "language": "python",
   "name": "python3"
  },
  "language_info": {
   "codemirror_mode": {
    "name": "ipython",
    "version": 3
   },
   "file_extension": ".py",
   "mimetype": "text/x-python",
   "name": "python",
   "nbconvert_exporter": "python",
   "pygments_lexer": "ipython3",
   "version": "3.8.3"
  }
 },
 "nbformat": 4,
 "nbformat_minor": 4
}
