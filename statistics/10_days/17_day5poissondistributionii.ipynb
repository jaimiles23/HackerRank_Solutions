{
 "cells": [
  {
   "cell_type": "markdown",
   "metadata": {},
   "source": [
    "Solution to: [Day 5: Poisson Distribution II](https://www.hackerrank.com/challenges/s10-poisson-distribution-2/problem)"
   ]
  },
  {
   "cell_type": "markdown",
   "metadata": {},
   "source": [
    "<h1 id=\"tocheading\">Table of Contents</h1>\n",
    "<div id=\"toc\"></div>\n",
    "\n",
    "- Table of Contents\n",
    "- Solution\n",
    "    - Imports\n",
    "    - Input\n",
    "    - Calculate Expected Costs\n",
    "    - Main"
   ]
  },
  {
   "cell_type": "code",
   "execution_count": 2,
   "metadata": {},
   "outputs": [
    {
     "data": {
      "application/javascript": [
       "$.getScript('https://kmahelona.github.io/ipython_notebook_goodies/ipython_notebook_toc.js')\n"
      ],
      "text/plain": [
       "<IPython.core.display.Javascript object>"
      ]
     },
     "metadata": {},
     "output_type": "display_data"
    }
   ],
   "source": [
    "%%javascript\n",
    "$.getScript('https://kmahelona.github.io/ipython_notebook_goodies/ipython_notebook_toc.js')"
   ]
  },
  {
   "cell_type": "markdown",
   "metadata": {},
   "source": [
    "# Solution"
   ]
  },
  {
   "cell_type": "markdown",
   "metadata": {},
   "source": [
    "## Imports"
   ]
  },
  {
   "cell_type": "code",
   "execution_count": 2,
   "metadata": {},
   "outputs": [],
   "source": [
    "from typing import Tuple"
   ]
  },
  {
   "cell_type": "markdown",
   "metadata": {},
   "source": [
    "## Input"
   ]
  },
  {
   "cell_type": "code",
   "execution_count": 3,
   "metadata": {},
   "outputs": [],
   "source": [
    "def get_input() -> Tuple[float, float]:\n",
    "\t\"\"\"Returns input for Day 5: Poisson Distribution II.\n",
    "\n",
    "\tReturns:\n",
    "\t\tTuple[float, float]: Represents mean values for machines A and B respectively.\n",
    "\t\"\"\"\n",
    "\ta_cost, b_cost = [float(val) for val in input().split()]\n",
    "\treturn a_cost, b_cost"
   ]
  },
  {
   "cell_type": "markdown",
   "metadata": {},
   "source": [
    "## Calculate Expected Costs"
   ]
  },
  {
   "cell_type": "code",
   "execution_count": 4,
   "metadata": {},
   "outputs": [],
   "source": [
    "def calc_expected_operating_costs(poisson_mean: float, coefficient: int, constant: int) -> float:\n",
    "    \"\"\"Return cost of operating machine with arguments\n",
    "\n",
    "    Args:\n",
    "        poisson_mean (float): Poisson random variable mean\n",
    "        coefficient (int): Coefficient to include in linear cost calculations\n",
    "        constant (int): Constant to add\n",
    "\n",
    "    Returns:\n",
    "        float: Represents daily cost of operating machine\n",
    "    \"\"\"\n",
    "    mean_squared_cost = calc_expected_squared_cost(poisson_mean)\n",
    "\n",
    "    return coefficient * mean_squared_cost + constant"
   ]
  },
  {
   "cell_type": "code",
   "execution_count": 5,
   "metadata": {},
   "outputs": [],
   "source": [
    "def calc_expected_squared_cost(poisson_mean: float) -> float:\n",
    "    \"\"\"Returns expected squared cost\n",
    "\n",
    "    Args:\n",
    "        poisson_mean (float): Poisson random variable mean\n",
    "\n",
    "    Returns:\n",
    "        float: Expected cost of mean squared\n",
    "    \"\"\"\n",
    "    return poisson_mean + poisson_mean ** 2"
   ]
  },
  {
   "cell_type": "code",
   "execution_count": 6,
   "metadata": {},
   "outputs": [],
   "source": [
    "def format_scale(num: float) -> float:\n",
    "    \"\"\"Returns number formatted to scale\n",
    "\n",
    "    Args:\n",
    "        num (float): Number to format\n",
    "\n",
    "    Returns:\n",
    "        float: formatted number\n",
    "    \"\"\"\n",
    "    return f\"{num :.3f}\""
   ]
  },
  {
   "cell_type": "markdown",
   "metadata": {},
   "source": [
    "## Main"
   ]
  },
  {
   "cell_type": "code",
   "execution_count": 7,
   "metadata": {
    "lines_to_next_cell": 2
   },
   "outputs": [],
   "source": [
    "def main():\n",
    "    a_mean, b_mean = get_input()\n",
    "\n",
    "    a_constant, a_coeff = 160, 40\n",
    "    b_constant, b_coeff = 128, 40\n",
    "\n",
    "    a_cost = calc_expected_operating_costs(a_mean, a_coeff, a_constant)\n",
    "    b_cost = calc_expected_operating_costs(b_mean, b_coeff, b_constant)\n",
    "\n",
    "    print(format_scale(a_cost))\n",
    "    print(format_scale(b_cost))"
   ]
  },
  {
   "cell_type": "code",
   "execution_count": 8,
   "metadata": {},
   "outputs": [
    {
     "name": "stdout",
     "output_type": "stream",
     "text": [
      "0.88 1.55\n",
      "226.176\n",
      "286.100\n"
     ]
    }
   ],
   "source": [
    "if __name__ == \"__main__\":\n",
    "\tmain()"
   ]
  }
 ],
 "metadata": {
  "jupytext": {
   "cell_metadata_filter": "-all",
   "notebook_metadata_filter": "-all",
   "text_representation": {
    "extension": ".py",
    "format_name": "light"
   }
  },
  "kernelspec": {
   "display_name": "Python 3",
   "language": "python",
   "name": "python3"
  },
  "language_info": {
   "codemirror_mode": {
    "name": "ipython",
    "version": 3
   },
   "file_extension": ".py",
   "mimetype": "text/x-python",
   "name": "python",
   "nbconvert_exporter": "python",
   "pygments_lexer": "ipython3",
   "version": "3.8.3"
  }
 },
 "nbformat": 4,
 "nbformat_minor": 4
}
