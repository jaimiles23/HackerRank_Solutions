{
 "cells": [
  {
   "cell_type": "markdown",
   "metadata": {},
   "source": [
    "Solution to: [Day 8: Least Square Regression Line](https://www.hackerrank.com/challenges/s10-least-square-regression-line/problem)"
   ]
  },
  {
   "cell_type": "markdown",
   "metadata": {},
   "source": [
    "<h1 id=\"tocheading\">Table of Contents</h1>\n",
    "<div id=\"toc\"></div>\n",
    "\n",
    "- Table of Contents\n",
    "- Notes\n",
    "    - Regression Line\n",
    "    - Finding the Value of b\n",
    "    - Finding the Value of a\n",
    "    - Sums of Squares\n",
    "    - Coefficient of Determination (R-squared)\n",
    "- Example\n",
    "    - Data\n",
    "    - Important stats\n",
    "    - Compute b\n",
    "    - Compute a\n",
    "    - Regression\n",
    "- Solution\n",
    "    - Imports\n",
    "    - Input\n",
    "    - Mean\n",
    "    - Calculate b\n",
    "    - Calculate a\n",
    "    - Predict\n",
    "    - Scale\n",
    "    - Main"
   ]
  },
  {
   "cell_type": "code",
   "execution_count": 1,
   "metadata": {},
   "outputs": [
    {
     "data": {
      "application/javascript": [
       "$.getScript('https://kmahelona.github.io/ipython_notebook_goodies/ipython_notebook_toc.js')\n"
      ],
      "text/plain": [
       "<IPython.core.display.Javascript object>"
      ]
     },
     "metadata": {},
     "output_type": "display_data"
    }
   ],
   "source": [
    "%%javascript\n",
    "$.getScript('https://kmahelona.github.io/ipython_notebook_goodies/ipython_notebook_toc.js')"
   ]
  },
  {
   "cell_type": "markdown",
   "metadata": {
    "lines_to_next_cell": 2
   },
   "source": [
    "# Notes"
   ]
  },
  {
   "cell_type": "markdown",
   "metadata": {},
   "source": [
    "## Regression Line\n",
    "If our data shows a linear relationship between X and Y, then the straight line which best describes the relationship is the regression line. The regression line is given by \n",
    "\n",
    "\\begin{equation}\n",
    "\\large\n",
    "Y = a + bX.\n",
    "\\end{equation}"
   ]
  },
  {
   "cell_type": "markdown",
   "metadata": {},
   "source": [
    "## Finding the Value of b\n",
    "The value of b can be calculated using either of the following formulae:\n",
    "\n",
    "\\begin{equation}\n",
    "\\large\n",
    "b = \\frac\n",
    "{n \\sum (x_{i} y_{i}) - (\\sum x_{i}) (\\sum y_{i})}\n",
    "{n \\sum x_{i} ^{2} - (\\sum x_{i}) ^{2}}\n",
    "\\end{equation}\n",
    "\n",
    "*OR**\n",
    "\n",
    "\\begin{equation}\n",
    "\\large\n",
    "b = p \\frac\n",
    "{\\sigma Y}\n",
    "{\\sigma X}\n",
    "\\end{equation}\n",
    "\n",
    "- where p is the Pearson Correlation"
   ]
  },
  {
   "cell_type": "markdown",
   "metadata": {},
   "source": [
    "## Finding the Value of a\n",
    "\\begin{equation}\n",
    "\\large\n",
    "a = ȳ - b * x̄\n",
    "\\end{equation}"
   ]
  },
  {
   "cell_type": "markdown",
   "metadata": {},
   "source": [
    "## Sums of Squares\n",
    "- **Total Sum of Squares** (SST) = $\\sum (y_{i} - \\bar{y})^{2}$\n",
    "- **Regression Sum of Squares** (SSR) = $\\sum (\\hat{y}_{i} - \\bar{y})^{2}$\n",
    "- **Error Sum of Squares** (SSE) = $\\sum (\\hat{y}_{i} - y)^{2}$\n",
    "\n",
    "\n",
    "*Notes*:\n",
    "- ŷ = predicted value\n",
    "- ȳ = mean value\n",
    "- yi = i-th value of y\n",
    "\n",
    "\n",
    "If SSE is small, we can assume that our fit is good."
   ]
  },
  {
   "cell_type": "markdown",
   "metadata": {},
   "source": [
    "## Coefficient of Determination (R-squared)\n",
    "\n",
    "\\begin{equation}\n",
    "\\large\n",
    "R ^{2} = \\frac\n",
    "{SSR}{SST} = 1 - \\frac{SSE}{SST}\n",
    "\\end{equation}\n",
    "\n",
    "$R^{2}$ multiplied by 100  gives the percent of variation attributed to the linear regression between Y and X."
   ]
  },
  {
   "cell_type": "markdown",
   "metadata": {},
   "source": [
    "# Example\n",
    "\n",
    "## Data\n",
    "\n",
    "    x = [1,2,3,4,5]\n",
    "    y = [2,1,4,3,5]"
   ]
  },
  {
   "cell_type": "markdown",
   "metadata": {},
   "source": [
    "## Important stats\n",
    "- n = 5\n",
    "- $\\sum x$ = 15\n",
    "- $\\bar{X}$ = 3\n",
    "- $\\sum Y$ = 15\n",
    "- $\\bar{y}$ = 3\n",
    "- $X^{2} = Σ(x**2) = 55$\n",
    "- XY = $\\sum(xy)$ = 53\n"
   ]
  },
  {
   "cell_type": "markdown",
   "metadata": {},
   "source": [
    "## Compute b\n",
    "\n",
    "\\begin{equation}\n",
    "\\large\n",
    "b = \\frac\n",
    "{n \\sum (x_{i} * y_{i}) - \\sum x_{i} * \\sum y_{i}}\n",
    "{n \\sum x_{i}^{2} - (\\sum x_{i})^{2}}\n",
    "\\end{equation}\n",
    "\n",
    "\\begin{equation}\n",
    "\\large\n",
    "b = \\frac\n",
    "{5 * 53 - 15 * 15}\n",
    "{5 * 55 - 15 * 2}\n",
    "\\end{equation}\n",
    "\n",
    "\\begin{equation}\n",
    "\\large\n",
    "= 0.8\n",
    "\\end{equation}"
   ]
  },
  {
   "cell_type": "markdown",
   "metadata": {},
   "source": [
    "## Compute a\n",
    "\\begin{equation}\n",
    "\\large\n",
    "a = \\hat{y} - b * \\hat{x}\n",
    "\\end{equation}\n",
    "\n",
    "\\begin{equation}\n",
    "\\large\n",
    "= 3 - 0.8 * 3 = 0.6\n",
    "\\end{equation}\n"
   ]
  },
  {
   "cell_type": "markdown",
   "metadata": {},
   "source": [
    "## Regression \n",
    "\\begin{equation}\n",
    "\\large\n",
    "\\hat{y} = 0.6 + 0.8 * y\n",
    "\\end{equation}"
   ]
  },
  {
   "cell_type": "markdown",
   "metadata": {},
   "source": [
    "# Solution"
   ]
  },
  {
   "cell_type": "markdown",
   "metadata": {},
   "source": [
    "## Imports"
   ]
  },
  {
   "cell_type": "code",
   "execution_count": 2,
   "metadata": {
    "lines_to_next_cell": 1
   },
   "outputs": [],
   "source": [
    "from typing import Tuple"
   ]
  },
  {
   "cell_type": "markdown",
   "metadata": {},
   "source": [
    "## Input"
   ]
  },
  {
   "cell_type": "code",
   "execution_count": 3,
   "metadata": {},
   "outputs": [],
   "source": [
    "def get_input() -> Tuple[list, list]:\n",
    "    \"\"\"Returns tuple representing data points\n",
    "\n",
    "    Returns:\n",
    "        Tuple[list, list]: X and Y, respectively\n",
    "    \"\"\"\n",
    "    num_inputs = 5\n",
    "    x, y = [], []\n",
    "    for i in range(num_inputs):\n",
    "        x_val, y_val = [float(val) for val in input().split()]\n",
    "        x.append(x_val)\n",
    "        y.append(y_val)\n",
    "\n",
    "    return (x, y)"
   ]
  },
  {
   "cell_type": "markdown",
   "metadata": {},
   "source": [
    "## Mean"
   ]
  },
  {
   "cell_type": "code",
   "execution_count": 4,
   "metadata": {},
   "outputs": [],
   "source": [
    "def calc_mean(x: list) -> float:\n",
    "    \"\"\"Returns mean of list\n",
    "\n",
    "    Args:\n",
    "        x (list): Input list\n",
    "\n",
    "    Returns:\n",
    "        float: mean of list\n",
    "    \"\"\"\n",
    "    return sum(x) / len(x)\n"
   ]
  },
  {
   "cell_type": "markdown",
   "metadata": {},
   "source": [
    "## Calculate b"
   ]
  },
  {
   "cell_type": "code",
   "execution_count": 5,
   "metadata": {},
   "outputs": [],
   "source": [
    "def calc_b(x: list, y: list) -> float:\n",
    "    \"\"\"Returns b coefficient for x in simple linear regression\n",
    "\n",
    "    Args:\n",
    "        x (list): series 1\n",
    "        y (list): series 2\n",
    "\n",
    "    Returns:\n",
    "        float: b coefficient for x\n",
    "    \"\"\"\n",
    "    n = len(x)\n",
    "    xy = sum([x[i] * y[i] for i in range(len(x))])\n",
    "    x_sq_sum = sum([val**2 for val in x])\n",
    "\n",
    "    return (n * xy - sum(x) * sum(y)) / ( n * x_sq_sum - sum(x) ** 2)"
   ]
  },
  {
   "cell_type": "markdown",
   "metadata": {},
   "source": [
    "## Calculate a"
   ]
  },
  {
   "cell_type": "code",
   "execution_count": 6,
   "metadata": {},
   "outputs": [],
   "source": [
    "def calc_a(x: list, y: list, b: float) -> float:\n",
    "    \"\"\"Returns `a` coefficient for regression equation.\n",
    "\n",
    "    Args:\n",
    "        x (list): predictor variable\n",
    "        y (list): Outcome variable\n",
    "        b (float): coefficient for predictor variable\n",
    "\n",
    "    Returns:\n",
    "        float: slope intercept\n",
    "    \"\"\"\n",
    "    return calc_mean(y) - b * calc_mean(x)"
   ]
  },
  {
   "cell_type": "markdown",
   "metadata": {},
   "source": [
    "## Predict "
   ]
  },
  {
   "cell_type": "code",
   "execution_count": 7,
   "metadata": {},
   "outputs": [],
   "source": [
    "def predict_val(a: float, b: float, x: int = 80) -> float:\n",
    "    \"\"\"Predicts value for simple linear regression equation\n",
    "\n",
    "    Args:\n",
    "        a (float): Slope intercept constant\n",
    "        b (float): Coefficient for x\n",
    "        x (int): value of X\n",
    "\n",
    "    Returns:\n",
    "        float: predicted value of y\n",
    "    \"\"\"\n",
    "    return a + b * x"
   ]
  },
  {
   "cell_type": "markdown",
   "metadata": {},
   "source": [
    "## Scale"
   ]
  },
  {
   "cell_type": "code",
   "execution_count": 8,
   "metadata": {},
   "outputs": [],
   "source": [
    "def print_to_scale(num: float) -> None:\n",
    "    \"\"\"Prints number to 3 decimal\n",
    "\n",
    "    Args:\n",
    "        num (float): Number to print\n",
    "    \"\"\"\n",
    "    print(f\"{num :.3f}\")"
   ]
  },
  {
   "cell_type": "markdown",
   "metadata": {},
   "source": [
    "## Main"
   ]
  },
  {
   "cell_type": "code",
   "execution_count": 9,
   "metadata": {},
   "outputs": [
    {
     "name": "stdout",
     "output_type": "stream",
     "text": [
      "95 85\n",
      "85 95\n",
      "80 70\n",
      "70 65\n",
      "60 70\n",
      "78.288\n"
     ]
    }
   ],
   "source": [
    "def main():\n",
    "    x, y = get_input()\n",
    "\n",
    "    b = calc_b(x, y)\n",
    "    a = calc_a(x, y, b)\n",
    "\n",
    "    prediction = predict_val(a, b)\n",
    "    print_to_scale(prediction)\n",
    "\n",
    "\n",
    "if __name__ == \"__main__\":\n",
    "    main()"
   ]
  }
 ],
 "metadata": {
  "jupytext": {
   "cell_metadata_filter": "-all",
   "notebook_metadata_filter": "-all",
   "text_representation": {
    "extension": ".py",
    "format_name": "light"
   }
  },
  "kernelspec": {
   "display_name": "Python 3",
   "language": "python",
   "name": "python3"
  },
  "language_info": {
   "codemirror_mode": {
    "name": "ipython",
    "version": 3
   },
   "file_extension": ".py",
   "mimetype": "text/x-python",
   "name": "python",
   "nbconvert_exporter": "python",
   "pygments_lexer": "ipython3",
   "version": "3.8.3"
  }
 },
 "nbformat": 4,
 "nbformat_minor": 4
}
