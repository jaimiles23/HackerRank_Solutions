{
 "cells": [
  {
   "cell_type": "markdown",
   "metadata": {},
   "source": [
    "Solution to: [Day 5: Poisson Distribution II](https://www.hackerrank.com/challenges/s10-poisson-distribution-2/problem)"
   ]
  },
  {
   "cell_type": "markdown",
   "metadata": {},
   "source": [
    "<h1 id=\"tocheading\">Table of Contents</h1>\n",
    "<div id=\"toc\"></div>"
   ]
  },
  {
   "cell_type": "code",
   "execution_count": 1,
   "metadata": {},
   "outputs": [
    {
     "data": {
      "application/javascript": [
       "$.getScript('https://kmahelona.github.io/ipython_notebook_goodies/ipython_notebook_toc.js')\n"
      ],
      "text/plain": [
       "<IPython.core.display.Javascript object>"
      ]
     },
     "metadata": {},
     "output_type": "display_data"
    }
   ],
   "source": [
    "%%javascript\n",
    "$.getScript('https://kmahelona.github.io/ipython_notebook_goodies/ipython_notebook_toc.js')"
   ]
  },
  {
   "cell_type": "code",
   "execution_count": null,
   "metadata": {},
   "outputs": [],
   "source": [
    "\n",
    "\n",
    "########## NOTE\n",
    "From the tutorial, we can find the Expectation of X by considering the following:\n",
    "\n",
    "Consider some Poisson random variable, X. Let E[x] be the expectation of X. Find the value of E[X**2].\n",
    "\n",
    "Let Var(X) be the variance of X. Recall that if a random variable has a Poisson distribution, then:\n",
    "\tE[X] =  λ\n",
    "\tVar(X) =  λ\n",
    "\n",
    "Now, we'll use the following property of expectation and variance for any random variable, X:\n",
    "So, for any random variable X having a Poisson distribution, the above result can be rewritten as:\n",
    "\n",
    "\tVar(X) = E[X**2] - E[X]**2\n",
    "\tE[X**2] = Var(X) + E[X]**2\n",
    "Thus, for any random variable, X, having a Poisson distribution, the result can be written as:\n",
    "\tE[X**2] =  λ +  λ**2 \n",
    "\n",
    "This formula means that the expectation of X**2 is the mean squared + the variance\n",
    "]\n",
    " */\n",
    "\"\"\""
   ]
  },
  {
   "cell_type": "code",
   "execution_count": null,
   "metadata": {},
   "outputs": [],
   "source": [
    "##########\n",
    "# Imports\n",
    "##########\n",
    "from typing import Tuple"
   ]
  },
  {
   "cell_type": "markdown",
   "metadata": {},
   "source": [
    "#########\n",
    "Input\n",
    "#########"
   ]
  },
  {
   "cell_type": "code",
   "execution_count": null,
   "metadata": {},
   "outputs": [],
   "source": [
    "def get_input() -> Tuple[float, float]:\n",
    "\t\"\"\"Returns input for Day 5: Poisson Distribution II.\n",
    "\n",
    "\tReturns:\n",
    "\t\tTuple[float, float]: Represents mean values for machines A and B respectively.\n",
    "\t\"\"\"\n",
    "\ta_cost, b_cost = [float(val) for val in input().split()]\n",
    "\treturn a_cost, b_cost"
   ]
  },
  {
   "cell_type": "markdown",
   "metadata": {},
   "source": [
    "#########\n",
    "Calculate Expected Costs\n",
    "#########"
   ]
  },
  {
   "cell_type": "code",
   "execution_count": null,
   "metadata": {},
   "outputs": [],
   "source": [
    "def calc_expected_operating_costs(poisson_mean: float, coefficient: int, constant: int) -> float:\n",
    "\t\"\"\"Return cost of operating machine with arguments\n",
    "\n",
    "\tArgs:\n",
    "\t\tpoisson_mean (float): Poisson random variable mean\n",
    "\t\tcoefficient (int): Coefficient to include in linear cost calculations\n",
    "\t\tconstant (int): Constant to add\n",
    "\n",
    "\tReturns:\n",
    "\t\tfloat: Represents daily cost of operating machine\n",
    "\t\"\"\"\n",
    "\tmean_squared_cost = calc_expected_squared_cost(poisson_mean)\n",
    "\n",
    "\treturn coefficient * mean_squared_cost + constant"
   ]
  },
  {
   "cell_type": "code",
   "execution_count": null,
   "metadata": {},
   "outputs": [],
   "source": [
    "def calc_expected_squared_cost(poisson_mean: float) -> float:\n",
    "\t\"\"\"Returns expected squared cost\n",
    "\n",
    "\tArgs:\n",
    "\t\tpoisson_mean (float): Poisson random variable mean\n",
    "\n",
    "\tReturns:\n",
    "\t\tfloat: Expected cost of mean squared\n",
    "\t\"\"\"\n",
    "\treturn poisson_mean + poisson_mean ** 2"
   ]
  },
  {
   "cell_type": "code",
   "execution_count": null,
   "metadata": {},
   "outputs": [],
   "source": [
    "def format_scale(num: float) -> float:\n",
    "\t\"\"\"Returns number formatted to scale\n",
    "\n",
    "\tArgs:\n",
    "\t\tnum (float): Number to format\n",
    "\n",
    "\tReturns:\n",
    "\t\tfloat: formatted number\n",
    "\t\"\"\"\n",
    "\treturn f\"{num :.3f}\""
   ]
  },
  {
   "cell_type": "code",
   "execution_count": null,
   "metadata": {
    "lines_to_next_cell": 2
   },
   "outputs": [],
   "source": [
    "##########\n",
    "# Main\n",
    "##########\n",
    "def main():\n",
    "\ta_mean, b_mean = get_input()\n",
    "\n",
    "\ta_constant, a_coeff = 160, 40\n",
    "\tb_constant, b_coeff = 128, 40\n",
    "\n",
    "\ta_cost = calc_expected_operating_costs(a_mean, a_coeff, a_constant)\n",
    "\tb_cost = calc_expected_operating_costs(b_mean, b_coeff, b_constant)\n",
    "\n",
    "\tprint(format_scale(a_cost))\n",
    "\tprint(format_scale(b_cost))"
   ]
  },
  {
   "cell_type": "code",
   "execution_count": null,
   "metadata": {},
   "outputs": [],
   "source": [
    "if __name__ == \"__main__\":\n",
    "\tmain()"
   ]
  }
 ],
 "metadata": {
  "jupytext": {
   "cell_metadata_filter": "-all",
   "notebook_metadata_filter": "-all",
   "text_representation": {
    "extension": ".py",
    "format_name": "light"
   }
  },
  "kernelspec": {
   "display_name": "Python 3",
   "language": "python",
   "name": "python3"
  },
  "language_info": {
   "codemirror_mode": {
    "name": "ipython",
    "version": 3
   },
   "file_extension": ".py",
   "mimetype": "text/x-python",
   "name": "python",
   "nbconvert_exporter": "python",
   "pygments_lexer": "ipython3",
   "version": "3.8.3"
  }
 },
 "nbformat": 4,
 "nbformat_minor": 4
}
