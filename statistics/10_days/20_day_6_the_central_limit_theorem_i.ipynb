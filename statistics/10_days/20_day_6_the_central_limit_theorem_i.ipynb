{
 "cells": [
  {
   "cell_type": "markdown",
   "metadata": {},
   "source": [
    "Solution to: [Day 6: The Central Limit Theorem I](https://www.hackerrank.com/challenges/s10-the-central-limit-theorem-1/problem)"
   ]
  },
  {
   "cell_type": "markdown",
   "metadata": {},
   "source": [
    "<h1 id=\"tocheading\">Table of Contents</h1>\n",
    "<div id=\"toc\"></div>\n",
    "\n",
    "- Table of Contents\n",
    "- Central Limit Theorem\n",
    "- Solution\n",
    "    - Imports\n",
    "    - Input\n",
    "    - Cumulative Distribution Function\n",
    "    - Main"
   ]
  },
  {
   "cell_type": "code",
   "execution_count": 1,
   "metadata": {},
   "outputs": [
    {
     "data": {
      "application/javascript": [
       "$.getScript('https://kmahelona.github.io/ipython_notebook_goodies/ipython_notebook_toc.js')\n"
      ],
      "text/plain": [
       "<IPython.core.display.Javascript object>"
      ]
     },
     "metadata": {},
     "output_type": "display_data"
    }
   ],
   "source": [
    "%%javascript\n",
    "$.getScript('https://kmahelona.github.io/ipython_notebook_goodies/ipython_notebook_toc.js')"
   ]
  },
  {
   "cell_type": "markdown",
   "metadata": {},
   "source": [
    "# Central Limit Theorem\n",
    "\n",
    "Given a large enough Sample, N, *the distribution of the sample mean will approach normal distribution*. This holds for a sample of random variables with a finite standard deviation.\n",
    "\n",
    "Let {X1, X2, X3 ... Xn} be a random data set of size N, that is, a sequence of independent and identically distributed \n",
    "random variables drawn from distributions of expected values given by µ and finite variances given by σ². \n",
    "\n",
    "The sample average is:\n",
    "\\begin{equation}\n",
    "\\large\n",
    "s_{n} = \n",
    "\\frac\n",
    "{\\sum_{i} X_{i}}\n",
    "{N}\n",
    "\\end{equation}\n",
    "\n",
    "For large n, the distribution of sample sums $S_{n}$ is close to normal distribution $\\mathcal{N}$(µ', σ') where:\n",
    "- µ' = n * µ\n",
    "- σ = n ** (1/2) * σ\n"
   ]
  },
  {
   "cell_type": "markdown",
   "metadata": {},
   "source": [
    "# Solution"
   ]
  },
  {
   "cell_type": "markdown",
   "metadata": {},
   "source": [
    "## Imports"
   ]
  },
  {
   "cell_type": "code",
   "execution_count": 2,
   "metadata": {
    "lines_to_next_cell": 1
   },
   "outputs": [],
   "source": [
    "from typing import Tuple\n",
    "import math"
   ]
  },
  {
   "cell_type": "markdown",
   "metadata": {},
   "source": [
    "## Input"
   ]
  },
  {
   "cell_type": "code",
   "execution_count": 3,
   "metadata": {},
   "outputs": [],
   "source": [
    "def get_input() -> Tuple[int, int, int, int]:\n",
    "\t\"\"\"Returns input for Central Limit Theorem I\n",
    "\n",
    "\tReturns:\n",
    "\t\tTuple[int, int, int, int]: max_weight, boxes, mean, sd\n",
    "\t\"\"\"\n",
    "\treturn 9800, 49, 205, 15"
   ]
  },
  {
   "cell_type": "markdown",
   "metadata": {},
   "source": [
    "## Cumulative Distribution Function"
   ]
  },
  {
   "cell_type": "code",
   "execution_count": 4,
   "metadata": {},
   "outputs": [],
   "source": [
    "def erf(x: int) -> float:\n",
    "\t\"\"\"Returns probability that random number in range [-x, x]\n",
    "\n",
    "\tArgs:\n",
    "\t\tx (int): input of error function\n",
    "\n",
    "\tReturns:\n",
    "\t\tfloat: error for x\n",
    "\t\n",
    "\tNOTE:\n",
    "\t\t- Taken from: https://www.johndcook.com/blog/python_erf/\n",
    "\t\"\"\"\n",
    "\tconstants = (\n",
    "\t\t1.061405429,\n",
    "\t\t-1.453152027,\n",
    "\t\t1.421413741,\n",
    "\t\t-0.284496736,\n",
    "\t\t0.254829592\n",
    "\t)\n",
    "\tp  =  0.3275911\n",
    "\tsign = 1 if x >= 0 else -1\n",
    "\tx = abs(x)\n",
    "\tt = 1 / (1 + p * x)\n",
    "\ty = 0\n",
    "\n",
    "\tfor c in constants: y = (y + c) * t\n",
    "\ty = 1 - (y * math.exp(-x*x))\n",
    "\n",
    "\treturn sign * y"
   ]
  },
  {
   "cell_type": "code",
   "execution_count": 5,
   "metadata": {},
   "outputs": [],
   "source": [
    "def calc_cum_prob_norm_dist(x: int, mean: int, sd: int) -> float:\n",
    "\t\"\"\"Returns cumulative probability for a normal distribution from 0 to X.\n",
    "\n",
    "\tArgs:\n",
    "\t\tx (int): Upper limit of cumulative probability\n",
    "\t\tmean (int): mean of sample\n",
    "\t\tsd (int): standard deviation of sample\n",
    "\n",
    "\tReturns:\n",
    "\t\tfloat: cumulative probability for [0, X].\n",
    "\t\"\"\"\n",
    "\tz = (x - mean) / (sd * 2 ** (1/2))\n",
    "\treturn 1/2 * (1 + erf(z))"
   ]
  },
  {
   "cell_type": "code",
   "execution_count": 6,
   "metadata": {},
   "outputs": [],
   "source": [
    "def print_to_scale(num: int) -> None:\n",
    "\t\"\"\"Prints number to 4 decimal places\n",
    "\n",
    "\tArgs:\n",
    "\t\tnum (int): Number to print\n",
    "\t\"\"\"\n",
    "\tprint(f\"{num :.4f}\")"
   ]
  },
  {
   "cell_type": "markdown",
   "metadata": {},
   "source": [
    "## Main"
   ]
  },
  {
   "cell_type": "code",
   "execution_count": 7,
   "metadata": {
    "lines_to_next_cell": 2
   },
   "outputs": [],
   "source": [
    "def main():\n",
    "\t\"\"\"\n",
    "\tNOTE:\n",
    "\tThis is an interesting application of a normal distribution.\n",
    "\n",
    "\tThus far, I have only used normal distribution assumptions when working with the mean. However, it makes sense\n",
    "\tfor other statistics to follow the normal dist as well, e.g., the summation of a sample.\n",
    "\n",
    "\tAs such, this solution uses a CDF to calculate the cumulative probability of \n",
    "\t\"\"\"\n",
    "\t## Get Input\n",
    "\tmax_weight, boxes, avg_weight, sd_weight = get_input()\n",
    "\n",
    "\t## Calculate sum & variance statistics to use\n",
    "\tnormal_dist_sum = boxes * avg_weight\n",
    "\tnormal_dist_sd = boxes ** (1/2) * sd_weight\n",
    "\t\n",
    "\t## Find Cumulative distribution\n",
    "\tcum_prob = calc_cum_prob_norm_dist(max_weight, normal_dist_sum, normal_dist_sd)\n",
    "\n",
    "\tprint_to_scale(cum_prob)"
   ]
  },
  {
   "cell_type": "code",
   "execution_count": 8,
   "metadata": {
    "lines_to_next_cell": 2
   },
   "outputs": [
    {
     "name": "stdout",
     "output_type": "stream",
     "text": [
      "0.0098\n"
     ]
    }
   ],
   "source": [
    "if __name__ == \"__main__\":\n",
    "\tmain()"
   ]
  }
 ],
 "metadata": {
  "jupytext": {
   "cell_metadata_filter": "-all",
   "notebook_metadata_filter": "-all",
   "text_representation": {
    "extension": ".py",
    "format_name": "light"
   }
  },
  "kernelspec": {
   "display_name": "Python 3",
   "language": "python",
   "name": "python3"
  },
  "language_info": {
   "codemirror_mode": {
    "name": "ipython",
    "version": 3
   },
   "file_extension": ".py",
   "mimetype": "text/x-python",
   "name": "python",
   "nbconvert_exporter": "python",
   "pygments_lexer": "ipython3",
   "version": "3.8.3"
  }
 },
 "nbformat": 4,
 "nbformat_minor": 4
}
