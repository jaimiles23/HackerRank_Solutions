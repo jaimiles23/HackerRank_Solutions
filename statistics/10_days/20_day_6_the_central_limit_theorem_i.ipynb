{
 "cells": [
  {
   "cell_type": "code",
   "execution_count": null,
   "metadata": {},
   "outputs": [],
   "source": [
    "\"\"\"/**\n",
    " * @author [Jai Miles]\n",
    " * @email [jaimiles23@gmail.com]\n",
    " * @create date 2020-09-25 17:20:05\n",
    " * @modify date 2020-09-25 17:20:05\n",
    " * @desc [\n",
    "\tSolution to: Day 6: The Central Limit Theorem I\n",
    "\t\thttps://www.hackerrank.com/challenges/s10-the-central-limit-theorem-1/problem\n",
    "\n",
    "This script contains 2 sections:\n",
    "\t1. Tutorial Notes\n",
    "\t2. Python Solution\n",
    "\n",
    "##########\n",
    "# Central Limit Theorem\n",
    "##########\n",
    "\n",
    "Given a large enough Sample, N, the distribution of the sample mean will approach normal distribution. \n",
    "This holds for a sample of random variables with a finite standard deviation.\n",
    "\n",
    "\n",
    "\n",
    "\n",
    "Let {X1, X2, X3 ... Xn} be a random data set of size n, that is, a sequence of independent and identically distributed \n",
    "random variables drawn from distributions of expected values given by µ and finite variances given by σ². \n",
    "The sample average is:\n",
    "\n",
    "\tsn = SUMMATION(X) / N\n",
    "\n",
    "\n",
    "For large n, the distribution of sample sums Sn is close to normal distribution N(µ', σ') where:\n",
    "\tµ' = n x µ\n",
    "\tσ = n ** (1/2) * σ\n",
    "\n",
    " ]\n",
    " */\n",
    "\"\"\""
   ]
  },
  {
   "cell_type": "markdown",
   "metadata": {},
   "source": [
    "#########\n",
    "Imports\n",
    "#########"
   ]
  },
  {
   "cell_type": "code",
   "execution_count": null,
   "metadata": {
    "lines_to_next_cell": 1
   },
   "outputs": [],
   "source": [
    "from typing import Tuple\n",
    "import math"
   ]
  },
  {
   "cell_type": "markdown",
   "metadata": {},
   "source": [
    "#########\n",
    "Input\n",
    "#########"
   ]
  },
  {
   "cell_type": "code",
   "execution_count": null,
   "metadata": {},
   "outputs": [],
   "source": [
    "def get_input() -> Tuple[int, int, int, int]:\n",
    "\t\"\"\"Returns input for Central Limit Theorem I\n",
    "\n",
    "\tReturns:\n",
    "\t\tTuple[int, int, int, int]: max_weight, boxes, mean, sd\n",
    "\t\"\"\"\n",
    "\treturn 9800, 49, 205, 15"
   ]
  },
  {
   "cell_type": "markdown",
   "metadata": {},
   "source": [
    "#########\n",
    "Cumulative Distribution Function\n",
    "#########"
   ]
  },
  {
   "cell_type": "code",
   "execution_count": null,
   "metadata": {},
   "outputs": [],
   "source": [
    "def erf(x: int) -> float:\n",
    "\t\"\"\"Returns probability that random number in range [-x, x]\n",
    "\n",
    "\tArgs:\n",
    "\t\tx (int): input of error function\n",
    "\n",
    "\tReturns:\n",
    "\t\tfloat: error for x\n",
    "\t\n",
    "\tNOTE:\n",
    "\t\t- Taken from: https://www.johndcook.com/blog/python_erf/\n",
    "\t\"\"\"\n",
    "\tconstants = (\n",
    "\t\t1.061405429,\n",
    "\t\t-1.453152027,\n",
    "\t\t1.421413741,\n",
    "\t\t-0.284496736,\n",
    "\t\t0.254829592\n",
    "\t)\n",
    "\tp  =  0.3275911\n",
    "\tsign = 1 if x >= 0 else -1\n",
    "\tx = abs(x)\n",
    "\tt = 1 / (1 + p * x)\n",
    "\ty = 0\n",
    "\n",
    "\tfor c in constants: y = (y + c) * t\n",
    "\ty = 1 - (y * math.exp(-x*x))\n",
    "\n",
    "\treturn sign * y"
   ]
  },
  {
   "cell_type": "code",
   "execution_count": null,
   "metadata": {},
   "outputs": [],
   "source": [
    "def calc_cum_prob_norm_dist(x: int, mean: int, sd: int) -> float:\n",
    "\t\"\"\"Returns cumulative probability for a normal distribution from 0 to X.\n",
    "\n",
    "\tArgs:\n",
    "\t\tx (int): Upper limit of cumulative probability\n",
    "\t\tmean (int): mean of sample\n",
    "\t\tsd (int): standard deviation of sample\n",
    "\n",
    "\tReturns:\n",
    "\t\tfloat: cumulative probability for [0, X].\n",
    "\t\"\"\"\n",
    "\tz = (x - mean) / (sd * 2 ** (1/2))\n",
    "\treturn 1/2 * (1 + erf(z))"
   ]
  },
  {
   "cell_type": "code",
   "execution_count": null,
   "metadata": {},
   "outputs": [],
   "source": [
    "def print_to_scale(num: int) -> None:\n",
    "\t\"\"\"Prints number to 4 decimal places\n",
    "\n",
    "\tArgs:\n",
    "\t\tnum (int): Number to print\n",
    "\t\"\"\"\n",
    "\tprint(f\"{num :.4f}\")"
   ]
  },
  {
   "cell_type": "markdown",
   "metadata": {},
   "source": [
    "#########\n",
    "Main\n",
    "#########"
   ]
  },
  {
   "cell_type": "code",
   "execution_count": null,
   "metadata": {
    "lines_to_next_cell": 2
   },
   "outputs": [],
   "source": [
    "def main():\n",
    "\t\"\"\"\n",
    "\tNOTE:\n",
    "\tThis is an interesting application of a normal distribution.\n",
    "\n",
    "\tThus far, I have only used normal distribution assumptions when working with the mean. However, it makes sense\n",
    "\tfor other statistics to follow the normal dist as well, e.g., the summation of a sample.\n",
    "\n",
    "\tAs such, this solution uses a CDF to calculate the cumulative probability of \n",
    "\t\"\"\"\n",
    "\t## Get Input\n",
    "\tmax_weight, boxes, avg_weight, sd_weight = get_input()\n",
    "\n",
    "\t## Calculate sum & variance statistics to use\n",
    "\tnormal_dist_sum = boxes * avg_weight\n",
    "\tnormal_dist_sd = boxes ** (1/2) * sd_weight\n",
    "\t\n",
    "\t## Find Cumulative distribution\n",
    "\tcum_prob = calc_cum_prob_norm_dist(max_weight, normal_dist_sum, normal_dist_sd)\n",
    "\n",
    "\tprint_to_scale(cum_prob)"
   ]
  },
  {
   "cell_type": "code",
   "execution_count": null,
   "metadata": {
    "lines_to_next_cell": 2
   },
   "outputs": [],
   "source": [
    "if __name__ == \"__main__\":\n",
    "\tmain()"
   ]
  }
 ],
 "metadata": {
  "jupytext": {
   "cell_metadata_filter": "-all",
   "notebook_metadata_filter": "-all",
   "text_representation": {
    "extension": ".py",
    "format_name": "light"
   }
  },
  "kernelspec": {
   "display_name": "Python 3",
   "language": "python",
   "name": "python3"
  },
  "language_info": {
   "codemirror_mode": {
    "name": "ipython",
    "version": 3
   },
   "file_extension": ".py",
   "mimetype": "text/x-python",
   "name": "python",
   "nbconvert_exporter": "python",
   "pygments_lexer": "ipython3",
   "version": "3.8.3"
  }
 },
 "nbformat": 4,
 "nbformat_minor": 4
}
