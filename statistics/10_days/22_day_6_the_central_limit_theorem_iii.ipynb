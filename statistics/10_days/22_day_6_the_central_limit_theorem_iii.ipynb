{
 "cells": [
  {
   "cell_type": "markdown",
   "metadata": {},
   "source": [
    "Solution to: [Day 6: The Central Limit Theorem III](https://www.hackerrank.com/challenges/s10-the-central-limit-theorem-3/problem)"
   ]
  },
  {
   "cell_type": "markdown",
   "metadata": {},
   "source": [
    "<h1 id=\"tocheading\">Table of Contents</h1>\n",
    "<div id=\"toc\"></div>"
   ]
  },
  {
   "cell_type": "code",
   "execution_count": 1,
   "metadata": {},
   "outputs": [
    {
     "data": {
      "application/javascript": [
       "$.getScript('https://kmahelona.github.io/ipython_notebook_goodies/ipython_notebook_toc.js')\n"
      ],
      "text/plain": [
       "<IPython.core.display.Javascript object>"
      ]
     },
     "metadata": {},
     "output_type": "display_data"
    }
   ],
   "source": [
    "%%javascript\n",
    "$.getScript('https://kmahelona.github.io/ipython_notebook_goodies/ipython_notebook_toc.js')"
   ]
  },
  {
   "cell_type": "markdown",
   "metadata": {},
   "source": [
    "## Notes\n",
    "This solution utilizes the formula to determine a z-score:\n",
    "\tz = (x -  μ) / σ\n",
    "\n",
    "Because the problem gives us the z-score and asks us to find the bounds, we can solve the formula for x:\n",
    "\tx = (z * σ) + μ\n",
    "\n",
    "The true values are: mean_sample = mean_population, and sd_sample = sd_population / sqrt(n)\n",
    "NOTE: \n",
    "\tWhen extrapolating sample statistics to population statistics, the following are derived from the Central Limit Theorem:\n",
    "\t\t1. mean_sample = mean_population\n",
    "\t\t2. standard error (population) = sd_sample / sqrt(n)\n",
    "\t\t\tThis is because as the sample increases, means cluster more closely around the mean"
   ]
  },
  {
   "cell_type": "markdown",
   "metadata": {},
   "source": [
    "## Imports"
   ]
  },
  {
   "cell_type": "code",
   "execution_count": null,
   "metadata": {},
   "outputs": [],
   "source": [
    "from typing import Tuple"
   ]
  },
  {
   "cell_type": "markdown",
   "metadata": {},
   "source": [
    "## Inputs"
   ]
  },
  {
   "cell_type": "code",
   "execution_count": null,
   "metadata": {},
   "outputs": [],
   "source": [
    "def get_input() -> Tuple[int, int, int, float, float]:\n",
    "\t\"\"\"Returns input for Day 6: Central Limit Theorem III.\n",
    "\n",
    "\tReturns:\n",
    "\t\tTuple[int, int, int, float, float]: num_students, mean, sd, distribution percent, z-score\n",
    "\t\"\"\"\n",
    "\treturn 100, 500, 80, 0.95, 1.96"
   ]
  },
  {
   "cell_type": "markdown",
   "metadata": {},
   "source": [
    "## Z Score"
   ]
  },
  {
   "cell_type": "code",
   "execution_count": null,
   "metadata": {},
   "outputs": [],
   "source": [
    "def calc_std_err(sd: int, n: int) -> float:\n",
    "\t\"\"\"Returns standard error of population\n",
    "\n",
    "\tArgs:\n",
    "\t\tsd (int): Standard deviation\n",
    "\t\tn (int): Sample\n",
    "\n",
    "\tReturns:\n",
    "\t\tfloat: Standard error\n",
    "\t\"\"\"\n",
    "\treturn sd / (n ** (1/2))"
   ]
  },
  {
   "cell_type": "code",
   "execution_count": null,
   "metadata": {},
   "outputs": [],
   "source": [
    "def calc_val_from_zscore(z_score: float, mean: int, sd: int) -> float:\n",
    "\t\"\"\"Returns value associated with the z-score from sample mean & sd.\n",
    "\n",
    "\tArgs:\n",
    "\t\tz_score (float): z-score\n",
    "\t\tmean (int): sample mean\n",
    "\t\tsd (int): sample sd\n",
    "\n",
    "\tReturns:\n",
    "\t\tfloat: value assocaited with z-score given sample mean & sd\n",
    "\t\"\"\"\n",
    "\treturn z_score * sd + mean"
   ]
  },
  {
   "cell_type": "markdown",
   "metadata": {},
   "source": [
    "## Format"
   ]
  },
  {
   "cell_type": "code",
   "execution_count": 3,
   "metadata": {},
   "outputs": [],
   "source": [
    "def print_to_scale(num: int) -> None:\n",
    "\t\"\"\"Prints number to 2 decimal point scale\n",
    "\n",
    "\tArgs:\n",
    "\t\tnum (int): Number to print\n",
    "\t\"\"\"\n",
    "\tprint(f\"{num :.2f}\")"
   ]
  },
  {
   "cell_type": "markdown",
   "metadata": {},
   "source": [
    "## Main"
   ]
  },
  {
   "cell_type": "code",
   "execution_count": null,
   "metadata": {
    "lines_to_next_cell": 2
   },
   "outputs": [],
   "source": [
    "def main():\n",
    "\tnum_students, mean, sd, dist_percent, z_score = get_input()\n",
    "\tstd_err = calc_std_err(sd, num_students)\n",
    "\n",
    "\t## Bottom bound of dist_percent\n",
    "\ta = calc_val_from_zscore(-z_score, mean, std_err)\n",
    "\t## Top bound of dist_percent\n",
    "\tb = calc_val_from_zscore(z_score, mean, std_err)\n",
    "\n",
    "\t## Print\n",
    "\tprint_to_scale(a)\n",
    "\tprint_to_scale(b)"
   ]
  },
  {
   "cell_type": "code",
   "execution_count": null,
   "metadata": {},
   "outputs": [],
   "source": [
    "if __name__ == \"__main__\":\n",
    "\tmain()"
   ]
  }
 ],
 "metadata": {
  "jupytext": {
   "cell_metadata_filter": "-all",
   "notebook_metadata_filter": "-all",
   "text_representation": {
    "extension": ".py",
    "format_name": "light"
   }
  },
  "kernelspec": {
   "display_name": "Python 3",
   "language": "python",
   "name": "python3"
  },
  "language_info": {
   "codemirror_mode": {
    "name": "ipython",
    "version": 3
   },
   "file_extension": ".py",
   "mimetype": "text/x-python",
   "name": "python",
   "nbconvert_exporter": "python",
   "pygments_lexer": "ipython3",
   "version": "3.8.3"
  }
 },
 "nbformat": 4,
 "nbformat_minor": 4
}
