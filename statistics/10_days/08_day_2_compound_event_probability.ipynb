{
 "cells": [
  {
   "cell_type": "markdown",
   "metadata": {},
   "source": [
    "Solution to: [Day 2: Compound Event Probability](https://www.hackerrank.com/challenges/s10-mcq-3/problem)"
   ]
  },
  {
   "cell_type": "markdown",
   "metadata": {},
   "source": [
    "<h1 id=\"tocheading\">Table of Contents</h1>\n",
    "<div id=\"toc\"></div>"
   ]
  },
  {
   "cell_type": "code",
   "execution_count": 1,
   "metadata": {},
   "outputs": [
    {
     "data": {
      "application/javascript": [
       "$.getScript('https://kmahelona.github.io/ipython_notebook_goodies/ipython_notebook_toc.js')\n"
      ],
      "text/plain": [
       "<IPython.core.display.Javascript object>"
      ]
     },
     "metadata": {},
     "output_type": "display_data"
    }
   ],
   "source": [
    "%%javascript\n",
    "$.getScript('https://kmahelona.github.io/ipython_notebook_goodies/ipython_notebook_toc.js')"
   ]
  },
  {
   "cell_type": "markdown",
   "metadata": {},
   "source": [
    "This script has 2 parts:\n",
    "\t1. Math Solution\n",
    "\t2. Brute force algorithm implemented in Python"
   ]
  },
  {
   "cell_type": "markdown",
   "metadata": {},
   "source": [
    "# Math Solution\n",
    "\n",
    "- Urn X contains 4 red balls and 3 black balls, 7 balls total.\n",
    "- Urn Y contains 5 red balls and 4 black balls, 9 balls total.\n",
    "- Urn Z contains 4 red balls and 4 black balls, 8 balls total.\n",
    "\n",
    "## Information\n",
    "- Experiment: Given 3 urns with 2 options, what is the compound probability of drawing 2 red and 1 black.\n",
    "- Space: 8 * 9 * 8 = 576 possible permutations\n",
    "- To calculate the probability of drawing one black ball and 2 red balls from different urns (independent events), we can multiply probabilites between urns. More specifically, we can look at the probability of drawing one black ball from one urn and the probability of drawing 2 red balls from the other two urns.\n",
    "- Formula: \n",
    "\n",
    "\n",
    "\\begin{equation}\n",
    "\\large\n",
    "\\sum_{0}^{N}P(\\text{1 black ball})\n",
    "\\end{equation}\n",
    "\n",
    "\n",
    "\\begin{equation}\n",
    "\\large\n",
    "P(A) = (\\frac{3}{7}*\\frac{5}{9}*\\frac{1}{2}) + (\\frac{4}{7}*\\frac{4}{9}*\\frac{1}{2}) + (\\frac{4}{7}*\\frac{5}{9}*\\frac{1}{2})\n",
    "\\end{equation}\n",
    "\n",
    "\n",
    "\\begin{equation}\n",
    "\\large\n",
    "P(A) = \\frac{15}{126} + \\frac{16}{126} + \\frac{20}{126}\n",
    "\\end{equation}\n",
    "\n",
    "\n",
    "\\begin{equation}\n",
    "\\large\n",
    "P(A) = \\frac{51}{126}\n",
    "\\end{equation}\n",
    "\n",
    "\\begin{equation}\n",
    "\\large\n",
    "P(A) = \\frac{17}{42}\n",
    "\\end{equation}\n"
   ]
  },
  {
   "cell_type": "markdown",
   "metadata": {},
   "source": [
    "# Monte Carlo Solution\n",
    "\n",
    "## Process\n",
    "- Use A urns with B black balls and C red balls, represented by (1, 0) respectively\n",
    "- Create all possible permutations of balls drawn from each urn.\n",
    "- Count SUM(combinations) == 1, or where only 1 black ball.\n",
    "- Divide by S, (P(S)), or the total number of events.\n"
   ]
  },
  {
   "cell_type": "markdown",
   "metadata": {},
   "source": [
    "## Imports"
   ]
  },
  {
   "cell_type": "code",
   "execution_count": 2,
   "metadata": {},
   "outputs": [],
   "source": [
    "from typing import List, Tuple"
   ]
  },
  {
   "cell_type": "markdown",
   "metadata": {},
   "source": [
    "## Instantiate Urns"
   ]
  },
  {
   "cell_type": "code",
   "execution_count": 3,
   "metadata": {
    "lines_to_next_cell": 2
   },
   "outputs": [],
   "source": [
    "def create_urns(urn_balls: Tuple[Tuple[int, int]]) -> List[List[int]]:\n",
    "\t\"\"\"Returns a list of urns and their number of red and black balls.\n",
    "\t\n",
    "\tInput is a tuple of tuples representing each urn and their number of red and black balls.\n",
    "\tRed and black balls are represented by 0 and 1 respectively\n",
    "\t\"\"\"\n",
    "\turns = []\n",
    "\tfor balls in urn_balls:\n",
    "\t\t# red & black balls, respectively\n",
    "\t\turn = [0 for val in range(balls[0])] + [1 for val in range(balls[1])]\n",
    "\t\turns.append(urn)\n",
    "\treturn urns"
   ]
  },
  {
   "cell_type": "markdown",
   "metadata": {},
   "source": [
    "## Drawing permutations"
   ]
  },
  {
   "cell_type": "code",
   "execution_count": 4,
   "metadata": {},
   "outputs": [],
   "source": [
    "def get_all_combos(urns: List[List[int]]) -> List[List[int]]:\n",
    "\t\"\"\"Returns list of all combinations of drawn balls from urns.\"\"\"\n",
    "\n",
    "\tdef get_balls_from_urn(urn: List[int]) -> int:\n",
    "\t\t\"\"\"Generator function to yield balls from urn.\"\"\"\n",
    "\t\tfor ball in urn: \n",
    "\t\t\tyield ball\n",
    "\n",
    "\tdef recursively_draw_balls(processed_urns: int, ball_combos: List[List[int]]) -> List[List[int]]:\n",
    "\t\t\"\"\"Recursive function to draw balls from urns.\"\"\"\n",
    "\t\t## Base case\n",
    "\t\tif processed_urns == len(urns):\n",
    "\t\t\treturn ball_combos\n",
    "\t\t\n",
    "\t\tnew_ball_combos = []\n",
    "\n",
    "\t\t## Draw first balls\n",
    "\t\tif not len(ball_combos):\n",
    "\t\t\tnew_ball_combos = [[val] for val in get_balls_from_urn(urns[processed_urns])]\n",
    "\t\t\n",
    "\t\t## Create new lists for each list\n",
    "\t\telse:\n",
    "\t\t\tfor combo in ball_combos:\n",
    "\t\t\t\tnew_combo = [combo + [val] for val in get_balls_from_urn(urns[processed_urns])]\n",
    "\t\t\t\tnew_ball_combos += new_combo\n",
    "\t\t\n",
    "\t\tprocessed_urns += 1\n",
    "\t\treturn recursively_draw_balls(processed_urns, new_ball_combos)\n",
    "\t\n",
    "\treturn recursively_draw_balls(0, list())"
   ]
  },
  {
   "cell_type": "markdown",
   "metadata": {},
   "source": [
    "## Main"
   ]
  },
  {
   "cell_type": "code",
   "execution_count": 5,
   "metadata": {
    "lines_to_next_cell": 2
   },
   "outputs": [],
   "source": [
    "def main():\n",
    "\t## Create urns with balls\n",
    "\turn_balls = (\n",
    "\t\t(4, 3),\t\t\t# red, black respectively\n",
    "\t\t(5, 4),\n",
    "\t\t(4, 4)\n",
    "\t)\n",
    "\turns = create_urns(urn_balls)\n",
    "\n",
    "\t## Create all possible permutations\n",
    "\tball_combos = get_all_combos(urns)\n",
    "\n",
    "\t## Count permutations where SUM == 1, i.e. 1 black ball.\n",
    "\tone_black_ball_permus = 0\n",
    "\tfor combo in ball_combos:\n",
    "\t\tif sum(combo) == 1:\n",
    "\t\t\tone_black_ball_permus += 1\n",
    "\t\n",
    "\t## P(A) /P(s)\n",
    "\tp_a = one_black_ball_permus / len(ball_combos)\n",
    "\tprint( round(p_a, 5))"
   ]
  },
  {
   "cell_type": "code",
   "execution_count": 6,
   "metadata": {
    "lines_to_next_cell": 2
   },
   "outputs": [
    {
     "name": "stdout",
     "output_type": "stream",
     "text": [
      "0.40476\n"
     ]
    }
   ],
   "source": [
    "if __name__ == \"__main__\":\n",
    "\tmain()"
   ]
  }
 ],
 "metadata": {
  "jupytext": {
   "cell_metadata_filter": "-all",
   "notebook_metadata_filter": "-all",
   "text_representation": {
    "extension": ".py",
    "format_name": "light"
   }
  },
  "kernelspec": {
   "display_name": "Python 3",
   "language": "python",
   "name": "python3"
  },
  "language_info": {
   "codemirror_mode": {
    "name": "ipython",
    "version": 3
   },
   "file_extension": ".py",
   "mimetype": "text/x-python",
   "name": "python",
   "nbconvert_exporter": "python",
   "pygments_lexer": "ipython3",
   "version": "3.8.3"
  }
 },
 "nbformat": 4,
 "nbformat_minor": 4
}
