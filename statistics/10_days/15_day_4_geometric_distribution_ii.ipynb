{
 "cells": [
  {
   "cell_type": "markdown",
   "metadata": {},
   "source": [
    "Solution to: [Day 4: Geometric Distribution II](https://www.hackerrank.com/challenges/s10-geometric-distribution-2/problem)"
   ]
  },
  {
   "cell_type": "markdown",
   "metadata": {},
   "source": [
    "<h1 id=\"tocheading\">Table of Contents</h1>\n",
    "<div id=\"toc\"></div>\n",
    "\n",
    "- Table of Contents\n",
    "- Math Solution\n",
    "- Solution\n",
    "    - Imports\n",
    "    - Input\n",
    "    - Geometric Distribution\n",
    "    - Format\n",
    "    - Main"
   ]
  },
  {
   "cell_type": "code",
   "execution_count": 3,
   "metadata": {},
   "outputs": [
    {
     "data": {
      "application/javascript": [
       "$.getScript('https://kmahelona.github.io/ipython_notebook_goodies/ipython_notebook_toc.js')\n"
      ],
      "text/plain": [
       "<IPython.core.display.Javascript object>"
      ]
     },
     "metadata": {},
     "output_type": "display_data"
    }
   ],
   "source": [
    "%%javascript\n",
    "$.getScript('https://kmahelona.github.io/ipython_notebook_goodies/ipython_notebook_toc.js')"
   ]
  },
  {
   "cell_type": "markdown",
   "metadata": {},
   "source": [
    "# Math Solution"
   ]
  },
  {
   "cell_type": "markdown",
   "metadata": {},
   "source": [
    "The probability that a machine produces a defective product is 1/3. What is the probability that the 1st defect is found during the first 5 inspections?\n",
    "\n",
    "There are two methods to solve this:\n",
    "- use a summation of the geom_prob() function\n",
    "- or, because the trials are independent, we can instead calculate the complement of the success rate to the power of n\n",
    "\n",
    "\\begin{equation}\n",
    "= 1 - (1 - \\frac{1}{3}) ^ {5}\n",
    "\\end{equation}"
   ]
  },
  {
   "cell_type": "markdown",
   "metadata": {},
   "source": [
    "# Solution"
   ]
  },
  {
   "cell_type": "markdown",
   "metadata": {},
   "source": [
    "## Imports"
   ]
  },
  {
   "cell_type": "code",
   "execution_count": 2,
   "metadata": {},
   "outputs": [],
   "source": [
    "from typing import Tuple"
   ]
  },
  {
   "cell_type": "markdown",
   "metadata": {},
   "source": [
    "## Input"
   ]
  },
  {
   "cell_type": "code",
   "execution_count": 3,
   "metadata": {},
   "outputs": [],
   "source": [
    "def get_input() -> Tuple[float, int]:\n",
    "\t\"\"\"Return input for Day 4: Geom Dist II.\n",
    "\n",
    "\tReturns:\n",
    "\t\tTuple[float, int]: p and n, respectively\n",
    "\t\"\"\"\n",
    "\tnum, denom = [int(x) for x in input().split()]\n",
    "\tp = num/denom\n",
    "\tn = int(input())\n",
    "\treturn (p, n)"
   ]
  },
  {
   "cell_type": "markdown",
   "metadata": {},
   "source": [
    "## Geometric Distribution"
   ]
  },
  {
   "cell_type": "code",
   "execution_count": 4,
   "metadata": {},
   "outputs": [],
   "source": [
    "def calc_geom_dist(n: int, p: float) -> float:\n",
    "\t\"\"\"Returns probability mass of geom distribution for n, p\n",
    "\n",
    "\tArgs:\n",
    "\t\tn (int): number of trials\n",
    "\t\tp (float): p(x)\n",
    "\n",
    "\tReturns:\n",
    "\t\tfloat: Probability of geom dist given n, p\n",
    "\t\"\"\"\n",
    "\tq = 1 - p\n",
    "\treturn q ** (n-1) * p"
   ]
  },
  {
   "cell_type": "code",
   "execution_count": 5,
   "metadata": {},
   "outputs": [],
   "source": [
    "def get_cum_geom_prob(n: int, p: float) -> float:\n",
    "\t\"\"\"Returns cumulative probability of geometric distribution in n trials\n",
    "\n",
    "\tArgs:\n",
    "\t\tn (int): total number of trials\n",
    "\t\tp (float): P(x)\n",
    "\n",
    "\tReturns:\n",
    "\t\tfloat: Cumulative probability of x in n trials\n",
    "\t\"\"\"\n",
    "\tcum_prob = 0\n",
    "\n",
    "\tfor i in range(1, n + 1):\n",
    "\t\tgeom_prob = calc_geom_dist(i, p)\n",
    "\t\tcum_prob += geom_prob\n",
    "\treturn cum_prob"
   ]
  },
  {
   "cell_type": "markdown",
   "metadata": {},
   "source": [
    "## Format"
   ]
  },
  {
   "cell_type": "code",
   "execution_count": 6,
   "metadata": {},
   "outputs": [],
   "source": [
    "def format_scale(num: float) -> float:\n",
    "\t\"\"\"Returns number with decimals formatted to scale\n",
    "\n",
    "\tArgs:\n",
    "\t\tnum (float): Number to format\n",
    "\n",
    "\tReturns:\n",
    "\t\tfloat: Number formatted to scale\n",
    "\t\"\"\"\n",
    "\treturn f'{num:.3f}'"
   ]
  },
  {
   "cell_type": "markdown",
   "metadata": {},
   "source": [
    "## Main"
   ]
  },
  {
   "cell_type": "code",
   "execution_count": 7,
   "metadata": {
    "lines_to_next_cell": 2
   },
   "outputs": [],
   "source": [
    "def main():\n",
    "\tp, n = get_input()\n",
    "\n",
    "\tcum_prob = get_cum_geom_prob(n, p)\n",
    "\tprint(format_scale(cum_prob))"
   ]
  },
  {
   "cell_type": "code",
   "execution_count": 8,
   "metadata": {
    "lines_to_next_cell": 2
   },
   "outputs": [
    {
     "name": "stdout",
     "output_type": "stream",
     "text": [
      "1 3\n",
      "5\n",
      "0.868\n"
     ]
    }
   ],
   "source": [
    "if __name__ == \"__main__\":\n",
    "\tmain()"
   ]
  }
 ],
 "metadata": {
  "jupytext": {
   "cell_metadata_filter": "-all",
   "notebook_metadata_filter": "-all",
   "text_representation": {
    "extension": ".py",
    "format_name": "light"
   }
  },
  "kernelspec": {
   "display_name": "Python 3",
   "language": "python",
   "name": "python3"
  },
  "language_info": {
   "codemirror_mode": {
    "name": "ipython",
    "version": 3
   },
   "file_extension": ".py",
   "mimetype": "text/x-python",
   "name": "python",
   "nbconvert_exporter": "python",
   "pygments_lexer": "ipython3",
   "version": "3.8.3"
  }
 },
 "nbformat": 4,
 "nbformat_minor": 4
}
