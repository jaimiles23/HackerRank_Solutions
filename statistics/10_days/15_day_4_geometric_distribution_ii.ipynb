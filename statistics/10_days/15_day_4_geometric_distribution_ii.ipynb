{
 "cells": [
  {
   "cell_type": "code",
   "execution_count": null,
   "metadata": {},
   "outputs": [],
   "source": [
    "\"\"\"/**\n",
    " * @author [Jai Miles]\n",
    " * @email [jaimiles23@gmail.com]\n",
    " * @create date 2020-09-22 11:27:05\n",
    " * @modify date 2020-09-22 11:27:05\n",
    " * @desc [\n",
    "\tSolution to: Day 4: Geometric Distribution II\n",
    "\t\thttps://www.hackerrank.com/challenges/s10-geometric-distribution-2/problem\n",
    " \n",
    "The probability that a machine produces a defective product is 1/3. \n",
    "What is the probability that the 1st defect is found during the first 5 inspections?\n",
    "\n",
    "Because the geometric probability function calculates the mass probability for a single inspection,\n",
    "I will use a summation of the geom_prob() formula.\n",
    "\n",
    "-----\n",
    "NOTE: A second method that avoids computational heavy summations is to find the probability that the first 5 did NOT\n",
    "have any defects.\n",
    "\n",
    "Because triasl are independent, we can use calculate this by finding the complement of the success rate to the power of n\n",
    "\t= 1 - (1 - 1/3) ** 5\n",
    " ]\n",
    " */\n",
    "\"\"\""
   ]
  },
  {
   "cell_type": "markdown",
   "metadata": {},
   "source": [
    "#########\n",
    "Imports\n",
    "#########"
   ]
  },
  {
   "cell_type": "code",
   "execution_count": null,
   "metadata": {},
   "outputs": [],
   "source": [
    "from typing import Tuple"
   ]
  },
  {
   "cell_type": "markdown",
   "metadata": {},
   "source": [
    "#########\n",
    "Input\n",
    "#########"
   ]
  },
  {
   "cell_type": "code",
   "execution_count": null,
   "metadata": {},
   "outputs": [],
   "source": [
    "def get_input() -> Tuple[float, int]:\n",
    "\t\"\"\"Return input for Day 4: Geom Dist II.\n",
    "\n",
    "\tReturns:\n",
    "\t\tTuple[float, int]: p and n, respectively\n",
    "\t\"\"\"\n",
    "\tnum, denom = [int(x) for x in input().split()]\n",
    "\tp = num/denom\n",
    "\tn = int(input())\n",
    "\treturn (p, n)"
   ]
  },
  {
   "cell_type": "markdown",
   "metadata": {},
   "source": [
    "#########\n",
    "Geometric Distribution\n",
    "#########"
   ]
  },
  {
   "cell_type": "code",
   "execution_count": null,
   "metadata": {},
   "outputs": [],
   "source": [
    "def calc_geom_dist(n: int, p: float) -> float:\n",
    "\t\"\"\"Returns probability mass of geom distribution for n, p\n",
    "\n",
    "\tArgs:\n",
    "\t\tn (int): number of trials\n",
    "\t\tp (float): p(x)\n",
    "\n",
    "\tReturns:\n",
    "\t\tfloat: Probability of geom dist given n, p\n",
    "\t\"\"\"\n",
    "\tq = 1 - p\n",
    "\treturn q ** (n-1) * p"
   ]
  },
  {
   "cell_type": "code",
   "execution_count": null,
   "metadata": {},
   "outputs": [],
   "source": [
    "def get_cum_geom_prob(n: int, p: float) -> float:\n",
    "\t\"\"\"Returns cumulative probability of geometric distribution in n trials\n",
    "\n",
    "\tArgs:\n",
    "\t\tn (int): total number of trials\n",
    "\t\tp (float): P(x)\n",
    "\n",
    "\tReturns:\n",
    "\t\tfloat: Cumulative probability of x in n trials\n",
    "\t\"\"\"\n",
    "\tcum_prob = 0\n",
    "\n",
    "\tfor i in range(1, n + 1):\n",
    "\t\tgeom_prob = calc_geom_dist(i, p)\n",
    "\t\tcum_prob += geom_prob\n",
    "\treturn cum_prob"
   ]
  },
  {
   "cell_type": "markdown",
   "metadata": {},
   "source": [
    "#########\n",
    "Format\n",
    "#########"
   ]
  },
  {
   "cell_type": "code",
   "execution_count": null,
   "metadata": {},
   "outputs": [],
   "source": [
    "def format_scale(num: float) -> float:\n",
    "\t\"\"\"Returns number with decimals formatted to scale\n",
    "\n",
    "\tArgs:\n",
    "\t\tnum (float): Number to format\n",
    "\n",
    "\tReturns:\n",
    "\t\tfloat: Number formatted to scale\n",
    "\t\"\"\"\n",
    "\treturn f'{num:.3f}'"
   ]
  },
  {
   "cell_type": "markdown",
   "metadata": {},
   "source": [
    "#########\n",
    "Main\n",
    "#########"
   ]
  },
  {
   "cell_type": "code",
   "execution_count": null,
   "metadata": {
    "lines_to_next_cell": 2
   },
   "outputs": [],
   "source": [
    "def main():\n",
    "\tp, n = get_input()\n",
    "\n",
    "\tcum_prob = get_cum_geom_prob(n, p)\n",
    "\tprint(format_scale(cum_prob))"
   ]
  },
  {
   "cell_type": "code",
   "execution_count": null,
   "metadata": {
    "lines_to_next_cell": 2
   },
   "outputs": [],
   "source": [
    "if __name__ == \"__main__\":\n",
    "\tmain()"
   ]
  }
 ],
 "metadata": {
  "jupytext": {
   "cell_metadata_filter": "-all",
   "notebook_metadata_filter": "-all",
   "text_representation": {
    "extension": ".py",
    "format_name": "light"
   }
  },
  "kernelspec": {
   "display_name": "Python 3",
   "language": "python",
   "name": "python3"
  },
  "language_info": {
   "codemirror_mode": {
    "name": "ipython",
    "version": 3
   },
   "file_extension": ".py",
   "mimetype": "text/x-python",
   "name": "python",
   "nbconvert_exporter": "python",
   "pygments_lexer": "ipython3",
   "version": "3.8.3"
  }
 },
 "nbformat": 4,
 "nbformat_minor": 4
}
