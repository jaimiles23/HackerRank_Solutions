{
 "cells": [
  {
   "cell_type": "markdown",
   "metadata": {},
   "source": [
    "Solution to: [Day 4: Geometric Distribution I](https://www.hackerrank.com/challenges/s10-geometric-distribution-1/problem)"
   ]
  },
  {
   "cell_type": "markdown",
   "metadata": {},
   "source": [
    "<h1 id=\"tocheading\">Table of Contents</h1>\n",
    "<div id=\"toc\"></div>"
   ]
  },
  {
   "cell_type": "code",
   "execution_count": 1,
   "metadata": {},
   "outputs": [],
   "source": [
    "%%javascript\n",
    "$.getScript('https://kmahelona.github.io/ipython_notebook_goodies/ipython_notebook_toc.js')"
   ]
  },
  {
   "cell_type": "markdown",
   "metadata": {},
   "source": [
    "# Notes\n",
    "## Negative Binomial Experiment\n",
    "The negative binomial experiment has the following properties:\n",
    "- n, independent trials\n",
    "- binary outcome: success (s), or failure (f)\n",
    "- P(s) is the same for every trial\n",
    "- experiment continues until `x` successes are observed.\n",
    "\n",
    "If X is the number of experiments until the `x`th success, then X is a discrete random variable called a negative binomial."
   ]
  },
  {
   "cell_type": "markdown",
   "metadata": {},
   "source": [
    "## Negative Binomial Distribution\n",
    "Consider the following *probability mass function*\n",
    "\\begin{equation}\n",
    "\\large\n",
    "b^{*}\\text{(x, n, p)} = {n - 1 \\choose x - 1} * p^{x} * q^{n-x}\n",
    "\\end{equation}\n",
    "\n",
    "This is a negative binomial with the following properties:\n",
    "- number of successes to be observed is x\n",
    "- n, number of trials\n",
    "- p, p(x) in 1 trial\n",
    "- q, p(not x) in 1 trial\n",
    "- b*(x, n, p) is the negative binomial probability, MEANING: the probability of having x - 1 successes after n - 1 trials and having x successes after n trials"
   ]
  },
  {
   "cell_type": "markdown",
   "metadata": {},
   "source": [
    "## Geometric Distribution\n",
    "*Geometric distribution* is the special case of a negative binomial distribution to determine the number of Bernoulli trials required for *a success*.\n",
    "\n",
    "Recall, X is the number of successes in n independent trials, so for each i, 1 <= i <= n\n",
    "\n",
    "\\begin{equation}\n",
    "\\large\n",
    "X_{i}\n",
    "\\begin{cases}\n",
    "1  \\text{     if the ith trial is a success} \\\\\n",
    "0  \\text{     otherwise}\n",
    "\\end{cases}\n",
    "\\end{equation}\n",
    "\n",
    "\n",
    "The geometric distribution is a negative binomial distribution where the number of successes is 1. We express this with the following formula:\n",
    "\n",
    "\\begin{equation}\n",
    "\\large\n",
    "\\text{g(n, p)} = q^{n - 1} * p\n",
    "\\end{equation}"
   ]
  },
  {
   "cell_type": "markdown",
   "metadata": {},
   "source": [
    "## Example:\n",
    "Bob is a high school basketball player. He is a 70% free throw shooter, meaning his probability of making a free throw is 0.70. What is the probability that Bob makes his first free throw on his fifth shot?\n",
    "\n",
    "- n = 5\n",
    "- p = 0.7\n",
    "- q = 0.3\n",
    "\n",
    "\\begin{equation}\n",
    "\\large\n",
    "\\text{ g(5, 0.7)} = 0.3^{4} * 0.7\n",
    "\\end{equation}\n",
    "\n",
    "\\begin{equation}\n",
    "\\large\n",
    "0.00567\n",
    "\\end{equation}"
   ]
  },
  {
   "cell_type": "markdown",
   "metadata": {},
   "source": [
    "# Math Solution\n",
    "\n",
    "The probability that a machine produces a defective product is 1/3. What is the probability that the 1st defect is found during the 5th inspection?\n",
    "\n",
    "- n = 5\n",
    "- p = 1/3\n",
    "- q = 2/3\n",
    "\n",
    "\\begin{equation}\n",
    "\\large\n",
    "\\text{g(n, p)} = q^{n-1} * p\n",
    "\\end{equation}\n",
    "\n",
    "\\begin{equation}\n",
    "\\large\n",
    "(\\frac{2}{3})^{4} * \\frac{1}{3}\n",
    "\\end{equation}\n",
    "\n",
    "\\begin{equation}\n",
    "\\large\n",
    "0.066\n",
    "\\end{equation}"
   ]
  },
  {
   "cell_type": "markdown",
   "metadata": {},
   "source": [
    "# Solution"
   ]
  },
  {
   "cell_type": "markdown",
   "metadata": {},
   "source": [
    "## Imports"
   ]
  },
  {
   "cell_type": "code",
   "execution_count": 2,
   "metadata": {},
   "outputs": [],
   "source": [
    "from typing import Tuple"
   ]
  },
  {
   "cell_type": "markdown",
   "metadata": {},
   "source": [
    "## Input"
   ]
  },
  {
   "cell_type": "code",
   "execution_count": 3,
   "metadata": {},
   "outputs": [],
   "source": [
    "def get_input() -> Tuple[float, int]:\n",
    "    \"\"\"Returns input for Day 4: Geometric distribution i.\n",
    "\n",
    "    Returns:\n",
    "        Tuple[float, int]: Geometric distribution p and n, respectively\n",
    "    \"\"\"\n",
    "    num, denom = [int(x) for x in input().split()]\n",
    "    p = num / denom\n",
    "    n = int(input())\n",
    "    return (p, n)"
   ]
  },
  {
   "cell_type": "markdown",
   "metadata": {},
   "source": [
    "## Geometric Distribution"
   ]
  },
  {
   "cell_type": "code",
   "execution_count": 4,
   "metadata": {},
   "outputs": [],
   "source": [
    "def calc_geom_dist(n: int, p: float) -> float:\n",
    "    \"\"\"Returns geometric distribution of n & p\n",
    "\n",
    "    g(n, p) = q ** (n-1) * p\n",
    "\n",
    "    Args:\n",
    "        n (int): number of trials\n",
    "        p (float): probability of x\n",
    "\n",
    "    Returns:\n",
    "        float: Geometric distribution, given n and p\n",
    "    \"\"\"\n",
    "    q = 1 - p\n",
    "    return q ** (n-1) * p"
   ]
  },
  {
   "cell_type": "markdown",
   "metadata": {},
   "source": [
    "## Format"
   ]
  },
  {
   "cell_type": "code",
   "execution_count": 5,
   "metadata": {},
   "outputs": [],
   "source": [
    "def format_scale(num: float) -> float:\n",
    "    \"\"\"Returns number formatted to scale\n",
    "\n",
    "    Args:\n",
    "        num (float): Number to format\n",
    "\n",
    "    Returns:\n",
    "        float: Number formatted to scale\n",
    "    \"\"\"\n",
    "    return \"{:.3f}\".format(num)"
   ]
  },
  {
   "cell_type": "markdown",
   "metadata": {},
   "source": [
    "## Main"
   ]
  },
  {
   "cell_type": "code",
   "execution_count": 6,
   "metadata": {},
   "outputs": [],
   "source": [
    "def main():\n",
    "    p, n = get_input()\n",
    "\n",
    "    geom_dist = calc_geom_dist(n, p)\n",
    "    print( format_scale(geom_dist))"
   ]
  },
  {
   "cell_type": "code",
   "execution_count": 7,
   "metadata": {},
   "outputs": [
    {
     "name": "stdout",
     "output_type": "stream",
     "text": [
      "1 3\n",
      "5\n",
      "0.066\n"
     ]
    }
   ],
   "source": [
    "if __name__ == \"__main__\":\n",
    "    main()"
   ]
  }
 ],
 "metadata": {
  "jupytext": {
   "cell_metadata_filter": "-all",
   "notebook_metadata_filter": "-all",
   "text_representation": {
    "extension": ".py",
    "format_name": "light"
   }
  },
  "kernelspec": {
   "display_name": "Python 3",
   "language": "python",
   "name": "python3"
  },
  "language_info": {
   "codemirror_mode": {
    "name": "ipython",
    "version": 3
   },
   "file_extension": ".py",
   "mimetype": "text/x-python",
   "name": "python",
   "nbconvert_exporter": "python",
   "pygments_lexer": "ipython3",
   "version": "3.8.3"
  }
 },
 "nbformat": 4,
 "nbformat_minor": 4
}
