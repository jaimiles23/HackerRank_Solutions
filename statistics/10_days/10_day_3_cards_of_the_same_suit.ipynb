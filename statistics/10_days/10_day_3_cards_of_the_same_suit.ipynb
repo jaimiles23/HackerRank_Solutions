{
 "cells": [
  {
   "cell_type": "markdown",
   "metadata": {},
   "source": [
    "Solution to: [Day 3: Cards of the Same Suit](https://www.hackerrank.com/challenges/s10-mcq-5/problem)"
   ]
  },
  {
   "cell_type": "markdown",
   "metadata": {},
   "source": [
    "<h1 id=\"tocheading\">Table of Contents</h1>\n",
    "<div id=\"toc\"></div>"
   ]
  },
  {
   "cell_type": "code",
   "execution_count": 2,
   "metadata": {},
   "outputs": [
    {
     "data": {
      "application/javascript": [
       "$.getScript('https://kmahelona.github.io/ipython_notebook_goodies/ipython_notebook_toc.js')\n"
      ],
      "text/plain": [
       "<IPython.core.display.Javascript object>"
      ]
     },
     "metadata": {},
     "output_type": "display_data"
    }
   ],
   "source": [
    "%%javascript\n",
    "$.getScript('https://kmahelona.github.io/ipython_notebook_goodies/ipython_notebook_toc.js')"
   ]
  },
  {
   "cell_type": "markdown",
   "metadata": {},
   "source": [
    "\n",
    "This script contains 3 sections:\n",
    "1. Notes on permutations and combinations\n",
    "2. Math solution to Day 3: Cards of the Same Suit problem\n",
    "3. Monte Carlo simulation of the solution\n"
   ]
  },
  {
   "cell_type": "markdown",
   "metadata": {},
   "source": [
    "# Notes\n",
    "permutations (when order matters) and combinations (when order doesn't matter).\n",
    "\n",
    "## Permutations\n",
    "An ordered arrangement of r objects from a set, A, of n objects (where 0 < r <= n) is called an r-element permutation of N. \n",
    "You can also think of this as a permutation of A's elements taken r at a time. \n",
    "The number of r-element permutations of an n-object set is denoted by the following formula:\n",
    "\n",
    "nPr = n! / (n - r)!\n",
    "\n",
    "\n",
    "Note: We define 0! to be 1; otherwise, r = n would result in 0 division error\n",
    "\n",
    "\n",
    "## Combinations\n",
    "An unordered arrangement of r objects from a set, A, of n objects (where 0 < r <= A) is called an r-element combination of A. \n",
    "You can also think of this as a combination of A's elements taken r at a time.\n",
    "\n",
    "Because the only difference between permutations and combinations is that combinations are unordered,\n",
    "we can easily find the number of r-element combinations by dividing out the permutations (r!):\n",
    "\n",
    "nCr = nPr / r! = n! / (r! * (n - r)!)\n",
    "\n",
    "\n",
    "When we talk about combinations, we're talking about the number of subsets of size r that can be made from a set of size A. \n",
    "\n"
   ]
  },
  {
   "cell_type": "markdown",
   "metadata": {},
   "source": [
    "# Math Solution\n",
    "You draw 2 cards from a standard 52-card deck without replacing them. \n",
    "What is the probability that both cards are of the same suit?\n",
    "\n",
    "This solution is simple - but very easy to overthink. I originally thought the answer was a product of dependent events:\n",
    "(13/52) * (12/51)\n",
    "\n",
    "However, the first event doesn't matter. You are only interested that the suit of the second card matches the arbitrary suit of the first card.\n",
    "Thus, the math is:\n",
    "52/52 * (12/51) = 12/51\n",
    "\n",
    " ]\n",
    " */\n",
    "\n",
    "\"\"\""
   ]
  },
  {
   "cell_type": "markdown",
   "metadata": {},
   "source": [
    "# Monte Carlo Simulation"
   ]
  },
  {
   "cell_type": "markdown",
   "metadata": {},
   "source": [
    "## Imports"
   ]
  },
  {
   "cell_type": "code",
   "execution_count": null,
   "metadata": {
    "lines_to_next_cell": 2
   },
   "outputs": [],
   "source": [
    "import random\n",
    "import copy\n",
    "from typing import List"
   ]
  },
  {
   "cell_type": "markdown",
   "metadata": {},
   "source": [
    "## Constants"
   ]
  },
  {
   "cell_type": "code",
   "execution_count": null,
   "metadata": {},
   "outputs": [],
   "source": [
    "DECK_SIZE = 52\n",
    "NUM_SUITS = 4"
   ]
  },
  {
   "cell_type": "markdown",
   "metadata": {},
   "source": [
    "## Auxiliary functions"
   ]
  },
  {
   "cell_type": "code",
   "execution_count": null,
   "metadata": {},
   "outputs": [],
   "source": [
    "def create_deck(size: int, suits: int) -> List[int]:\n",
    "\t\"\"\"Returns a list of ints representing the different number of suites.\n",
    "\t\"\"\"\n",
    "\tassert not size % suits\t\t# Check evenly divides\n",
    "\n",
    "\tdeck, suit = [], 0\n",
    "\tfor i in range(1, DECK_SIZE + 1):\n",
    "\t\tdeck.append(suit)\n",
    "\n",
    "\t\tif not i % (size / suits):\t# increment suit\n",
    "\t\t\tsuit += 1\n",
    "\n",
    "\treturn deck"
   ]
  },
  {
   "cell_type": "code",
   "execution_count": null,
   "metadata": {},
   "outputs": [],
   "source": [
    "def get_ratio(deck: list, iterations: int) -> float:\n",
    "\t\"\"\"Returns ratio of times that suit chosen from deck is the same\"\"\"\n",
    "\tdef get_rand_index(deck_size: int) -> int:\n",
    "\t\t\"\"\"Helper func to return random index of deck size\"\"\"\n",
    "\t\treturn random.randint(0, deck_size - 1)\n",
    "\t\n",
    "\n",
    "\tsame_suit = 0\n",
    "\tfor _ in range(iterations):\n",
    "\t\ttemp_deck = copy.deepcopy(deck)\n",
    "\n",
    "\t\tind_1, ind_2 = get_rand_index(len(temp_deck)), get_rand_index(len(temp_deck) - 1)\n",
    "\t\tsuit_1 = temp_deck[ind_1]\n",
    "\t\tdel temp_deck[ind_1]\n",
    "\t\tsuit_2 = temp_deck[ind_2]\n",
    "\n",
    "\t\tif suit_1 == suit_2:\n",
    "\t\t\tsame_suit += 1\n",
    "\t\n",
    "\treturn same_suit / iterations"
   ]
  },
  {
   "cell_type": "markdown",
   "metadata": {},
   "source": [
    "## Main"
   ]
  },
  {
   "cell_type": "code",
   "execution_count": null,
   "metadata": {
    "lines_to_next_cell": 2
   },
   "outputs": [],
   "source": [
    "def main():\n",
    "\titerations = 100000\n",
    "\tdeck = create_deck(DECK_SIZE, NUM_SUITS)\n",
    "\tprint(deck)\n",
    "\tratio = get_ratio(deck, iterations)\n",
    "\tprint(ratio)"
   ]
  },
  {
   "cell_type": "code",
   "execution_count": null,
   "metadata": {
    "lines_to_next_cell": 2
   },
   "outputs": [],
   "source": [
    "if __name__ == \"__main__\":\n",
    "\tmain()"
   ]
  }
 ],
 "metadata": {
  "jupytext": {
   "cell_metadata_filter": "-all",
   "notebook_metadata_filter": "-all",
   "text_representation": {
    "extension": ".py",
    "format_name": "light"
   }
  },
  "kernelspec": {
   "display_name": "Python 3",
   "language": "python",
   "name": "python3"
  },
  "language_info": {
   "codemirror_mode": {
    "name": "ipython",
    "version": 3
   },
   "file_extension": ".py",
   "mimetype": "text/x-python",
   "name": "python",
   "nbconvert_exporter": "python",
   "pygments_lexer": "ipython3",
   "version": "3.8.3"
  }
 },
 "nbformat": 4,
 "nbformat_minor": 4
}
