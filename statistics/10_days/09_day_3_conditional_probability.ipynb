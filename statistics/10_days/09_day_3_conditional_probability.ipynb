{
 "cells": [
  {
   "cell_type": "markdown",
   "metadata": {},
   "source": [
    "Solution to: [Day 3: Conditional Probability](https://www.hackerrank.com/challenges/s10-mcq-4/problem)"
   ]
  },
  {
   "cell_type": "markdown",
   "metadata": {},
   "source": [
    "<h1 id=\"tocheading\">Table of Contents</h1>\n",
    "<div id=\"toc\"></div>"
   ]
  },
  {
   "cell_type": "code",
   "execution_count": 1,
   "metadata": {},
   "outputs": [
    {
     "data": {
      "application/javascript": [
       "$.getScript('https://kmahelona.github.io/ipython_notebook_goodies/ipython_notebook_toc.js')\n"
      ],
      "text/plain": [
       "<IPython.core.display.Javascript object>"
      ]
     },
     "metadata": {},
     "output_type": "display_data"
    }
   ],
   "source": [
    "%%javascript\n",
    "$.getScript('https://kmahelona.github.io/ipython_notebook_goodies/ipython_notebook_toc.js')"
   ]
  },
  {
   "cell_type": "markdown",
   "metadata": {},
   "source": [
    "\n",
    "This script contains 3 sections:\n",
    "\t- Notes on Conditional Probability\n",
    "\t- Sample Problems\n",
    "\t- Math solution to Conditional Probability Challenge\n",
    "\t- Monte Carlo simulation of Problem\n"
   ]
  },
  {
   "cell_type": "markdown",
   "metadata": {},
   "source": [
    "# Notes on Conditional Probability\n",
    "\n",
    "## Conditional Probability\n",
    "**Conditional probability** is defined as the probability of an event occurring, assuming that one or more other events have already occurred. Two events, A and B are considered to be independent if event A has no effect on the probability of event B (i.e. P(B | A) = P(A)).\n",
    "\n",
    "If events A and B are not independent, then we must consider the probability that both events occur. \n",
    "This can be referred to as the intersection of events A and B:\n",
    "\n",
    "\\begin{equation}\n",
    "\\large\n",
    "P(A \\cap B) = P(B | A) * P(B)\n",
    "\\end{equation}\n",
    "\n",
    "\n",
    "We can then use this definition to find the conditional probability by dividing the probability of the intersection of the two events (A $\\cap$ B) by the probability of the event that is assumed to have already occurred (event A):\n",
    "\n",
    "\\begin{equation}\n",
    "\\large\n",
    "P(B | A) = \n",
    "\\frac\n",
    "{P(A \\cap B)}\n",
    "{P(A)}\n",
    "\\end{equation}"
   ]
  },
  {
   "cell_type": "markdown",
   "metadata": {},
   "source": [
    "## Bayes' Theorem\n",
    "Let A and B be two events such that P(A | B) denotes the probability of the occurrence of A given that B has occurred and P(B | A) denotes the probability of the occurrence of B given that A has occurred, then:\n",
    "\n",
    "\\begin{equation}\n",
    "\\large\n",
    "P(A | B) = \n",
    "\\frac{ P(B | A) * P(A)}\n",
    "{P(B)}\n",
    "\\end{equation}\n",
    "\n",
    "\\begin{equation}\n",
    "\\large\n",
    "= \\frac\n",
    "{P(A | B) * P(A)}\n",
    "{P(B | A) * P(A) + P(B | A_{C}) * P(A_{C})}\n",
    "\\end{equation}\n",
    "\n",
    "\n",
    "*c subscript indicates complement.*"
   ]
  },
  {
   "cell_type": "markdown",
   "metadata": {},
   "source": [
    "# Sample Problems\n",
    "## Sample Problem 1\n",
    "\n",
    "Question 1\n",
    "If the probability of student A passing an exam is 2/7 and the probability of student B *failing* the exam is 3/7, \n",
    "then find the probability that at least 1 of the 2 students will pass the exam.\n",
    "\n",
    "We are given P(A) and P(Bc).\n",
    "\n",
    "\n",
    "There are 4 possible events in our sample space:\n",
    "\n",
    "1. A passes the exam and B fails P(A ∩ Bc).\n",
    "2. B passes the exam and A fails P(B ∩ $A_{C}$).\n",
    "3. A and B both pass the exam P(A ∩ B).\n",
    "4. A and B both fail the exam P(Ac ∩ Bc).\n",
    "\n",
    "We are interested in 3 of these events: 1, 2, and 3.\n",
    "\n",
    "### Approach 1: Use first 3 events\n",
    "Calculate the probability of events 1 - 3:\n",
    "\n",
    "\\begin{equation}\n",
    "\\large\n",
    "P(\\text{1+ students pass}) = P(\\text{S1 passes}) + P(\\text{S2 passes}) - P(\\text{S1 & S2 pass})\n",
    "\\end{equation}\n",
    "\n",
    "\\begin{equation}\n",
    "\\large\n",
    "= \\frac{2}{7} + \\frac{4}{7} - (\\frac{2}{7} * \\frac{4}{7})\n",
    "\\end{equation}\n",
    "\n",
    "\\begin{equation}\n",
    "\\large\n",
    "=\\frac{42}{49} - \\frac{8}{49}\n",
    "\\end{equation}\n",
    "\n",
    "\\begin{equation}\n",
    "\\large\n",
    "\\frac{34}{49}\n",
    "\\end{equation}\n",
    "\n",
    "### Approach 2: Use 4th event\n",
    "Calculate the probability that both will fail the exam, and subtract that from the problem space P(S) to find the complement:\n",
    "\n",
    "\\begin{equation}\n",
    "\\large\n",
    "P(\\text{1+ students pass}) = P(S) - P({both fail})\n",
    "\\end{equation}\n",
    "\n",
    "\\begin{equation}\n",
    "\\large\n",
    "= 1 - (\\frac{5}{7} * \\frac{3}{7})\n",
    "\\end{equation}\n",
    "\n",
    "\\begin{equation}\n",
    "\\large\n",
    "= 1 - \\frac{15}{49}\n",
    "\\end{equation}\n",
    "\n",
    "\\begin{equation}\n",
    "\\large\n",
    "= \\frac{34}{49}\n",
    "\\end{equation}"
   ]
  },
  {
   "cell_type": "markdown",
   "metadata": {},
   "source": [
    "## Sample Problem 2\n",
    "\n",
    "Historical data shows that it has only rained 5 days per year in some desert region (assuming a 365 day year). A meteorologist predicts that it will rain today. \n",
    "\n",
    "- When it actually rains, the meteorologist correctly predicts rain 90% of the time. \n",
    "- When it doesn't rain, the meteorologist incorrectly predicts rain 10% of the time. \n",
    "\n",
    "Find the probability that it will rain today.\n",
    "\n",
    "\n",
    "In this question, the probability of rain today depends on whether or not the meteorolgist predicted it will rain today.\n",
    "We define the following events:\n",
    "\n",
    "- Event R: It rains today. P(R) =  5/365 = 1/73\n",
    "- Event Rc: It doesn't rain today. P(R) = 360/365 = 72/73\n",
    "- Event M: The meteorologist predicted it will rain today:\n",
    "    - P(M | R) = 9/10\n",
    "    - P(M | Rc) = 1/10\n",
    "\n",
    "Now we want to find the value of P(R|M):"
   ]
  },
  {
   "cell_type": "markdown",
   "metadata": {},
   "source": [
    "### Bayes Theorem solution:\n",
    "Given that P(E) is the probability of evidence (a.k.a. P(S) = 1)\n",
    "\n",
    "\\begin{equation}\n",
    "\\large\n",
    "P(R | M) = \\frac\n",
    "{P(M|R) * P(R)}\n",
    "{P(E)}\n",
    "\\end{equation}\n",
    "\n",
    "\\begin{equation}\n",
    "\\large\n",
    "= \\frac\n",
    "{P(M | R) * P(R)}\n",
    "{P(M | R) * P(R) + P(M | R_{C}) * P(R_{C}}\n",
    "\\end{equation}\n",
    "\n",
    "\\begin{equation}\n",
    "\\large\n",
    "= \\frac\n",
    "{ \\frac{9}{10} * \\frac{1}{73} }\n",
    "{\\frac{9}{10} * \\frac{1}{73} + \\frac{1}{10} * \\frac{72}{73}  }\n",
    "\\end{equation}\n",
    "\n",
    "\\begin{equation}\n",
    "\\large\n",
    "= \\frac\n",
    "{\\frac{9}{730}}\n",
    "{\\frac{9}{730} + \\frac{72}{730} }\n",
    "\\end{equation}\n",
    "\n",
    "\\begin{equation}\n",
    "\\large\n",
    "= \\frac\n",
    "{9}\n",
    "{81}\n",
    "\\end{equation}\n",
    "\n",
    "\n",
    "\\begin{equation}\n",
    "\\large\n",
    "\\frac{1}{9}\n",
    "\\end{equation}\n"
   ]
  },
  {
   "cell_type": "markdown",
   "metadata": {},
   "source": [
    "# Math solution to Conditional Probability Challenge\n",
    "\n",
    "Suppose a family has 2 children, one of which is a boy. What is the probability that both children are boys?\n",
    "\n",
    "*Note*: This is a [famous question in probability theory](https://en.wikipedia.org/wiki/Boy_or_Girl_paradox)\n",
    "\n",
    "The wording on this question is a little difficult, but the logic followed makes sense:\n",
    "\n",
    "Possible families:\n",
    "- 1\t:\t(B, B)\n",
    "- 2\t:\t(B, G)\n",
    "- 3\t:\t(G, B)\n",
    "- 4\t:\t(G, G)\n",
    "\n",
    "We select only the families with at least one boy, thus we have 3 options:\n",
    "- 1\t:\t(B, B)\n",
    "- 2\t:\t(B, G)\n",
    "- 3\t:\t(G, B)\n",
    "\n",
    "What is the probability that we select the family with both boys?\n",
    "1/3!"
   ]
  },
  {
   "cell_type": "markdown",
   "metadata": {},
   "source": [
    "# Monte Carlo Solution\n"
   ]
  },
  {
   "cell_type": "markdown",
   "metadata": {},
   "source": [
    "## Imports"
   ]
  },
  {
   "cell_type": "code",
   "execution_count": 2,
   "metadata": {
    "lines_to_next_cell": 2
   },
   "outputs": [],
   "source": [
    "import random\n",
    "from typing import List, Set"
   ]
  },
  {
   "cell_type": "markdown",
   "metadata": {},
   "source": [
    "## Constants"
   ]
  },
  {
   "cell_type": "code",
   "execution_count": 3,
   "metadata": {},
   "outputs": [],
   "source": [
    "CHILDREN = 2\n",
    "TYPES = ['B', 'G']\n",
    "NEEDED_GENDER = 'B'\n",
    "DESIRED_GENDER = 'G'"
   ]
  },
  {
   "cell_type": "markdown",
   "metadata": {},
   "source": [
    "## Create families"
   ]
  },
  {
   "cell_type": "code",
   "execution_count": 4,
   "metadata": {},
   "outputs": [],
   "source": [
    "def create_all_possible_families(num_children: int, child_types: List[str]) -> List[List[str]]:\n",
    "\t\"\"\"Returns list of list of all possible family combinations.\n",
    "\t\n",
    "\tReferenced: https://www.geeksforgeeks.org/print-all-possible-combinations-of-r-elements-in-a-given-array-of-size-n/\n",
    "\t\"\"\"\n",
    "\tdef helper(combos, combo) -> list:\n",
    "\t\t\"\"\"Helper recursive function to return all possible family combinations.\"\"\"\n",
    "\t\tif len(combo) == num_children:\t\t## Base case\n",
    "\t\t\tcombos.append(combo)\n",
    "\t\t\treturn combos\n",
    "\t\t\n",
    "\t\tfor child in child_types:\n",
    "\t\t\tcombos = helper(\n",
    "\t\t\t\tcombos,\n",
    "\t\t\t\tcombo + [child])\n",
    "\t\treturn combos\n",
    "\t\n",
    "\n",
    "\treturn helper([], [])"
   ]
  },
  {
   "cell_type": "code",
   "execution_count": 5,
   "metadata": {},
   "outputs": [],
   "source": [
    "def remove_without_gender(families: List[List[str]], needed_gender: str) -> List[List[str]]:\n",
    "\t\"\"\"Returns families after removing the needed gender from the family.\n",
    "\t\n",
    "\tIf the gender is not inside the family, remove the gender.\n",
    "\t\"\"\"\n",
    "\tremoved = 0\n",
    "\tfor i in range(len(families)):\n",
    "\t\tfamily = families[i - removed]\n",
    "\t\tflag_removed_gender = False\n",
    "\n",
    "\t\tfor j in range(len(family)):\n",
    "\t\t\tif family[j] == needed_gender:\n",
    "\t\t\t\tdel family[j]\n",
    "\t\t\t\tflag_removed_gender = True\n",
    "\t\t\t\n",
    "\t\t\tif flag_removed_gender:\n",
    "\t\t\t\tbreak\n",
    "\t\t\n",
    "\t\tif not flag_removed_gender:\n",
    "\t\t\tdel families[i - removed]\n",
    "\t\t\tremoved += 1\n",
    "\n",
    "\treturn families"
   ]
  },
  {
   "cell_type": "code",
   "execution_count": 6,
   "metadata": {},
   "outputs": [],
   "source": [
    "def get_ratio(families: List[List[str]], gender: str, iterations: int) -> float:\n",
    "\t\"\"\"Returns probabily that a child picked from the families is the specified gender.\"\"\"\n",
    "\tnumber_picked = 0\n",
    "\tfor _ in range(iterations):\n",
    "\t\tfamily = random.choice(families)\n",
    "\t\tchild = random.choice(family)\n",
    "\t\t\n",
    "\t\tif child == gender:\n",
    "\t\t\tnumber_picked += 1\n",
    "\n",
    "\treturn number_picked / iterations"
   ]
  },
  {
   "cell_type": "markdown",
   "metadata": {},
   "source": [
    "## Main"
   ]
  },
  {
   "cell_type": "code",
   "execution_count": 7,
   "metadata": {
    "lines_to_next_cell": 2
   },
   "outputs": [],
   "source": [
    "def main():\n",
    "\tpossible_families = create_all_possible_families(\n",
    "\t\tnum_children= CHILDREN,\n",
    "\t\tchild_types= TYPES\n",
    "\t)\n",
    "\n",
    "\tallowed_families = remove_without_gender(possible_families, NEEDED_GENDER)\n",
    "\n",
    "\titerations = 100000\n",
    "\tratio = get_ratio(allowed_families, NEEDED_GENDER, iterations)\n",
    "\tprint(ratio)\t\t# approximates 1/3"
   ]
  },
  {
   "cell_type": "code",
   "execution_count": 8,
   "metadata": {},
   "outputs": [
    {
     "name": "stdout",
     "output_type": "stream",
     "text": [
      "0.33297\n"
     ]
    }
   ],
   "source": [
    "if __name__ == \"__main__\":\n",
    "\tmain()"
   ]
  }
 ],
 "metadata": {
  "jupytext": {
   "cell_metadata_filter": "-all",
   "notebook_metadata_filter": "-all",
   "text_representation": {
    "extension": ".py",
    "format_name": "light"
   }
  },
  "kernelspec": {
   "display_name": "Python 3",
   "language": "python",
   "name": "python3"
  },
  "language_info": {
   "codemirror_mode": {
    "name": "ipython",
    "version": 3
   },
   "file_extension": ".py",
   "mimetype": "text/x-python",
   "name": "python",
   "nbconvert_exporter": "python",
   "pygments_lexer": "ipython3",
   "version": "3.8.3"
  }
 },
 "nbformat": 4,
 "nbformat_minor": 4
}
