{
 "cells": [
  {
   "cell_type": "code",
   "execution_count": null,
   "metadata": {},
   "outputs": [],
   "source": [
    "\"\"\"/**\n",
    " * @author [Jai Miles]\n",
    " * @email [jaimiles23@gmail.com]\n",
    " * @create date 2020-09-18 09:55:46\n",
    " * @modify date 2020-09-18 09:55:46\n",
    " * @desc [\n",
    "\tSolution to: Day 4: Binomial Distribution I\n",
    "\t\thttps://www.hackerrank.com/challenges/s10-binomial-distribution-1/problem\n",
    "\n",
    "This script contains 2 sections:\n",
    "\t1. Notes on binominal distributions\n",
    "\t2. Example problem\n",
    "\t3. Solution to Day 4: Binomial Distribution I\n",
    " ]\n",
    " */\n",
    "\"\"\""
   ]
  },
  {
   "cell_type": "markdown",
   "metadata": {},
   "source": [
    "#########\n",
    "Imports\n",
    "#########"
   ]
  },
  {
   "cell_type": "code",
   "execution_count": null,
   "metadata": {
    "lines_to_next_cell": 2
   },
   "outputs": [],
   "source": [
    "from typing import Tuple"
   ]
  },
  {
   "cell_type": "code",
   "execution_count": null,
   "metadata": {},
   "outputs": [],
   "source": [
    "##########\n",
    "# Notes on binomial distributions\n",
    "##########\n",
    "\"\"\"\n",
    "## Random Variable\n",
    "A random variable, \tX, is the real-valued function X: S -> R in which there is an event for each interval I where I <=R. \n",
    "You can think of it as the set of probabilities for the possible outcomes of a sample space. \n",
    "For example, if you consider the possible sums for the values rolled by 2 four-sided dice:\n",
    "\tX = {2, 3, 4, 5, 6, 7, 8}\n",
    "\tP(X = 2) = P({ (1, 1)}) = 1/16\n",
    "\tP(X = 3) = P({ (1, 2), (2, 1)}) = 2/16\n",
    "\tP(X = 4) = P({ (1, 3), (2, 2), (3, 1)}) = 3/16\n",
    "\tP(X = 5) = P({ (1, 4), (2, 3), (3, 2), (4, 1)}) = 4/16\n",
    "\tP(X = 6) = P({ (2, 4), (3, 3), (4, 2)}) = 3/16\n",
    "\tP(X = 7) = P({ (3, 4), (4, 3)}) = 2/16\n",
    "\tP(X = 8) = P({ (4, 4)}) = 1/16\n",
    "\n",
    "\n",
    "## Binomial Experiment\n",
    "A binomial experiment (or Bernoulli trial) is a statistical experiment that has the following properties:\n",
    "\t- The experiment consists of n repeated trials.\n",
    "\t- The trials are independent.\n",
    "\t- The outcome of each trial is either success (s) or failure (f).\n",
    "\n",
    "\n",
    "## Bernoulli Random Variable and Distribution\n",
    "The sample space of a binomial experiment only contains two points: s and f. \n",
    "We define a Bernoulli random variable to be the random variable defined by X(s) = 1 and X(f) = 0. \n",
    "If we consider the probability of success to be p and the probability of failure to be q (where q = 1-p), \n",
    "then the probability mass function (PMF) of X is:\n",
    "\tP(x):\n",
    "\t\t= 1-p=q, if x = 0\n",
    "\t\t= p if x = 1\n",
    "\t\t= 0 otherwise\n",
    "\n",
    "\n",
    "This is also expressed as:\n",
    "\tf(x) = p**x(1 - p) ** (1-x), for x {0, 1}\n",
    "\n",
    "## Binomial Distribution\n",
    "We define a binomial process to be a binomial experiment meeting the following conditions:\n",
    "\n",
    "\t- The number of successes is x.\n",
    "\t- The total number of trials is n.\n",
    "\t- The probability of success of 1 trial is p.\n",
    "\t- The probability of failure of 1 trial q, where q = 1 - p.\n",
    "\t- b(x, n, p) is the binomial probability, meaning the probability of having exactly x successes out of n trials.\n",
    "\n",
    "The binomial random variable is the number of successes, x, out of n trials.\n",
    "\n",
    "The binomial distribution is the probability distribution for the binomial random variable, given by the following probability mass function:\n",
    "\tb(x, n, p) = (n | x) * p**x * q ** (n-x)\n",
    "\n",
    "Note: Recall that (n|x) is notation for combinations, and solved:\n",
    "\tnCr:\n",
    "\t\t= nPr | !r \n",
    "\t\t\t= n! / (r! * (n-r)!)\n",
    "\n",
    "\n",
    "## Cumulative Probability\n",
    "We consider the distribution function for some real-valued random variable, X, to be Fx(X)  = P(x <= X). \n",
    "Because this is a non-decreasing function that accumulates all the probabilities for the values of x up to (and including) X, \n",
    "we call it the cumulative distribution function (CDF) of X. \n",
    "\n",
    "As the CDF expresses a cumulative range of values, we can use the following formula to find the cumulative probabilities for all x [a, b]:\n",
    "\tP(a < X <= b) = Fx(b) - Fx(a)\n",
    "\n",
    "This formula takes a summation of the binomial probability mass function\n",
    "\"\"\""
   ]
  },
  {
   "cell_type": "code",
   "execution_count": null,
   "metadata": {},
   "outputs": [],
   "source": [
    "##########\n",
    "# Example Problems\n",
    "##########\n",
    "\"\"\"\n",
    "NOTE: Solutions to the example problems are printed in the main script below*\n",
    "\n",
    "A fair coin is tossed n times. Find the following probabilities:\n",
    "\n",
    "- Getting 5 heads.\n",
    "- Getting at least 5 heads.\n",
    "- Getting at most 5 heads.\n",
    "\n",
    "## 1. Getting 5 heads.\n",
    "To calculate the probability distribution of a binomial distribution, use the binominal probability mass function:\n",
    "\tb(x, n, p) = (n | x) * p**x * q ** (n-x)\n",
    "\n",
    "b(5, 10, 0.5) \n",
    "\t= (10 | 5) ** 0.5**5 * 0.5**(1-0.5)\n",
    "\t\t= (10! / (5! * (10 - 5)!) ** 0.5**5 * 0.5**5\n",
    "\t\t\t= 0.24609\n",
    "\n",
    "## Getting at least 5 heads:\n",
    "\t= Summation from 1, 5 of b(x, n, p).\n",
    "\n",
    "## Getting 5+ heads\n",
    "\t= Summation from 5, 10 of b(x, n, p)\n",
    "\"\"\""
   ]
  },
  {
   "cell_type": "code",
   "execution_count": null,
   "metadata": {
    "lines_to_next_cell": 1
   },
   "outputs": [],
   "source": [
    "##########\n",
    "# Example problem code\n",
    "##########\n",
    "\"\"\" Functions to calculate Binomial Mass Probability Functions\n",
    "\"\"\""
   ]
  },
  {
   "cell_type": "code",
   "execution_count": null,
   "metadata": {},
   "outputs": [],
   "source": [
    "def factorial(num: int) -> float:\n",
    "\t\"\"\"Returns factorial for num\n",
    "\n",
    "\tArgs:\n",
    "\t\tnum (int): Number to get factorial\n",
    "\n",
    "\tReturns:\n",
    "\t\tfloat: Factorial of num\n",
    "\t\"\"\"\n",
    "\tif num == 0:\n",
    "\t\treturn 1\n",
    "\n",
    "\toutput = num\n",
    "\tfor i in range(num-1, 0, -1):\n",
    "\t\toutput *= i\n",
    "\treturn output"
   ]
  },
  {
   "cell_type": "code",
   "execution_count": null,
   "metadata": {},
   "outputs": [],
   "source": [
    "def calc_bin_mass_prob_func(x: int, n: int, p: float) -> float:\n",
    "\t\"\"\"Returns the probability of X/N trials in binomial probability distribution defined by p.\n",
    "\n",
    "\tArgs:\n",
    "\t\tx (int): successes\n",
    "\t\tn (int): total trials\n",
    "\t\tp (float): probability of success\n",
    "\n",
    "\tReturns:\n",
    "\t\tfloat: mass probability to return x successes\n",
    "\t\"\"\"\n",
    "\tq = 1 - p\n",
    "\n",
    "\tcombinations = factorial(n) / (factorial(x) * factorial(n - x))\n",
    "\tmass_prob = combinations * p ** x * q ** (n-x)\n",
    "\treturn mass_prob"
   ]
  },
  {
   "cell_type": "code",
   "execution_count": null,
   "metadata": {
    "lines_to_next_cell": 2
   },
   "outputs": [],
   "source": [
    "def calc_bin_cum_dist_func(r: int, x: int, n: int, p: float) -> float:\n",
    "\t\"\"\"Returns the cumulative distribution of range r:x (inclusive) trials out of n.\n",
    "\n",
    "\tArgs:\n",
    "\t\tr (int): lower limit of dist\n",
    "\t\tx (int): upper limit of dist\n",
    "\t\tn (int): total number of trials\n",
    "\t\tp (float): probability of success\n",
    "\n",
    "\tReturns:\n",
    "\t\tfloat: cumulative distribution of range r - x\n",
    "\t\"\"\"\n",
    "\tcum_dist = 0\n",
    "\tfor i in range(r, x + 1):\n",
    "\t\tmass_dist = calc_bin_mass_prob_func(i, n, p)\n",
    "\t\tcum_dist += mass_dist\n",
    "\treturn cum_dist"
   ]
  },
  {
   "cell_type": "code",
   "execution_count": null,
   "metadata": {},
   "outputs": [],
   "source": [
    "##########\n",
    "# Binomial Distribution Problem\n",
    "##########\n",
    "\"\"\"\n",
    "The ratio of boys to girls for babies born in Russia is 1.09: 1. \n",
    "If there is 1 child born per birth, what proportion of Russian families with exactly 6 children will have at least 3 boys?\n",
    "\n",
    "Write a program to compute the answer using the above parameters. Then print your result, rounded to a scale of 3 decimal places (i.e., 1.234 format).\n",
    "\n",
    "Input Format:\n",
    "A single line containing the following values:\n",
    "1.09 1\n",
    "\"\"\"\n",
    "##### Imports\n",
    "from typing import Tuple"
   ]
  },
  {
   "cell_type": "code",
   "execution_count": null,
   "metadata": {},
   "outputs": [],
   "source": [
    "##### Input\n",
    "def get_input() -> Tuple[float, int]:\n",
    "\t\"\"\"Returns ipnut for binomial distribution problem i\n",
    "\n",
    "\tReturns:\n",
    "\t\tTuple[float, int]: Represents respective probabilities of girl and boy babies.\n",
    "\t\"\"\"\n",
    "\tgirl_prob, boy_prob = [x for x in input().split()]\n",
    "\treturn (float(girl_prob), int(boy_prob))"
   ]
  },
  {
   "cell_type": "code",
   "execution_count": null,
   "metadata": {},
   "outputs": [],
   "source": [
    "##### Get p\n",
    "def get_probability_p(girl_prob: float, boy_prob: int, desired_sex: str) -> float:\n",
    "\t\"\"\"Returns probability of successful trial.\n",
    "\n",
    "\tArgs:\n",
    "\t\tgirl_prob (float): P(girl)\n",
    "\t\tboy_prob (int): P(boy)\n",
    "\t\tdesired_sex (str): calc p for sex\n",
    "\n",
    "\tReturns:\n",
    "\t\tfloat: [description]\n",
    "\t\"\"\"\n",
    "\tif desired_sex == 'm':\n",
    "\t\treturn boy_prob / (girl_prob + boy_prob)\n",
    "\treturn girl_prob / (girl_prob + boy_prob)"
   ]
  },
  {
   "cell_type": "code",
   "execution_count": null,
   "metadata": {},
   "outputs": [],
   "source": [
    "def factorial(num: int) -> float:\n",
    "\t\"\"\"Returns factorial for num\n",
    "\n",
    "\tArgs:\n",
    "\t\tnum (int): Number to get factorial\n",
    "\n",
    "\tReturns:\n",
    "\t\tfloat: Factorial of num\n",
    "\t\"\"\"\n",
    "\tif num == 0:\n",
    "\t\treturn 1\n",
    "\n",
    "\toutput = num\n",
    "\tfor i in range(num-1, 0, -1):\n",
    "\t\toutput *= i\n",
    "\treturn output"
   ]
  },
  {
   "cell_type": "code",
   "execution_count": null,
   "metadata": {},
   "outputs": [],
   "source": [
    "def get_bin_mass_dist(x, n, p) -> float:\n",
    "\t\"\"\"Returns binomial mass distribution of p(x, n, p).\n",
    "\n",
    "\tArgs:\n",
    "\t\tx ([type]): Success trials\n",
    "\t\tn ([type]): Total Trials\n",
    "\t\tp ([type]): P(X)\n",
    "\n",
    "\tReturns:\n",
    "\t\tfloat: probability mass distribution\n",
    "\t\"\"\"\n",
    "\n",
    "\tcombinations = factorial(n) / (factorial(x) * factorial(n - x))\n",
    "\tbin_mass = combinations * p ** x * (1 - p) ** (n - x)\n",
    "\treturn bin_mass"
   ]
  },
  {
   "cell_type": "code",
   "execution_count": null,
   "metadata": {},
   "outputs": [],
   "source": [
    "def get_cum_prob_bin_dist(r: int, x: int, n: int, p: float) -> float:\n",
    "\t\"\"\"Returns cumulative prob of binary distribution with inclusive limits [r:x].\n",
    "\n",
    "\tArgs:\n",
    "\t\tr (int): lower limit of dist\n",
    "\t\tx (int): upper limit of dist\n",
    "\t\tn (int): total trial\n",
    "\t\tp (float): probability of x\n",
    "\n",
    "\tReturns:\n",
    "\t\tfloat: cumulative probability of binary distribution\n",
    "\t\"\"\"\n",
    "\tcum_prob = 0\n",
    "\tfor i in range(r, x + 1):\n",
    "\t\tbin_mass = get_bin_mass_dist(i, n, p)\n",
    "\t\tcum_prob += bin_mass\n",
    "\treturn cum_prob"
   ]
  },
  {
   "cell_type": "code",
   "execution_count": null,
   "metadata": {},
   "outputs": [],
   "source": [
    "def solution() -> None:\n",
    "\t\"\"\"Prints solution to Day 4: Binomial Distribution i.\n",
    "\t\"\"\"\n",
    "\t## Constants\n",
    "\tN = 6\n",
    "\tR = 3\n",
    "\tX = 6\n",
    "\tDESIRED_SEX = 'b'\n",
    "\n",
    "\t## funcs\n",
    "\tgirl_prob, boy_prob = get_input()\n",
    "\tp = get_probability_p(girl_prob, boy_prob, DESIRED_SEX)\n",
    "\tcum_prob = get_cum_prob_bin_dist(R, X, N, p)\n",
    "\tprint(\"{0:.3f}\".format(cum_prob))"
   ]
  },
  {
   "cell_type": "markdown",
   "metadata": {},
   "source": [
    "#########\n",
    "Main\n",
    "#########"
   ]
  },
  {
   "cell_type": "code",
   "execution_count": null,
   "metadata": {},
   "outputs": [],
   "source": [
    "def main():\n",
    "\t\"\"\"Prints solutions to:\n",
    "\t\t- Example problems 1, 2, & 3.\n",
    "\t\t- Day 4: Binomial Distribution i problem.\n",
    "\t\"\"\"\n",
    "\tprint(\"\\nExample 1\")\n",
    "\tx, n, p = 5, 10, 0.5\n",
    "\tprint(calc_bin_mass_prob_func(x, n, p))\n",
    "\n",
    "\tprint(\"\\nExample 2\")\n",
    "\tr, x, n, p = 0, 5, 10, 0.5\n",
    "\tprint( calc_bin_cum_dist_func(r, x, n, p))\n",
    "\n",
    "\tprint(\"\\nExample 3\")\n",
    "\tr, x, n, p = 5, 10, 10, 0.5\n",
    "\tprint( calc_bin_cum_dist_func(r, x, n, p))\n",
    "\n",
    "\tprint(\"\\nSolution Problem\")\n",
    "\tsolution()"
   ]
  },
  {
   "cell_type": "code",
   "execution_count": null,
   "metadata": {},
   "outputs": [],
   "source": []
  },
  {
   "cell_type": "code",
   "execution_count": null,
   "metadata": {},
   "outputs": [],
   "source": [
    "if __name__ == \"__main__\":\n",
    "\tmain()"
   ]
  }
 ],
 "metadata": {
  "jupytext": {
   "cell_metadata_filter": "-all",
   "notebook_metadata_filter": "-all",
   "text_representation": {
    "extension": ".py",
    "format_name": "light"
   }
  },
  "kernelspec": {
   "display_name": "Python 3",
   "language": "python",
   "name": "python3"
  },
  "language_info": {
   "codemirror_mode": {
    "name": "ipython",
    "version": 3
   },
   "file_extension": ".py",
   "mimetype": "text/x-python",
   "name": "python",
   "nbconvert_exporter": "python",
   "pygments_lexer": "ipython3",
   "version": "3.8.3"
  }
 },
 "nbformat": 4,
 "nbformat_minor": 4
}
