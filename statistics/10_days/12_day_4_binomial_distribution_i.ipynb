{
 "cells": [
  {
   "cell_type": "markdown",
   "metadata": {},
   "source": [
    "Solution to: [Day 4: Binomial Distribution I](https://www.hackerrank.com/challenges/s10-binomial-distribution-1/problem)"
   ]
  },
  {
   "cell_type": "markdown",
   "metadata": {},
   "source": [
    "<h1 id=\"tocheading\">Table of Contents</h1>\n",
    "<div id=\"toc\"></div>"
   ]
  },
  {
   "cell_type": "code",
   "execution_count": 1,
   "metadata": {},
   "outputs": [
    {
     "data": {
      "application/javascript": [
       "$.getScript('https://kmahelona.github.io/ipython_notebook_goodies/ipython_notebook_toc.js')\n"
      ],
      "text/plain": [
       "<IPython.core.display.Javascript object>"
      ]
     },
     "metadata": {},
     "output_type": "display_data"
    }
   ],
   "source": [
    "%%javascript\n",
    "$.getScript('https://kmahelona.github.io/ipython_notebook_goodies/ipython_notebook_toc.js')"
   ]
  },
  {
   "cell_type": "markdown",
   "metadata": {},
   "source": [
    "\n",
    "This script contains 2 sections:\n",
    "\t1. Notes on binominal distributions\n",
    "\t2. Example problem\n",
    "\t3. Solution to Day 4: Binomial Distribution I\n"
   ]
  },
  {
   "cell_type": "markdown",
   "metadata": {},
   "source": [
    "# Notes on Binomial Distributions"
   ]
  },
  {
   "cell_type": "markdown",
   "metadata": {},
   "source": [
    "## Random Variable\n",
    "A random variable, \t**X**, is the real-valued function X: S -> R in which there is an event for each interval I where I <=R. You can think of it as the set of probabilities for the possible outcomes of a sample space. \n",
    "\n",
    "\n",
    "For example, if you consider the random variable X as possible sums for the values rolled by 2 four-sided dice:\n",
    "\n",
    "\tX = {2, 3, 4, 5, 6, 7, 8}\n",
    "    \n",
    "\tP(X = 2) = P({ (1, 1)}) = 1/16\n",
    "\tP(X = 3) = P({ (1, 2), (2, 1)}) = 2/16\n",
    "\tP(X = 4) = P({ (1, 3), (2, 2), (3, 1)}) = 3/16\n",
    "\tP(X = 5) = P({ (1, 4), (2, 3), (3, 2), (4, 1)}) = 4/16\n",
    "\tP(X = 6) = P({ (2, 4), (3, 3), (4, 2)}) = 3/16\n",
    "\tP(X = 7) = P({ (3, 4), (4, 3)}) = 2/16\n",
    "\tP(X = 8) = P({ (4, 4)}) = 1/16"
   ]
  },
  {
   "cell_type": "markdown",
   "metadata": {},
   "source": [
    "## Binomial Experiment\n",
    "A binomial experiment (or Bernoulli trial) is a statistical experiment that has the following properties:\n",
    "\t- The experiment consists of n repeated trials.\n",
    "\t- The trials are independent.\n",
    "\t- The outcome of each trial is either success (s) or failure (f)."
   ]
  },
  {
   "cell_type": "markdown",
   "metadata": {},
   "source": [
    "## Bernoulli Random Variable and Distribution\n",
    "The sample space of a binomial experiment only contains two points: **s** and **f**.\n",
    "\n",
    "We define a Bernoulli random variable to be the random variable defined by:\n",
    "\n",
    "\\begin{equation}\n",
    "\\large\n",
    "\\begin{cases}\n",
    "X(s) = 1 \\\\\n",
    "X(f) = 0\n",
    "\\end{cases}\n",
    "\n",
    "\n",
    "If we consider the probability of success to be **p** and the probability of failure to be **q** (where q = 1-p), \n",
    "then the **probability mass function (PMF)** of X is:\n",
    "\n",
    "\\begin{equation}\n",
    "\\large\n",
    "\\mathrm{PMF} = \n",
    "\\begin{cases}\n",
    "1-p = q, \\text{ if x = 0} \\\\\n",
    "p, \\text{ if x = 1} \\\\\n",
    "0, \\text{otherwise}\n",
    "\\end{cases}\n",
    "\\end{equation}\n",
    "\n",
    "\n",
    "This is also expressed as:\n",
    "\n",
    "\\begin{equation}\n",
    "\\large\n",
    "f(x) = p^{x}(1-p)^{1-x}\n",
    "\\end{equation}"
   ]
  },
  {
   "cell_type": "markdown",
   "metadata": {},
   "source": [
    "## Binomial Distribution\n",
    "We define a binomial process to be a binomial experiment meeting the following conditions:\n",
    "\n",
    "- The number of successes is x.\n",
    "- The total number of trials is n.\n",
    "- The probability of success of 1 trial is p.\n",
    "- The probability of failure of 1 trial q, where q = 1 - p.\n",
    "- b(x, n, p) is the binomial probability, meaning the probability of having exactly x successes out of n trials.\n",
    "\n",
    "\n",
    "The binomial random variable is the number of successes, x, out of n trials.\n",
    "\n",
    "The binomial distribution is the probability distribution for the binomial random variable, given by the following **probability mass function**:\n",
    "\n",
    "\\begin{equation}\n",
    "\\large\n",
    "b(x, n, p) = {n \\choose x} * p^{x} * p^{n-x}\n",
    "\\end{equation}\n",
    "\n",
    "Note: Recall that ${n \\choose x} is notation for combinations, and solved:\n",
    "\\begin{equation}\n",
    "\\large\n",
    "nCr = \\frac{nPr}{!r} = \\frac{n!}{r! * (n - r)!}\n",
    "\\end{equation}"
   ]
  },
  {
   "cell_type": "markdown",
   "metadata": {},
   "source": [
    "## Cumulative Probability\n",
    "We consider the distribution function for some real-valued random variable, **X**, to be Fx(X) = P(X <= x). \n",
    "\n",
    "Because this is a non-decreasing function that accumulates all the probabilities for the values of x up to (and including) X, we call it the **cumulative distribution function (CDF)** of X. \n",
    "\n",
    "As the CDF expresses a cumulative range of values, we can use the following formula to find the cumulative probabilities for all x [a, b]:\n",
    "\n",
    "\\begin{equation}\n",
    "\\large\n",
    "P(a < X \\leq b) = F_{x}(b) - F_{x}(a)\n",
    "\\end{equation}\n",
    "\n",
    "This formula takes a summation of the binomial probability mass function"
   ]
  },
  {
   "cell_type": "markdown",
   "metadata": {},
   "source": [
    "## Example Problem\n",
    "\n",
    "A fair coin is tossed n times. Find the following probabilities:\n",
    "- Getting 5 heads.\n",
    "- Getting at least 5 heads.\n",
    "- Getting at most 5 heads.\n",
    "\n",
    "\n",
    "* Note: Problem 2 & 3 are solved in Python Solution using CDF function.\n",
    "\n",
    "\n",
    "To calculate the probability distribution of a binomial distribution, use the binominal probability mass function:\n",
    "\n",
    "\\begin{equation}\n",
    "\\large\n",
    "\\text{b(x, n, p)} = {n \\choose x} * p^{x} * q^{n-x}\n",
    "\\end{equation}\n",
    "\n",
    "\\begin{equation}\n",
    "\\large\n",
    "\\text{5, 10, 0.5} = {10 \\choose 5} ** 0.5^{5} * 0.5^{0.5} = 0.24609\n",
    "\\end{equation}\n"
   ]
  },
  {
   "cell_type": "markdown",
   "metadata": {},
   "source": [
    "# Solution"
   ]
  },
  {
   "cell_type": "markdown",
   "metadata": {},
   "source": [
    "\n",
    "The ratio of boys to girls for babies born in Russia is 1.09: 1. \n",
    "If there is 1 child born per birth, what proportion of Russian families with exactly 6 children will have at least 3 boys?\n",
    "\n",
    "Write a program to compute the answer using the above parameters. Then print your result, rounded to a scale of 3 decimal places (i.e., 1.234 format).\n",
    "\n",
    "Input Format:\n",
    "A single line containing the following values:\n",
    "1.09 1\n",
    "\n"
   ]
  },
  {
   "cell_type": "markdown",
   "metadata": {},
   "source": [
    "## Imports"
   ]
  },
  {
   "cell_type": "code",
   "execution_count": 2,
   "metadata": {},
   "outputs": [],
   "source": [
    "from typing import Tuple"
   ]
  },
  {
   "cell_type": "markdown",
   "metadata": {},
   "source": [
    "## Input"
   ]
  },
  {
   "cell_type": "code",
   "execution_count": 3,
   "metadata": {},
   "outputs": [],
   "source": [
    "def get_input() -> Tuple[float, int]:\n",
    "\t\"\"\"Returns ipnut for binomial distribution problem i\n",
    "\n",
    "\tReturns:\n",
    "\t\tTuple[float, int]: Represents respective probabilities of girl and boy babies.\n",
    "\t\"\"\"\n",
    "\tgirl_prob, boy_prob = [x for x in input().split()]\n",
    "\treturn (float(girl_prob), int(boy_prob))"
   ]
  },
  {
   "cell_type": "markdown",
   "metadata": {},
   "source": [
    "## Get Probability "
   ]
  },
  {
   "cell_type": "code",
   "execution_count": 4,
   "metadata": {},
   "outputs": [],
   "source": [
    "def factorial(num: int) -> float:\n",
    "\t\"\"\"Returns factorial for num\n",
    "\n",
    "\tArgs:\n",
    "\t\tnum (int): Number to get factorial\n",
    "\n",
    "\tReturns:\n",
    "\t\tfloat: Factorial of num\n",
    "\t\"\"\"\n",
    "\tif num == 0:\n",
    "\t\treturn 1\n",
    "\n",
    "\toutput = num\n",
    "\tfor i in range(num-1, 0, -1):\n",
    "\t\toutput *= i\n",
    "\treturn output"
   ]
  },
  {
   "cell_type": "code",
   "execution_count": 5,
   "metadata": {},
   "outputs": [],
   "source": [
    "##### Get p\n",
    "def get_probability_p(girl_prob: float, boy_prob: int, desired_sex: str) -> float:\n",
    "    \"\"\"Returns probability of successful trial.\n",
    "\n",
    "    Args:\n",
    "        girl_prob (float): P(girl)\n",
    "        boy_prob (int): P(boy)\n",
    "        desired_sex (str): calc p for sex\n",
    "\n",
    "    Returns:\n",
    "        float: [description]\n",
    "    \"\"\"\n",
    "    if desired_sex == 'm':\n",
    "        return boy_prob / (girl_prob + boy_prob)\n",
    "    return girl_prob / (girl_prob + boy_prob)\n"
   ]
  },
  {
   "cell_type": "code",
   "execution_count": 6,
   "metadata": {},
   "outputs": [],
   "source": [
    "def get_bin_mass_dist(x, n, p) -> float:\n",
    "\t\"\"\"Returns binomial mass distribution of p(x, n, p).\n",
    "\n",
    "\tArgs:\n",
    "\t\tx ([type]): Success trials\n",
    "\t\tn ([type]): Total Trials\n",
    "\t\tp ([type]): P(X)\n",
    "\n",
    "\tReturns:\n",
    "\t\tfloat: probability mass distribution\n",
    "\t\"\"\"\n",
    "\n",
    "\tcombinations = factorial(n) / (factorial(x) * factorial(n - x))\n",
    "\tbin_mass = combinations * p ** x * (1 - p) ** (n - x)\n",
    "\treturn bin_mass"
   ]
  },
  {
   "cell_type": "code",
   "execution_count": 7,
   "metadata": {},
   "outputs": [],
   "source": [
    "def get_cum_prob_bin_dist(r: int, x: int, n: int, p: float) -> float:\n",
    "\t\"\"\"Returns cumulative prob of binary distribution with inclusive limits [r:x].\n",
    "\n",
    "\tArgs:\n",
    "\t\tr (int): lower limit of dist\n",
    "\t\tx (int): upper limit of dist\n",
    "\t\tn (int): total trial\n",
    "\t\tp (float): probability of x\n",
    "\n",
    "\tReturns:\n",
    "\t\tfloat: cumulative probability of binary distribution\n",
    "\t\"\"\"\n",
    "\tcum_prob = 0\n",
    "\tfor i in range(r, x + 1):\n",
    "\t\tbin_mass = get_bin_mass_dist(i, n, p)\n",
    "\t\tcum_prob += bin_mass\n",
    "\treturn cum_prob"
   ]
  },
  {
   "cell_type": "code",
   "execution_count": 8,
   "metadata": {},
   "outputs": [],
   "source": [
    "def solution() -> None:\n",
    "\t\"\"\"Prints solution to Day 4: Binomial Distribution i.\n",
    "\t\"\"\"\n",
    "\t## Constants\n",
    "\tN = 6\n",
    "\tR = 3\n",
    "\tX = 6\n",
    "\tDESIRED_SEX = 'b'\n",
    "\n",
    "\t## funcs\n",
    "\tgirl_prob, boy_prob = get_input()\n",
    "\tp = get_probability_p(girl_prob, boy_prob, DESIRED_SEX)\n",
    "\tcum_prob = get_cum_prob_bin_dist(R, X, N, p)\n",
    "\tprint(\"{0:.3f}\".format(cum_prob))"
   ]
  },
  {
   "cell_type": "markdown",
   "metadata": {},
   "source": [
    "## Main"
   ]
  },
  {
   "cell_type": "code",
   "execution_count": 11,
   "metadata": {},
   "outputs": [],
   "source": [
    "def main():\n",
    "\t\"\"\"Prints solutions to:\n",
    "\t\t- Example problems 1, 2, & 3.\n",
    "\t\t- Day 4: Binomial Distribution i problem.\n",
    "\t\"\"\"\n",
    "\tprint(\"\\nExample 2\")\n",
    "\tr, x, n, p = 0, 5, 10, 0.5\n",
    "\tprint( get_cum_prob_bin_dist(r, x, n, p))\n",
    "\n",
    "\tprint(\"\\nExample 3\")\n",
    "\tr, x, n, p = 5, 10, 10, 0.5\n",
    "\tprint( get_cum_prob_bin_dist(r, x, n, p))\n",
    "\n",
    "\tprint(\"\\nSolution Problem\")\n",
    "\tsolution()"
   ]
  },
  {
   "cell_type": "code",
   "execution_count": 12,
   "metadata": {},
   "outputs": [
    {
     "name": "stdout",
     "output_type": "stream",
     "text": [
      "\n",
      "Example 2\n",
      "0.623046875\n",
      "\n",
      "Example 3\n",
      "0.623046875\n",
      "\n",
      "Solution Problem\n",
      "1.09 1\n",
      "0.696\n"
     ]
    }
   ],
   "source": [
    "if __name__ == \"__main__\":\n",
    "\tmain()"
   ]
  },
  {
   "cell_type": "code",
   "execution_count": null,
   "metadata": {},
   "outputs": [],
   "source": []
  }
 ],
 "metadata": {
  "jupytext": {
   "cell_metadata_filter": "-all",
   "notebook_metadata_filter": "-all",
   "text_representation": {
    "extension": ".py",
    "format_name": "light"
   }
  },
  "kernelspec": {
   "display_name": "Python 3",
   "language": "python",
   "name": "python3"
  },
  "language_info": {
   "codemirror_mode": {
    "name": "ipython",
    "version": 3
   },
   "file_extension": ".py",
   "mimetype": "text/x-python",
   "name": "python",
   "nbconvert_exporter": "python",
   "pygments_lexer": "ipython3",
   "version": "3.8.3"
  }
 },
 "nbformat": 4,
 "nbformat_minor": 4
}
