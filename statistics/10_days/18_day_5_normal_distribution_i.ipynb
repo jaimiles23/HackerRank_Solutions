{
 "cells": [
  {
   "cell_type": "markdown",
   "metadata": {},
   "source": [
    "Solution to: [Day 5: Normal Distribution I](https://www.hackerrank.com/challenges/s10-normal-distribution-1/tutorial)"
   ]
  },
  {
   "cell_type": "markdown",
   "metadata": {},
   "source": [
    "<h1 id=\"tocheading\">Table of Contents</h1>\n",
    "<div id=\"toc\"></div>"
   ]
  },
  {
   "cell_type": "code",
   "execution_count": 1,
   "metadata": {},
   "outputs": [
    {
     "data": {
      "application/javascript": [
       "$.getScript('https://kmahelona.github.io/ipython_notebook_goodies/ipython_notebook_toc.js')\n"
      ],
      "text/plain": [
       "<IPython.core.display.Javascript object>"
      ]
     },
     "metadata": {},
     "output_type": "display_data"
    }
   ],
   "source": [
    "%%javascript\n",
    "$.getScript('https://kmahelona.github.io/ipython_notebook_goodies/ipython_notebook_toc.js')"
   ]
  },
  {
   "cell_type": "markdown",
   "metadata": {},
   "source": [
    "This script contains 3 sections:\n",
    "\t1. Notes on normal distributions\n",
    "\t2. Python solution to the question"
   ]
  },
  {
   "cell_type": "markdown",
   "metadata": {},
   "source": [
    "# Notes\n",
    "\n",
    "## Normal Distribution\n",
    "The probability density of normal distribution is:\n",
    "\tn(μ, σ) = 1 / (σ * 2π) ** 1/2 * e ** -(x-μ) ** 2 / 2σ**2\n",
    "\n",
    "Here,\n",
    "\tμ is the mean (or expectation) of the distribution. It is also equal to median and mode of the distribution.\n",
    "\tσ**2 is the variance.\n",
    "\tσ is the standard deviation.\n",
    "\n",
    "## Standard Normal Distribution\n",
    "If μ = 0 and σ = 1, then the normal distribution is known as standard normal distribution:\n",
    "\tσ(x) = e ** - x**2/2 / (π) ** 1/2\n",
    "\n",
    "Every normal distribution can be represented as standard normal distribution:\n",
    "\tn(μ, σ**2) = 1/σ * Standard Normal Dist * ((x - μ)/σ)\n",
    "\n",
    "\n",
    "## Cumulative Probability\n",
    "Consider a real-valued random variable, X. The cumulative distribution function of X (or just the distribution function of X) \n",
    "evaluated at x is the probability that X will take a value less than or equal to x:\n",
    "\n",
    "\tFx(x) = P(X <= x)\n",
    "Also,\n",
    "\tP(a <= X <= b) = P(a < X < b) = Fx(b) - Fx(a)\n",
    "\n",
    "The cumulative distribution function for a function with normal distribution is:\n",
    "\tcumdist(x) = 1/2(1 + erf(x - μ) / σ * 2**1/2)\n",
    "\n",
    "Where erf is the error function:\n",
    "\terf(z) = 2/π, summation 0 to z, e ** -x** * dx\n",
    "]\n",
    "*/\n",
    "\"\"\""
   ]
  },
  {
   "cell_type": "markdown",
   "metadata": {},
   "source": [
    "# Solution"
   ]
  },
  {
   "cell_type": "markdown",
   "metadata": {},
   "source": [
    "## Imports"
   ]
  },
  {
   "cell_type": "code",
   "execution_count": null,
   "metadata": {
    "lines_to_next_cell": 2
   },
   "outputs": [],
   "source": [
    "from typing import Tuple"
   ]
  },
  {
   "cell_type": "markdown",
   "metadata": {},
   "source": [
    "## Constants"
   ]
  },
  {
   "cell_type": "code",
   "execution_count": null,
   "metadata": {},
   "outputs": [],
   "source": [
    "import math"
   ]
  },
  {
   "cell_type": "markdown",
   "metadata": {},
   "source": [
    "## Input"
   ]
  },
  {
   "cell_type": "code",
   "execution_count": null,
   "metadata": {},
   "outputs": [],
   "source": [
    "def get_input() -> Tuple[int, int, float, ]:\n",
    "\t\"\"\"Returns input for Day 5: Normal Distribution I\n",
    "\n",
    "\tReturns:\n",
    "\t\tTuple[int, int, float, int]: Represents: mean, sd, less than value, and interval\n",
    "\t\"\"\"\n",
    "\treturn (20, 2, 19.5, 20, 22)\n",
    "\n",
    "\tmean, sd = (int(x) for x in input().split())\n",
    "\tless_than = float(input())\n",
    "\tinterval_1, interval_2 = (int(x) for x in input().split())\n",
    "\treturn mean, sd, less_than, interval_1, interval_2"
   ]
  },
  {
   "cell_type": "markdown",
   "metadata": {},
   "source": [
    "## Cumulative Probability function"
   ]
  },
  {
   "cell_type": "code",
   "execution_count": null,
   "metadata": {},
   "outputs": [],
   "source": [
    "def custom_erf(z: int) -> float:\n",
    "\t\"\"\"Returns error from error function for normal distribution\n",
    "\n",
    "\tArgs:\n",
    "\t\tz (int): error function value\n",
    "\n",
    "\tReturns:\n",
    "\t\tfloat: error amount\n",
    "\t\n",
    "\tNOTE:\n",
    "\t\t- math module has an inbuilt erf function\n",
    "\t\t- dt represents an infinitely small value from a Maclaurin series\n",
    "\t\t- formula taken from: https://www.johndcook.com/blog/python_erf/\n",
    "\t\"\"\"\n",
    "\t## Vars\n",
    "\tconstants = (\n",
    "\t\t1.061405429,\n",
    "\t\t-1.453152027,\n",
    "\t\t1.421413741,\n",
    "\t\t-0.284496736,\n",
    "\t\t0.254829592,\n",
    "\t)\n",
    "\tp = 0.3275911\n",
    "\tsign = 1 if z >= 0 else -1\n",
    "\tz = abs(z)\n",
    "\tt = 1 / ( 1 + p * z)\n",
    "\n",
    "\t## Calc\n",
    "\ty = 0\n",
    "\tfor c in constants: y = (y + c) * t\n",
    "\ty = 1 - (y * math.e ** (-z * z))\n",
    "\n",
    "\treturn y * sign"
   ]
  },
  {
   "cell_type": "code",
   "execution_count": null,
   "metadata": {},
   "outputs": [],
   "source": [
    "def calc_cum_distr(x: int, mean: float,\tsd: float) -> float:\n",
    "\t\"\"\"returns cumulative probability for val in normal distribution.\n",
    "\n",
    "\tArgs:\n",
    "\t\tx (int): value to find cum probability for\n",
    "\n",
    "\tReturns:\n",
    "\t\tfloat: cumulative probability of x\n",
    "\t\"\"\"\n",
    "\tz = (x - mean) / (sd * 2 ** (1/2))\n",
    "\treturn 1/2 * (1 + custom_erf(z))"
   ]
  },
  {
   "cell_type": "code",
   "execution_count": null,
   "metadata": {},
   "outputs": [],
   "source": [
    "def format_scale(num: float) -> float:\n",
    "\t\"\"\"Formats number to scale\n",
    "\n",
    "\tArgs:\n",
    "\t\tnum (float): number\n",
    "\n",
    "\tReturns:\n",
    "\t\tfloat: formatted number\n",
    "\t\"\"\"\n",
    "\treturn f'{num :.3f}'"
   ]
  },
  {
   "cell_type": "markdown",
   "metadata": {},
   "source": [
    "## Main"
   ]
  },
  {
   "cell_type": "code",
   "execution_count": null,
   "metadata": {
    "lines_to_next_cell": 2
   },
   "outputs": [],
   "source": [
    "def main():\n",
    "\t\"\"\"Runs script\n",
    "\t\"\"\"\n",
    "\t## Input\n",
    "\tmean, sd, less_than, interval_1, interval_2 = get_input()\n",
    "\n",
    "\t## Cum prob for less than\n",
    "\tcum_prob_less_than = calc_cum_distr(less_than, mean, sd)\n",
    "\tprint( format_scale(cum_prob_less_than))\n",
    "\n",
    "\t## Interval cum prob\n",
    "\tint1_cum_prob = calc_cum_distr(interval_1, mean, sd)\n",
    "\tint2_cum_prob = calc_cum_distr(interval_2, mean, sd)\n",
    "\tinterval_cum_prob = int2_cum_prob - int1_cum_prob\n",
    "\tprint( format_scale(interval_cum_prob))"
   ]
  },
  {
   "cell_type": "code",
   "execution_count": null,
   "metadata": {},
   "outputs": [],
   "source": [
    "if __name__ == \"__main__\":\n",
    "\tmain()"
   ]
  }
 ],
 "metadata": {
  "jupytext": {
   "cell_metadata_filter": "-all",
   "notebook_metadata_filter": "-all",
   "text_representation": {
    "extension": ".py",
    "format_name": "light"
   }
  },
  "kernelspec": {
   "display_name": "Python 3",
   "language": "python",
   "name": "python3"
  },
  "language_info": {
   "codemirror_mode": {
    "name": "ipython",
    "version": 3
   },
   "file_extension": ".py",
   "mimetype": "text/x-python",
   "name": "python",
   "nbconvert_exporter": "python",
   "pygments_lexer": "ipython3",
   "version": "3.8.3"
  }
 },
 "nbformat": 4,
 "nbformat_minor": 4
}
