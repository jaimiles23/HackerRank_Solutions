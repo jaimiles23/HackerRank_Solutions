{
 "cells": [
  {
   "cell_type": "markdown",
   "metadata": {},
   "source": [
    "Solution to: [Day 4: Geometric Distribution I](https://www.hackerrank.com/challenges/s10-geometric-distribution-1/problem)"
   ]
  },
  {
   "cell_type": "markdown",
   "metadata": {},
   "source": [
    "<h1 id=\"tocheading\">Table of Contents</h1>\n",
    "<div id=\"toc\"></div>"
   ]
  },
  {
   "cell_type": "code",
   "execution_count": 1,
   "metadata": {},
   "outputs": [],
   "source": [
    "%%javascript\n",
    "$.getScript('https://kmahelona.github.io/ipython_notebook_goodies/ipython_notebook_toc.js')"
   ]
  },
  {
   "cell_type": "markdown",
   "metadata": {},
   "source": [
    "This script contains 3 sections:\n",
    "    1. Notes on Geometric distributions\n",
    "    2. Math solution \n",
    "    2. Python solution "
   ]
  },
  {
   "cell_type": "markdown",
   "metadata": {},
   "source": [
    "# Solution"
   ]
  },
  {
   "cell_type": "markdown",
   "metadata": {},
   "source": [
    "## Imports"
   ]
  },
  {
   "cell_type": "code",
   "execution_count": 2,
   "metadata": {},
   "outputs": [],
   "source": [
    "from typing import Tuple"
   ]
  },
  {
   "cell_type": "markdown",
   "metadata": {},
   "source": [
    "## Input"
   ]
  },
  {
   "cell_type": "code",
   "execution_count": 3,
   "metadata": {},
   "outputs": [],
   "source": [
    "def get_input() -> Tuple[float, int]:\n",
    "    \"\"\"Returns tuple input from standard in.\n",
    "\n",
    "    Returns:\n",
    "        Tuple[float, int]: (% of defective pistons,  size of current batch of pistons)\n",
    "    \"\"\"\n",
    "    perc_defective_pistons, num_pistons = [int(val) for val in input().split()]\n",
    "    return (perc_defective_pistons / 100, num_pistons)\n"
   ]
  },
  {
   "cell_type": "markdown",
   "metadata": {},
   "source": [
    "# Mass probability function"
   ]
  },
  {
   "cell_type": "code",
   "execution_count": 4,
   "metadata": {},
   "outputs": [],
   "source": [
    "\n",
    "def factorial(n: int) -> int:\n",
    "    \"\"\"Returns factorial of n\n",
    "\n",
    "    Args:\n",
    "        n (int): number to take factorial\n",
    "\n",
    "    Returns:\n",
    "        int: factorial result\n",
    "    \"\"\"\n",
    "    output = 1\n",
    "    for i in range(n, 0, -1):\n",
    "        output *= i\n",
    "    return output\n",
    "\n",
    "\n",
    "def get_mass_prob(x: int, n: int, p: float) -> float:\n",
    "    \"\"\"Returns mass probability function of b(x, n, p)\n",
    "\n",
    "    Args:\n",
    "        x (int): number of units\n",
    "        n (int): total number of units\n",
    "        p (float): percent chance to reach target\n",
    "\n",
    "    Returns:\n",
    "        float: percent chance to return x units out of n\n",
    "    \"\"\"\n",
    "    q = 1 - p\n",
    "    combinations = factorial(n) / (factorial(x) * factorial(n-x))\n",
    "    return combinations * p ** x * q ** (n - x)\n",
    "\n",
    "\n",
    "def get_cum_prob(lower_limit: int, upper_limit: int, n: int, p: float) -> float:\n",
    "    \"\"\"Returns cumulative probability of returning number between lower & upper limit (inclusive).\n",
    "\n",
    "    Args:\n",
    "        lower_limit (int): lower limit of cum probability\n",
    "        upper_limit (int): upper limit of cum probability\n",
    "        n (int): total number of trials\n",
    "        p (float): percent of returning success\n",
    "\n",
    "    Returns:\n",
    "        float: cumulative probability to return between lower and upper limit\n",
    "    \"\"\"\n",
    "    cum_prob = 0\n",
    "    for i in range(lower_limit, upper_limit + 1):\n",
    "        cum_prob += get_mass_prob(i, n, p)\n",
    "    return cum_prob\n",
    "\n",
    "\n",
    "def format_scale(num: float) -> float:\n",
    "    \"\"\"Returns number formatted to 4 decimal places\n",
    "\n",
    "    Args:\n",
    "        num (float): Number to format\n",
    "\n",
    "    Returns:\n",
    "        float: Formatted number\n",
    "    \"\"\"\n",
    "    return \"{:.3f}\".format(num)\n",
    "\n"
   ]
  },
  {
   "cell_type": "markdown",
   "metadata": {},
   "source": [
    "## Main"
   ]
  },
  {
   "cell_type": "code",
   "execution_count": 5,
   "metadata": {},
   "outputs": [
    {
     "name": "stdout",
     "output_type": "stream",
     "text": [
      "12 10\n",
      "0.891\n",
      "0.342\n"
     ]
    }
   ],
   "source": [
    "def main():\n",
    "    ## Input\n",
    "    percent_dysfunc, pistons = get_input()\n",
    "\n",
    "    lower, upper = 0, 2\n",
    "    cum_prob = get_cum_prob(lower, upper, pistons, percent_dysfunc)\n",
    "    print(format_scale(cum_prob))\n",
    "\n",
    "    lower, upper = 2, pistons\n",
    "    cum_prob = get_cum_prob(lower, upper, pistons, percent_dysfunc)\n",
    "    print(format_scale(cum_prob))\n",
    "\n",
    "\n",
    "if __name__ == \"__main__\":\n",
    "    main()\n"
   ]
  },
  {
   "cell_type": "code",
   "execution_count": null,
   "metadata": {},
   "outputs": [],
   "source": []
  }
 ],
 "metadata": {
  "jupytext": {
   "cell_metadata_filter": "-all",
   "notebook_metadata_filter": "-all",
   "text_representation": {
    "extension": ".py",
    "format_name": "light"
   }
  },
  "kernelspec": {
   "display_name": "Python 3",
   "language": "python",
   "name": "python3"
  },
  "language_info": {
   "codemirror_mode": {
    "name": "ipython",
    "version": 3
   },
   "file_extension": ".py",
   "mimetype": "text/x-python",
   "name": "python",
   "nbconvert_exporter": "python",
   "pygments_lexer": "ipython3",
   "version": "3.8.3"
  }
 },
 "nbformat": 4,
 "nbformat_minor": 4
}
