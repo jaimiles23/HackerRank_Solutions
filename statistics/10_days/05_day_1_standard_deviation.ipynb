{
 "cells": [
  {
   "cell_type": "code",
   "execution_count": null,
   "metadata": {},
   "outputs": [],
   "source": [
    "\"\"\"/**\n",
    " * @author [Jai Miles]\n",
    " * @email [jaimiles23@gmail.com]\n",
    " * @create date 2020-09-12 11:29:49\n",
    " * @modify date 2020-09-12 20:34:51\n",
    " * @desc [Solution to: Day 1: Standard Deviation\n",
    "\t\thttps://www.hackerrank.com/challenges/s10-standard-deviation/problem]\n",
    "\n",
    "## Wiki Definition\n",
    "In statistics, the standard deviation is a measure of the amount of variation or dispersion of a set of values.\n",
    "A low standard deviation indicates that the values tend to be close to the mean (also called the expected value) of the set, \n",
    "while a high standard deviation indicates that the values are spread out over a wider range.\n",
    "\n",
    "## Formula\n",
    "sd = (Summation{(xi - mean) ** 2)}) ** 1/2 / n\n",
    "\n",
    "## NOTE:\n",
    "\t- Scale of 1 decimal\n",
    "\n",
    " */\n",
    "\"\"\""
   ]
  },
  {
   "cell_type": "markdown",
   "metadata": {},
   "source": [
    "#########\n",
    "Imports\n",
    "#########"
   ]
  },
  {
   "cell_type": "code",
   "execution_count": null,
   "metadata": {},
   "outputs": [],
   "source": [
    "from typing import List, Tuple"
   ]
  },
  {
   "cell_type": "markdown",
   "metadata": {},
   "source": [
    "#########\n",
    "Input\n",
    "#########"
   ]
  },
  {
   "cell_type": "code",
   "execution_count": null,
   "metadata": {},
   "outputs": [],
   "source": [
    "def get_inputs() -> Tuple[int, list]:\n",
    "\t\"\"\"Return tuple of inputs:\n",
    "\t- n: int, number of elements in array.\n",
    "\t- nums: list, data elements\n",
    "\t\"\"\"\n",
    "\tn = int(input())\n",
    "\tnums = [int(val) for val in input().split()]\n",
    "\n",
    "\treturn (n, nums)"
   ]
  },
  {
   "cell_type": "markdown",
   "metadata": {},
   "source": [
    "#########\n",
    "Standard Deviation\n",
    "#########"
   ]
  },
  {
   "cell_type": "code",
   "execution_count": null,
   "metadata": {},
   "outputs": [],
   "source": [
    "def calc_stdev(n: int, nums: List[int]) -> float:\n",
    "\t\"\"\"Returns standard deviation from nums.\"\"\"\n",
    "\ttot_squared_dist_from_mean = 0\n",
    "\tavg = sum(nums) / n\n",
    "\n",
    "\tfor num in nums:\n",
    "\t\tdist_from_mean = (num - avg) ** 2\n",
    "\t\ttot_squared_dist_from_mean += dist_from_mean\n",
    "\t\n",
    "\tvariance = tot_squared_dist_from_mean / n\n",
    "\treturn variance ** (1/2)"
   ]
  },
  {
   "cell_type": "markdown",
   "metadata": {},
   "source": [
    "#########\n",
    "Format scale\n",
    "#########"
   ]
  },
  {
   "cell_type": "code",
   "execution_count": null,
   "metadata": {},
   "outputs": [],
   "source": [
    "def format_scale(num: float) -> float:\n",
    "\t\"\"\"Formats number to 1 decimal place.\"\"\"\n",
    "\treturn '{0:.1f}'.format(num)"
   ]
  },
  {
   "cell_type": "markdown",
   "metadata": {},
   "source": [
    "#########\n",
    "Main\n",
    "#########"
   ]
  },
  {
   "cell_type": "code",
   "execution_count": null,
   "metadata": {
    "lines_to_next_cell": 2
   },
   "outputs": [],
   "source": [
    "def main():\n",
    "\t## Input\n",
    "\tn, nums = get_inputs()\n",
    "\n",
    "\t## Calc sd\n",
    "\tsd = calc_stdev(n, nums)\n",
    "\t\n",
    "\t## print\n",
    "\tprint(format_scale(sd))"
   ]
  },
  {
   "cell_type": "code",
   "execution_count": null,
   "metadata": {},
   "outputs": [],
   "source": [
    "if __name__ == \"__main__\":\n",
    "\tmain()"
   ]
  }
 ],
 "metadata": {
  "jupytext": {
   "cell_metadata_filter": "-all",
   "notebook_metadata_filter": "-all",
   "text_representation": {
    "extension": ".py",
    "format_name": "light"
   }
  },
  "kernelspec": {
   "display_name": "Python 3",
   "language": "python",
   "name": "python3"
  },
  "language_info": {
   "codemirror_mode": {
    "name": "ipython",
    "version": 3
   },
   "file_extension": ".py",
   "mimetype": "text/x-python",
   "name": "python",
   "nbconvert_exporter": "python",
   "pygments_lexer": "ipython3",
   "version": "3.8.3"
  }
 },
 "nbformat": 4,
 "nbformat_minor": 4
}
