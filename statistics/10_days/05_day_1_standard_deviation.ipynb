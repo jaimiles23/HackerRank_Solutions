{
 "cells": [
  {
   "cell_type": "markdown",
   "metadata": {},
   "source": [
    "Solution to: [Day 1: Standard Deviation](https://www.hackerrank.com/challenges/s10-standard-deviation/problem)"
   ]
  },
  {
   "cell_type": "markdown",
   "metadata": {},
   "source": [
    "<h1 id=\"tocheading\">Table of Contents</h1>\n",
    "<div id=\"toc\"></div>"
   ]
  },
  {
   "cell_type": "code",
   "execution_count": 1,
   "metadata": {},
   "outputs": [
    {
     "data": {
      "application/javascript": [
       "$.getScript('https://kmahelona.github.io/ipython_notebook_goodies/ipython_notebook_toc.js')\n"
      ],
      "text/plain": [
       "<IPython.core.display.Javascript object>"
      ]
     },
     "metadata": {},
     "output_type": "display_data"
    }
   ],
   "source": [
    " %%javascript\n",
    "$.getScript('https://kmahelona.github.io/ipython_notebook_goodies/ipython_notebook_toc.js')"
   ]
  },
  {
   "cell_type": "markdown",
   "metadata": {},
   "source": [
    "## Wiki Definition\n",
    "In statistics, the standard deviation is a measure of the amount of variation or dispersion of a set of values.\n",
    "\n",
    "A low standard deviation indicates that the values tend to be close to the mean (also called the expected value) of the set, \n",
    "while a high standard deviation indicates that the values are spread out over a wider range."
   ]
  },
  {
   "cell_type": "markdown",
   "metadata": {},
   "source": [
    "## Formula\n",
    "\n",
    "### Mean\n",
    "\n",
    "$$\n",
    "\\Large\n",
    "\\mu = \\frac\n",
    "{\\sum_{i=0}^{N-1} x_{i}}\n",
    "{N}\n",
    "$$\n",
    "\n",
    "### Standard Deviation\n",
    "\n",
    "$$\n",
    "\\Large\n",
    "\\sigma = \\sqrt{\n",
    "\\frac\n",
    "{\\sum_{i=0}^{N-1}(x_{i} - \\mu) ^ 2}\n",
    "{N}\n",
    "}\n",
    "$$"
   ]
  },
  {
   "cell_type": "markdown",
   "metadata": {},
   "source": [
    "# Solution"
   ]
  },
  {
   "cell_type": "markdown",
   "metadata": {},
   "source": [
    "## Imports"
   ]
  },
  {
   "cell_type": "code",
   "execution_count": 2,
   "metadata": {},
   "outputs": [],
   "source": [
    "from typing import List, Tuple"
   ]
  },
  {
   "cell_type": "markdown",
   "metadata": {},
   "source": [
    "## Input"
   ]
  },
  {
   "cell_type": "code",
   "execution_count": 3,
   "metadata": {},
   "outputs": [],
   "source": [
    "def get_inputs() -> Tuple[int, list]:\n",
    "\t\"\"\"Return tuple of inputs:\n",
    "\t- n: int, number of elements in array.\n",
    "\t- nums: list, data elements\n",
    "\t\"\"\"\n",
    "\tn = int(input())\n",
    "\tnums = [int(val) for val in input().split()]\n",
    "\n",
    "\treturn (n, nums)"
   ]
  },
  {
   "cell_type": "markdown",
   "metadata": {},
   "source": [
    "## Standard Deviation"
   ]
  },
  {
   "cell_type": "code",
   "execution_count": 4,
   "metadata": {},
   "outputs": [],
   "source": [
    "def calc_stdev(n: int, nums: List[int]) -> float:\n",
    "\t\"\"\"Returns standard deviation from nums.\"\"\"\n",
    "\ttot_squared_dist_from_mean = 0\n",
    "\tavg = sum(nums) / n\n",
    "\n",
    "\tfor num in nums:\n",
    "\t\tdist_from_mean = (num - avg) ** 2\n",
    "\t\ttot_squared_dist_from_mean += dist_from_mean\n",
    "\t\n",
    "\tvariance = tot_squared_dist_from_mean / n\n",
    "\treturn variance ** (1/2)"
   ]
  },
  {
   "cell_type": "markdown",
   "metadata": {},
   "source": [
    "## Format Scale"
   ]
  },
  {
   "cell_type": "code",
   "execution_count": 5,
   "metadata": {},
   "outputs": [],
   "source": [
    "def format_scale(num: float) -> float:\n",
    "\t\"\"\"Formats number to 1 decimal place.\"\"\"\n",
    "\treturn '{0:.1f}'.format(num)"
   ]
  },
  {
   "cell_type": "markdown",
   "metadata": {},
   "source": [
    "## Main"
   ]
  },
  {
   "cell_type": "code",
   "execution_count": 6,
   "metadata": {
    "lines_to_next_cell": 2
   },
   "outputs": [],
   "source": [
    "def main():\n",
    "\t## Input\n",
    "\tn, nums = get_inputs()\n",
    "\n",
    "\t## Calc sd\n",
    "\tsd = calc_stdev(n, nums)\n",
    "\t\n",
    "\t## print\n",
    "\tprint(format_scale(sd))"
   ]
  },
  {
   "cell_type": "code",
   "execution_count": 7,
   "metadata": {},
   "outputs": [
    {
     "name": "stdout",
     "output_type": "stream",
     "text": [
      "5\n",
      "10 40 30 50 20\n",
      "14.1\n"
     ]
    }
   ],
   "source": [
    "if __name__ == \"__main__\":\n",
    "\tmain()"
   ]
  }
 ],
 "metadata": {
  "jupytext": {
   "cell_metadata_filter": "-all",
   "notebook_metadata_filter": "-all",
   "text_representation": {
    "extension": ".py",
    "format_name": "light"
   }
  },
  "kernelspec": {
   "display_name": "Python 3",
   "language": "python",
   "name": "python3"
  },
  "language_info": {
   "codemirror_mode": {
    "name": "ipython",
    "version": 3
   },
   "file_extension": ".py",
   "mimetype": "text/x-python",
   "name": "python",
   "nbconvert_exporter": "python",
   "pygments_lexer": "ipython3",
   "version": "3.8.3"
  }
 },
 "nbformat": 4,
 "nbformat_minor": 4
}
