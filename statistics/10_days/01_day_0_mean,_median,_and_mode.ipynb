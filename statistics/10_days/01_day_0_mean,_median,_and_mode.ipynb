{
 "cells": [
  {
   "cell_type": "markdown",
   "metadata": {},
   "source": [
    "\n",
    "/**\n",
    " * @author [Jai Miles]\n",
    " * @email [jaimiles23@gmail.com]\n",
    " * @create date 2020-09-11 16:24:44\n",
    " * @modify date 2020-09-11 17:21:36\n",
    " * @desc [Solution to: Day 0: Mean, Median, and Mode\n",
    "\t\thttps://www.hackerrank.com/challenges/s10-basic-statistics/problem]\n",
    "\n",
    "For this problem, I opted to re-write the measures of central tendency rather than use imported libraries.\n",
    "\n",
    "## Wiki definition\n",
    "In statistics, a central tendency (or measure of central tendency) is a central or typical value for a probability distribution.\n",
    "\n",
    "The most common measures of central tendency are the arithmetic mean, the median, and the mode. \n",
    "A middle tendency can be calculated for either a finite set of values or for a theoretical distribution, such as the normal distribution. \n",
    "Occasionally authors use central tendency to denote \"the tendency of quantitative data to cluster around some central value.\"\n",
    "\n",
    "The central tendency of a distribution is typically contrasted with its dispersion or variability; \n",
    "dispersion and central tendency are the often characterized properties of distributions. \n",
    "Analysis may judge whether data has a strong or a weak central tendency based on its dispersion.\n",
    "\n",
    "## Notes:\n",
    "\t- Print on separate lines (mean, median, mode)\n",
    "\t- Scale of 1 decimal place\n",
    "\t- With multiple mode values, select min.\n",
    " */\n",
    "\"\"\""
   ]
  },
  {
   "cell_type": "markdown",
   "metadata": {},
   "source": [
    "#########\n",
    "Imports\n",
    "#########"
   ]
  },
  {
   "cell_type": "code",
   "execution_count": null,
   "metadata": {},
   "outputs": [],
   "source": [
    "from collections import Counter  # used to count instances for mode\n",
    "from typing import List, Tuple, Union"
   ]
  },
  {
   "cell_type": "markdown",
   "metadata": {},
   "source": [
    "#########\n",
    "Constants\n",
    "#########"
   ]
  },
  {
   "cell_type": "code",
   "execution_count": null,
   "metadata": {},
   "outputs": [],
   "source": [
    "SCALE = 1\t# scale refers to number of decimal places"
   ]
  },
  {
   "cell_type": "markdown",
   "metadata": {},
   "source": [
    "#########\n",
    "Get Input\n",
    "#########"
   ]
  },
  {
   "cell_type": "code",
   "execution_count": null,
   "metadata": {},
   "outputs": [],
   "source": [
    "def get_input() -> Tuple[int, list]:\n",
    "\t\"\"\"Returns tuple of input:\n",
    "\tn: int, length of list.\n",
    "\tnums: list, nums to use.\n",
    "\t\"\"\"\n",
    "\tn = int(input())\n",
    "\tnums = sorted(int(num) for num in input().split())\n",
    "\treturn (n, nums)"
   ]
  },
  {
   "cell_type": "code",
   "execution_count": null,
   "metadata": {},
   "outputs": [],
   "source": []
  },
  {
   "cell_type": "markdown",
   "metadata": {},
   "source": [
    "#########\n",
    "Measures of Central Tendency funcs\n",
    "#########"
   ]
  },
  {
   "cell_type": "code",
   "execution_count": null,
   "metadata": {},
   "outputs": [],
   "source": [
    "def calc_mean(nums: List[int], n: int) -> Union[int, float]:\n",
    "\t\"\"\"Returns mean of nums list with n elements.\"\"\"\n",
    "\treturn format_scale( sum(nums) / n)"
   ]
  },
  {
   "cell_type": "code",
   "execution_count": null,
   "metadata": {},
   "outputs": [],
   "source": [
    "def calc_median(nums: List[int], n: int) -> Union[int, float]:\n",
    "\t\"\"\"Returns median of nums list with n elements.\"\"\"\n",
    "\tmid, is_odd = divmod(len(nums), 2)\n",
    "\tif is_odd:\n",
    "\t\tmedian = nums[mid]\n",
    "\telse:\n",
    "\t\tmedian = calc_mean( nums[mid - 1: mid + 1], 2)\n",
    "\treturn format_scale(median)"
   ]
  },
  {
   "cell_type": "code",
   "execution_count": null,
   "metadata": {},
   "outputs": [],
   "source": [
    "def calc_mode(nums: List[int], n: int) -> int:\n",
    "\t\"\"\"Returns mode of nums list.\n",
    "\t\n",
    "\tUses auxiliary get_mode_ties func.\n",
    "\t\"\"\"\n",
    "\tdef get_mode_ties(num_counts: dict, max_freq: int) -> int:\n",
    "\t\t\"\"\"Generator function to return contenders for mode in dict.\"\"\"\n",
    "\t\tfor num, count in num_counts.items():\n",
    "\t\t\tif count == max_freq:\n",
    "\t\t\t\tyield num\n",
    "\n",
    "\n",
    "\tnum_counts = Counter(nums)\n",
    "\tmax_freq = num_counts[ max( num_counts, key = num_counts.get)]\n",
    "\n",
    "\treturn min(list(get_mode_ties(num_counts, max_freq)))"
   ]
  },
  {
   "cell_type": "markdown",
   "metadata": {},
   "source": [
    "#########\n",
    "Aux Functions\n",
    "#########"
   ]
  },
  {
   "cell_type": "code",
   "execution_count": null,
   "metadata": {},
   "outputs": [],
   "source": [
    "def format_scale(num: Union[int, float]) -> float:\n",
    "\t\"\"\"Returns float number .\"\"\"\n",
    "\tif isinstance(num, int):\n",
    "\t\treturn num\n",
    "\treturn round(num, SCALE)"
   ]
  },
  {
   "cell_type": "markdown",
   "metadata": {},
   "source": [
    "#########\n",
    "Main\n",
    "#########"
   ]
  },
  {
   "cell_type": "code",
   "execution_count": null,
   "metadata": {
    "lines_to_next_cell": 2
   },
   "outputs": [],
   "source": [
    "def main():\n",
    "\tmeasure_central_tendency = (\n",
    "\t\tcalc_mean,\n",
    "\t\tcalc_median,\n",
    "\t\tcalc_mode\n",
    "\t)\n",
    "\tn, nums = get_input()\n",
    "\tfor measure in measure_central_tendency:\n",
    "\t\tprint(measure(nums, n))"
   ]
  },
  {
   "cell_type": "code",
   "execution_count": null,
   "metadata": {},
   "outputs": [],
   "source": [
    "if __name__ == \"__main__\":\n",
    "\tmain()"
   ]
  }
 ],
 "metadata": {
  "jupytext": {
   "cell_metadata_filter": "-all",
   "notebook_metadata_filter": "-all",
   "text_representation": {
    "extension": ".py",
    "format_name": "light"
   }
  },
  "kernelspec": {
   "display_name": "Python 3",
   "language": "python",
   "name": "python3"
  },
  "language_info": {
   "codemirror_mode": {
    "name": "ipython",
    "version": 3
   },
   "file_extension": ".py",
   "mimetype": "text/x-python",
   "name": "python",
   "nbconvert_exporter": "python",
   "pygments_lexer": "ipython3",
   "version": "3.8.3"
  }
 },
 "nbformat": 4,
 "nbformat_minor": 4
}
